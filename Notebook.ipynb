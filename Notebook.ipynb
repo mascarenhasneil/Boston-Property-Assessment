{
 "cells": [
  {
   "cell_type": "markdown",
   "id": "71b6a6d7",
   "metadata": {},
   "source": [
    "<center>    \n",
    "<h2>ALY6040 Fall 2021 B</h2><br>\n",
    "<h3>\n",
    "Final Group Assignment IV</h3>\n",
    "<h3>Neil, Sagar, Tejal </h3>\n",
    "\n",
    "<br><h4> Prof. Justin Grosz </h4>\n",
    "</center> "
   ]
  },
  {
   "cell_type": "code",
   "execution_count": 232,
   "id": "7c2e815a",
   "metadata": {
    "ExecuteTime": {
     "end_time": "2021-12-14T21:08:25.987037Z",
     "start_time": "2021-12-14T21:08:25.775038Z"
    }
   },
   "outputs": [],
   "source": [
    "## Importing required packages.\n",
    "\n",
    "import pandas as pd\n",
    "import numpy as np\n",
    "import seaborn as sns\n",
    "import matplotlib.pyplot as plt\n",
    "from scipy import stats\n",
    "import time\n",
    "import math\n",
    "from random import uniform\n",
    "from scipy.stats import  randint as sp_randint\n",
    "\n",
    "from tqdm import tqdm\n",
    "\n",
    "\n",
    "from sklearn import preprocessing\n",
    "from sklearn.preprocessing import OneHotEncoder, LabelEncoder\n",
    "from sklearn.metrics import accuracy_score,confusion_matrix,roc_auc_score,ConfusionMatrixDisplay,precision_score,recall_score,f1_score,classification_report,roc_curve,plot_roc_curve,auc,precision_recall_curve,plot_precision_recall_curve,average_precision_score,mean_squared_error, r2_score, ConfusionMatrixDisplay\n",
    "from sklearn.linear_model import LinearRegression, ridge_regression, Ridge, Lasso\n",
    "from sklearn.feature_selection import SequentialFeatureSelector\n",
    "\n",
    "from lightgbm import LGBMClassifier, LGBMRegressor\n",
    "\n",
    "import statsmodels.api as sm\n",
    "from sklearn.ensemble import RandomForestClassifier, RandomForestRegressor # Import Random Forest Classifier\n",
    "from sklearn.tree import DecisionTreeClassifier # Import Decision Tree Classifier\n",
    "from sklearn.model_selection import train_test_split, RandomizedSearchCV # Import train_test_split function\n",
    "from sklearn import metrics #Import scikit-learn metrics module for accuracy calculation"
   ]
  },
  {
   "cell_type": "code",
   "execution_count": 233,
   "id": "c43da0dc",
   "metadata": {
    "ExecuteTime": {
     "end_time": "2021-12-14T21:08:26.047049Z",
     "start_time": "2021-12-14T21:08:26.003038Z"
    }
   },
   "outputs": [],
   "source": [
    "pd.set_option('display.max_columns', None)\n",
    "pd.set_option('display.max_rows', 100)\n",
    "pd.options.display.float_format = '{:.2f}'.format\n"
   ]
  },
  {
   "cell_type": "code",
   "execution_count": 234,
   "id": "01282e81",
   "metadata": {
    "ExecuteTime": {
     "end_time": "2021-12-14T21:08:34.445040Z",
     "start_time": "2021-12-14T21:08:26.061039Z"
    }
   },
   "outputs": [
    {
     "data": {
      "text/html": [
       "<div>\n",
       "<style scoped>\n",
       "    .dataframe tbody tr th:only-of-type {\n",
       "        vertical-align: middle;\n",
       "    }\n",
       "\n",
       "    .dataframe tbody tr th {\n",
       "        vertical-align: top;\n",
       "    }\n",
       "\n",
       "    .dataframe thead th {\n",
       "        text-align: right;\n",
       "    }\n",
       "</style>\n",
       "<table border=\"1\" class=\"dataframe\">\n",
       "  <thead>\n",
       "    <tr style=\"text-align: right;\">\n",
       "      <th></th>\n",
       "      <th>PID</th>\n",
       "      <th>CM_ID</th>\n",
       "      <th>GIS_ID</th>\n",
       "      <th>ST_NUM</th>\n",
       "      <th>ST_NAME</th>\n",
       "      <th>UNIT_NUM</th>\n",
       "      <th>CITY</th>\n",
       "      <th>ZIPCODE</th>\n",
       "      <th>BLDG_SEQ</th>\n",
       "      <th>NUM_BLDGS</th>\n",
       "      <th>LUC</th>\n",
       "      <th>LU</th>\n",
       "      <th>LU_DESC</th>\n",
       "      <th>BLDG_TYPE</th>\n",
       "      <th>OWN_OCC</th>\n",
       "      <th>OWNER</th>\n",
       "      <th>MAIL_ADDRESSEE</th>\n",
       "      <th>MAIL_ADDRESS</th>\n",
       "      <th>MAIL_CITY</th>\n",
       "      <th>MAIL_STATE</th>\n",
       "      <th>MAIL_ZIPCODE</th>\n",
       "      <th>RES_FLOOR</th>\n",
       "      <th>CD_FLOOR</th>\n",
       "      <th>RES_UNITS</th>\n",
       "      <th>COM_UNITS</th>\n",
       "      <th>LAND_SF</th>\n",
       "      <th>GROSS_AREA</th>\n",
       "      <th>LIVING_AREA</th>\n",
       "      <th>LAND_VALUE</th>\n",
       "      <th>BLDG_VALUE</th>\n",
       "      <th>TOTAL_VALUE</th>\n",
       "      <th>GROSS_TAX</th>\n",
       "      <th>YR_BUILT</th>\n",
       "      <th>YR_REMODEL</th>\n",
       "      <th>STRUCTURE_CLASS</th>\n",
       "      <th>ROOF_STRUCTURE</th>\n",
       "      <th>ROOF_COVER</th>\n",
       "      <th>INT_WALL</th>\n",
       "      <th>EXT_FINISHED</th>\n",
       "      <th>INT_COND</th>\n",
       "      <th>EXT_COND</th>\n",
       "      <th>OVERALL_COND</th>\n",
       "      <th>BED_RMS</th>\n",
       "      <th>FULL_BTH</th>\n",
       "      <th>HLF_BTH</th>\n",
       "      <th>KITCHEN</th>\n",
       "      <th>TT_RMS</th>\n",
       "      <th>BDRM_COND</th>\n",
       "      <th>BTHRM_STYLE1</th>\n",
       "      <th>BTHRM_STYLE2</th>\n",
       "      <th>BTHRM_STYLE3</th>\n",
       "      <th>KITCHEN_TYPE</th>\n",
       "      <th>KITCHEN_STYLE1</th>\n",
       "      <th>KITCHEN_STYLE2</th>\n",
       "      <th>KITCHEN_STYLE3</th>\n",
       "      <th>HEAT_TYPE</th>\n",
       "      <th>HEAT_FUEL</th>\n",
       "      <th>AC_TYPE</th>\n",
       "      <th>FIRE_PLACE</th>\n",
       "      <th>PlUMBING</th>\n",
       "      <th>NUM_PARKING</th>\n",
       "      <th>PROP_VIEW</th>\n",
       "      <th>CORNER_UNIT</th>\n",
       "    </tr>\n",
       "  </thead>\n",
       "  <tbody>\n",
       "    <tr>\n",
       "      <th>0</th>\n",
       "      <td>100001000</td>\n",
       "      <td>NaN</td>\n",
       "      <td>100001000.00</td>\n",
       "      <td>104 A 104</td>\n",
       "      <td>PUTNAM ST</td>\n",
       "      <td>NaN</td>\n",
       "      <td>EAST BOSTON</td>\n",
       "      <td>2128</td>\n",
       "      <td>1.00</td>\n",
       "      <td>1.00</td>\n",
       "      <td>105</td>\n",
       "      <td>R3</td>\n",
       "      <td>THREE-FAM DWELLING</td>\n",
       "      <td>RE - Row End</td>\n",
       "      <td>Y</td>\n",
       "      <td>PASCUCCI CARLO</td>\n",
       "      <td>NaN</td>\n",
       "      <td>195 LEXINGTON ST</td>\n",
       "      <td>EAST BOSTON</td>\n",
       "      <td>MA</td>\n",
       "      <td>02128</td>\n",
       "      <td>3.00</td>\n",
       "      <td>NaN</td>\n",
       "      <td>NaN</td>\n",
       "      <td>NaN</td>\n",
       "      <td>1150.00</td>\n",
       "      <td>3353.00</td>\n",
       "      <td>2202.00</td>\n",
       "      <td>$179,500.00</td>\n",
       "      <td>$539,900.00</td>\n",
       "      <td>$719,400.00</td>\n",
       "      <td>$7,676.00</td>\n",
       "      <td>1900.00</td>\n",
       "      <td>NaN</td>\n",
       "      <td>R -</td>\n",
       "      <td>F - Flat</td>\n",
       "      <td>C - Composition</td>\n",
       "      <td>N - Normal</td>\n",
       "      <td>A - Asbestos</td>\n",
       "      <td>A - Average</td>\n",
       "      <td>F - Fair</td>\n",
       "      <td>A - Average</td>\n",
       "      <td>6.00</td>\n",
       "      <td>3.00</td>\n",
       "      <td>NaN</td>\n",
       "      <td>3.00</td>\n",
       "      <td>12.00</td>\n",
       "      <td>NaN</td>\n",
       "      <td>S - Semi-Modern</td>\n",
       "      <td>S - Semi-Modern</td>\n",
       "      <td>S - Semi-Modern</td>\n",
       "      <td>3F - 3 Full Eat In Kitchens</td>\n",
       "      <td>S - Semi-Modern</td>\n",
       "      <td>S - Semi-Modern</td>\n",
       "      <td>S - Semi-Modern</td>\n",
       "      <td>W - Ht Water/Steam</td>\n",
       "      <td>NaN</td>\n",
       "      <td>N - None</td>\n",
       "      <td>NaN</td>\n",
       "      <td>NaN</td>\n",
       "      <td>3.00</td>\n",
       "      <td>A - Average</td>\n",
       "      <td>NaN</td>\n",
       "    </tr>\n",
       "    <tr>\n",
       "      <th>1</th>\n",
       "      <td>100002000</td>\n",
       "      <td>NaN</td>\n",
       "      <td>100002000.00</td>\n",
       "      <td>197</td>\n",
       "      <td>LEXINGTON ST</td>\n",
       "      <td>NaN</td>\n",
       "      <td>EAST BOSTON</td>\n",
       "      <td>2128</td>\n",
       "      <td>1.00</td>\n",
       "      <td>1.00</td>\n",
       "      <td>105</td>\n",
       "      <td>R3</td>\n",
       "      <td>THREE-FAM DWELLING</td>\n",
       "      <td>RM - Row Middle</td>\n",
       "      <td>Y</td>\n",
       "      <td>SEMBRANO RODERICK</td>\n",
       "      <td>NaN</td>\n",
       "      <td>197 LEXINGTON ST</td>\n",
       "      <td>EAST BOSTON</td>\n",
       "      <td>MA</td>\n",
       "      <td>02128</td>\n",
       "      <td>3.00</td>\n",
       "      <td>NaN</td>\n",
       "      <td>NaN</td>\n",
       "      <td>NaN</td>\n",
       "      <td>1150.00</td>\n",
       "      <td>3299.00</td>\n",
       "      <td>2307.00</td>\n",
       "      <td>$180,300.00</td>\n",
       "      <td>$564,500.00</td>\n",
       "      <td>$744,800.00</td>\n",
       "      <td>$7,947.02</td>\n",
       "      <td>1920.00</td>\n",
       "      <td>2000.00</td>\n",
       "      <td>R -</td>\n",
       "      <td>F - Flat</td>\n",
       "      <td>C - Composition</td>\n",
       "      <td>N - Normal</td>\n",
       "      <td>M - Vinyl</td>\n",
       "      <td>A - Average</td>\n",
       "      <td>A - Average</td>\n",
       "      <td>A - Average</td>\n",
       "      <td>3.00</td>\n",
       "      <td>3.00</td>\n",
       "      <td>NaN</td>\n",
       "      <td>3.00</td>\n",
       "      <td>9.00</td>\n",
       "      <td>NaN</td>\n",
       "      <td>M - Modern</td>\n",
       "      <td>M - Modern</td>\n",
       "      <td>M - Modern</td>\n",
       "      <td>3F - 3 Full Eat In Kitchens</td>\n",
       "      <td>M - Modern</td>\n",
       "      <td>M - Modern</td>\n",
       "      <td>M - Modern</td>\n",
       "      <td>F - Forced Hot Air</td>\n",
       "      <td>NaN</td>\n",
       "      <td>C - Central AC</td>\n",
       "      <td>NaN</td>\n",
       "      <td>NaN</td>\n",
       "      <td>NaN</td>\n",
       "      <td>A - Average</td>\n",
       "      <td>NaN</td>\n",
       "    </tr>\n",
       "    <tr>\n",
       "      <th>2</th>\n",
       "      <td>100003000</td>\n",
       "      <td>NaN</td>\n",
       "      <td>100003000.00</td>\n",
       "      <td>199</td>\n",
       "      <td>LEXINGTON ST</td>\n",
       "      <td>NaN</td>\n",
       "      <td>EAST BOSTON</td>\n",
       "      <td>2128</td>\n",
       "      <td>1.00</td>\n",
       "      <td>1.00</td>\n",
       "      <td>105</td>\n",
       "      <td>R3</td>\n",
       "      <td>THREE-FAM DWELLING</td>\n",
       "      <td>RM - Row Middle</td>\n",
       "      <td>N</td>\n",
       "      <td>CHEVARRIA ANA S</td>\n",
       "      <td>NaN</td>\n",
       "      <td>199 LEXINGTON ST</td>\n",
       "      <td>EAST BOSTON</td>\n",
       "      <td>MA</td>\n",
       "      <td>02128</td>\n",
       "      <td>3.00</td>\n",
       "      <td>NaN</td>\n",
       "      <td>NaN</td>\n",
       "      <td>NaN</td>\n",
       "      <td>1150.00</td>\n",
       "      <td>3392.00</td>\n",
       "      <td>2268.00</td>\n",
       "      <td>$180,800.00</td>\n",
       "      <td>$549,700.00</td>\n",
       "      <td>$730,500.00</td>\n",
       "      <td>$7,794.44</td>\n",
       "      <td>1905.00</td>\n",
       "      <td>1985.00</td>\n",
       "      <td>R -</td>\n",
       "      <td>F - Flat</td>\n",
       "      <td>C - Composition</td>\n",
       "      <td>N - Normal</td>\n",
       "      <td>M - Vinyl</td>\n",
       "      <td>A - Average</td>\n",
       "      <td>G - Good</td>\n",
       "      <td>A - Average</td>\n",
       "      <td>5.00</td>\n",
       "      <td>3.00</td>\n",
       "      <td>NaN</td>\n",
       "      <td>3.00</td>\n",
       "      <td>13.00</td>\n",
       "      <td>NaN</td>\n",
       "      <td>M - Modern</td>\n",
       "      <td>M - Modern</td>\n",
       "      <td>M - Modern</td>\n",
       "      <td>3F - 3 Full Eat In Kitchens</td>\n",
       "      <td>S - Semi-Modern</td>\n",
       "      <td>S - Semi-Modern</td>\n",
       "      <td>S - Semi-Modern</td>\n",
       "      <td>S - Space Heat</td>\n",
       "      <td>NaN</td>\n",
       "      <td>N - None</td>\n",
       "      <td>NaN</td>\n",
       "      <td>NaN</td>\n",
       "      <td>NaN</td>\n",
       "      <td>A - Average</td>\n",
       "      <td>NaN</td>\n",
       "    </tr>\n",
       "    <tr>\n",
       "      <th>3</th>\n",
       "      <td>100004000</td>\n",
       "      <td>NaN</td>\n",
       "      <td>100004000.00</td>\n",
       "      <td>201</td>\n",
       "      <td>LEXINGTON ST</td>\n",
       "      <td>NaN</td>\n",
       "      <td>EAST BOSTON</td>\n",
       "      <td>2128</td>\n",
       "      <td>1.00</td>\n",
       "      <td>1.00</td>\n",
       "      <td>105</td>\n",
       "      <td>R3</td>\n",
       "      <td>THREE-FAM DWELLING</td>\n",
       "      <td>RM - Row Middle</td>\n",
       "      <td>N</td>\n",
       "      <td>MADDALENI JAMES E, TS</td>\n",
       "      <td>NaN</td>\n",
       "      <td>PO BOX 557 #</td>\n",
       "      <td>EVERETT</td>\n",
       "      <td>MA</td>\n",
       "      <td>02149</td>\n",
       "      <td>3.00</td>\n",
       "      <td>NaN</td>\n",
       "      <td>NaN</td>\n",
       "      <td>NaN</td>\n",
       "      <td>1150.00</td>\n",
       "      <td>3108.00</td>\n",
       "      <td>2028.00</td>\n",
       "      <td>$181,400.00</td>\n",
       "      <td>$486,500.00</td>\n",
       "      <td>$667,900.00</td>\n",
       "      <td>$7,126.49</td>\n",
       "      <td>1900.00</td>\n",
       "      <td>1991.00</td>\n",
       "      <td>R -</td>\n",
       "      <td>M - Mansard</td>\n",
       "      <td>C - Composition</td>\n",
       "      <td>N - Normal</td>\n",
       "      <td>M - Vinyl</td>\n",
       "      <td>A - Average</td>\n",
       "      <td>A - Average</td>\n",
       "      <td>A - Average</td>\n",
       "      <td>5.00</td>\n",
       "      <td>3.00</td>\n",
       "      <td>NaN</td>\n",
       "      <td>3.00</td>\n",
       "      <td>11.00</td>\n",
       "      <td>NaN</td>\n",
       "      <td>S - Semi-Modern</td>\n",
       "      <td>S - Semi-Modern</td>\n",
       "      <td>S - Semi-Modern</td>\n",
       "      <td>3F - 3 Full Eat In Kitchens</td>\n",
       "      <td>S - Semi-Modern</td>\n",
       "      <td>S - Semi-Modern</td>\n",
       "      <td>S - Semi-Modern</td>\n",
       "      <td>W - Ht Water/Steam</td>\n",
       "      <td>NaN</td>\n",
       "      <td>N - None</td>\n",
       "      <td>NaN</td>\n",
       "      <td>NaN</td>\n",
       "      <td>NaN</td>\n",
       "      <td>A - Average</td>\n",
       "      <td>NaN</td>\n",
       "    </tr>\n",
       "    <tr>\n",
       "      <th>4</th>\n",
       "      <td>100005000</td>\n",
       "      <td>NaN</td>\n",
       "      <td>100005000.00</td>\n",
       "      <td>203</td>\n",
       "      <td>LEXINGTON ST</td>\n",
       "      <td>NaN</td>\n",
       "      <td>EAST BOSTON</td>\n",
       "      <td>2128</td>\n",
       "      <td>1.00</td>\n",
       "      <td>1.00</td>\n",
       "      <td>104</td>\n",
       "      <td>R2</td>\n",
       "      <td>TWO-FAM DWELLING</td>\n",
       "      <td>RE - Row End</td>\n",
       "      <td>Y</td>\n",
       "      <td>DIGIROLAMO JOHN A</td>\n",
       "      <td>NaN</td>\n",
       "      <td>203 LEXINGTON ST</td>\n",
       "      <td>EAST BOSTON</td>\n",
       "      <td>MA</td>\n",
       "      <td>02128</td>\n",
       "      <td>3.00</td>\n",
       "      <td>NaN</td>\n",
       "      <td>NaN</td>\n",
       "      <td>NaN</td>\n",
       "      <td>2010.00</td>\n",
       "      <td>3700.00</td>\n",
       "      <td>2546.00</td>\n",
       "      <td>$202,800.00</td>\n",
       "      <td>$511,400.00</td>\n",
       "      <td>$714,200.00</td>\n",
       "      <td>$7,620.52</td>\n",
       "      <td>1900.00</td>\n",
       "      <td>1978.00</td>\n",
       "      <td>R -</td>\n",
       "      <td>M - Mansard</td>\n",
       "      <td>C - Composition</td>\n",
       "      <td>N - Normal</td>\n",
       "      <td>M - Vinyl</td>\n",
       "      <td>A - Average</td>\n",
       "      <td>A - Average</td>\n",
       "      <td>A - Average</td>\n",
       "      <td>6.00</td>\n",
       "      <td>3.00</td>\n",
       "      <td>NaN</td>\n",
       "      <td>2.00</td>\n",
       "      <td>13.00</td>\n",
       "      <td>NaN</td>\n",
       "      <td>S - Semi-Modern</td>\n",
       "      <td>S - Semi-Modern</td>\n",
       "      <td>S - Semi-Modern</td>\n",
       "      <td>2F - 2 Full Eat In Kitchens</td>\n",
       "      <td>S - Semi-Modern</td>\n",
       "      <td>S - Semi-Modern</td>\n",
       "      <td>NaN</td>\n",
       "      <td>W - Ht Water/Steam</td>\n",
       "      <td>NaN</td>\n",
       "      <td>N - None</td>\n",
       "      <td>NaN</td>\n",
       "      <td>NaN</td>\n",
       "      <td>NaN</td>\n",
       "      <td>A - Average</td>\n",
       "      <td>NaN</td>\n",
       "    </tr>\n",
       "  </tbody>\n",
       "</table>\n",
       "</div>"
      ],
      "text/plain": [
       "         PID  CM_ID       GIS_ID     ST_NUM       ST_NAME UNIT_NUM  \\\n",
       "0  100001000    NaN 100001000.00  104 A 104     PUTNAM ST      NaN   \n",
       "1  100002000    NaN 100002000.00        197  LEXINGTON ST      NaN   \n",
       "2  100003000    NaN 100003000.00        199  LEXINGTON ST      NaN   \n",
       "3  100004000    NaN 100004000.00        201  LEXINGTON ST      NaN   \n",
       "4  100005000    NaN 100005000.00        203  LEXINGTON ST      NaN   \n",
       "\n",
       "          CITY  ZIPCODE  BLDG_SEQ  NUM_BLDGS  LUC  LU             LU_DESC  \\\n",
       "0  EAST BOSTON     2128      1.00       1.00  105  R3  THREE-FAM DWELLING   \n",
       "1  EAST BOSTON     2128      1.00       1.00  105  R3  THREE-FAM DWELLING   \n",
       "2  EAST BOSTON     2128      1.00       1.00  105  R3  THREE-FAM DWELLING   \n",
       "3  EAST BOSTON     2128      1.00       1.00  105  R3  THREE-FAM DWELLING   \n",
       "4  EAST BOSTON     2128      1.00       1.00  104  R2    TWO-FAM DWELLING   \n",
       "\n",
       "         BLDG_TYPE OWN_OCC                  OWNER MAIL_ADDRESSEE  \\\n",
       "0     RE - Row End       Y         PASCUCCI CARLO            NaN   \n",
       "1  RM - Row Middle       Y      SEMBRANO RODERICK            NaN   \n",
       "2  RM - Row Middle       N        CHEVARRIA ANA S            NaN   \n",
       "3  RM - Row Middle       N  MADDALENI JAMES E, TS            NaN   \n",
       "4     RE - Row End       Y      DIGIROLAMO JOHN A            NaN   \n",
       "\n",
       "       MAIL_ADDRESS    MAIL_CITY MAIL_STATE MAIL_ZIPCODE  RES_FLOOR  CD_FLOOR  \\\n",
       "0  195 LEXINGTON ST  EAST BOSTON         MA        02128       3.00       NaN   \n",
       "1  197 LEXINGTON ST  EAST BOSTON         MA        02128       3.00       NaN   \n",
       "2  199 LEXINGTON ST  EAST BOSTON         MA        02128       3.00       NaN   \n",
       "3      PO BOX 557 #      EVERETT         MA        02149       3.00       NaN   \n",
       "4  203 LEXINGTON ST  EAST BOSTON         MA        02128       3.00       NaN   \n",
       "\n",
       "   RES_UNITS  COM_UNITS  LAND_SF  GROSS_AREA  LIVING_AREA    LAND_VALUE  \\\n",
       "0        NaN        NaN  1150.00     3353.00      2202.00  $179,500.00    \n",
       "1        NaN        NaN  1150.00     3299.00      2307.00  $180,300.00    \n",
       "2        NaN        NaN  1150.00     3392.00      2268.00  $180,800.00    \n",
       "3        NaN        NaN  1150.00     3108.00      2028.00  $181,400.00    \n",
       "4        NaN        NaN  2010.00     3700.00      2546.00  $202,800.00    \n",
       "\n",
       "     BLDG_VALUE   TOTAL_VALUE   GROSS_TAX  YR_BUILT  YR_REMODEL  \\\n",
       "0  $539,900.00   $719,400.00   $7,676.00    1900.00         NaN   \n",
       "1  $564,500.00   $744,800.00   $7,947.02    1920.00     2000.00   \n",
       "2  $549,700.00   $730,500.00   $7,794.44    1905.00     1985.00   \n",
       "3  $486,500.00   $667,900.00   $7,126.49    1900.00     1991.00   \n",
       "4  $511,400.00   $714,200.00   $7,620.52    1900.00     1978.00   \n",
       "\n",
       "  STRUCTURE_CLASS ROOF_STRUCTURE       ROOF_COVER    INT_WALL  EXT_FINISHED  \\\n",
       "0             R -       F - Flat  C - Composition  N - Normal  A - Asbestos   \n",
       "1             R -       F - Flat  C - Composition  N - Normal     M - Vinyl   \n",
       "2             R -       F - Flat  C - Composition  N - Normal     M - Vinyl   \n",
       "3             R -    M - Mansard  C - Composition  N - Normal     M - Vinyl   \n",
       "4             R -    M - Mansard  C - Composition  N - Normal     M - Vinyl   \n",
       "\n",
       "      INT_COND     EXT_COND OVERALL_COND  BED_RMS  FULL_BTH  HLF_BTH  KITCHEN  \\\n",
       "0  A - Average     F - Fair  A - Average     6.00      3.00      NaN     3.00   \n",
       "1  A - Average  A - Average  A - Average     3.00      3.00      NaN     3.00   \n",
       "2  A - Average     G - Good  A - Average     5.00      3.00      NaN     3.00   \n",
       "3  A - Average  A - Average  A - Average     5.00      3.00      NaN     3.00   \n",
       "4  A - Average  A - Average  A - Average     6.00      3.00      NaN     2.00   \n",
       "\n",
       "   TT_RMS BDRM_COND     BTHRM_STYLE1     BTHRM_STYLE2     BTHRM_STYLE3  \\\n",
       "0   12.00       NaN  S - Semi-Modern  S - Semi-Modern  S - Semi-Modern   \n",
       "1    9.00       NaN       M - Modern       M - Modern       M - Modern   \n",
       "2   13.00       NaN       M - Modern       M - Modern       M - Modern   \n",
       "3   11.00       NaN  S - Semi-Modern  S - Semi-Modern  S - Semi-Modern   \n",
       "4   13.00       NaN  S - Semi-Modern  S - Semi-Modern  S - Semi-Modern   \n",
       "\n",
       "                  KITCHEN_TYPE   KITCHEN_STYLE1   KITCHEN_STYLE2  \\\n",
       "0  3F - 3 Full Eat In Kitchens  S - Semi-Modern  S - Semi-Modern   \n",
       "1  3F - 3 Full Eat In Kitchens       M - Modern       M - Modern   \n",
       "2  3F - 3 Full Eat In Kitchens  S - Semi-Modern  S - Semi-Modern   \n",
       "3  3F - 3 Full Eat In Kitchens  S - Semi-Modern  S - Semi-Modern   \n",
       "4  2F - 2 Full Eat In Kitchens  S - Semi-Modern  S - Semi-Modern   \n",
       "\n",
       "    KITCHEN_STYLE3           HEAT_TYPE HEAT_FUEL         AC_TYPE  FIRE_PLACE  \\\n",
       "0  S - Semi-Modern  W - Ht Water/Steam       NaN        N - None         NaN   \n",
       "1       M - Modern  F - Forced Hot Air       NaN  C - Central AC         NaN   \n",
       "2  S - Semi-Modern      S - Space Heat       NaN        N - None         NaN   \n",
       "3  S - Semi-Modern  W - Ht Water/Steam       NaN        N - None         NaN   \n",
       "4              NaN  W - Ht Water/Steam       NaN        N - None         NaN   \n",
       "\n",
       "  PlUMBING  NUM_PARKING    PROP_VIEW CORNER_UNIT  \n",
       "0      NaN         3.00  A - Average         NaN  \n",
       "1      NaN          NaN  A - Average         NaN  \n",
       "2      NaN          NaN  A - Average         NaN  \n",
       "3      NaN          NaN  A - Average         NaN  \n",
       "4      NaN          NaN  A - Average         NaN  "
      ]
     },
     "execution_count": 234,
     "metadata": {},
     "output_type": "execute_result"
    }
   ],
   "source": [
    "## Reading the data from the File.\n",
    "\n",
    "dataset = pd.read_csv(\"../data2021-full.csv\")\n",
    "dataset.head(5)"
   ]
  },
  {
   "cell_type": "code",
   "execution_count": 235,
   "id": "883a66c0",
   "metadata": {
    "ExecuteTime": {
     "end_time": "2021-12-14T21:08:34.521040Z",
     "start_time": "2021-12-14T21:08:34.467044Z"
    }
   },
   "outputs": [
    {
     "data": {
      "text/plain": [
       "(177091, 63)"
      ]
     },
     "execution_count": 235,
     "metadata": {},
     "output_type": "execute_result"
    }
   ],
   "source": [
    "dataset.shape"
   ]
  },
  {
   "cell_type": "code",
   "execution_count": 236,
   "id": "1cebf89a",
   "metadata": {
    "ExecuteTime": {
     "end_time": "2021-12-14T21:08:35.828033Z",
     "start_time": "2021-12-14T21:08:34.531050Z"
    },
    "scrolled": true
   },
   "outputs": [
    {
     "name": "stdout",
     "output_type": "stream",
     "text": [
      "<class 'pandas.core.frame.DataFrame'>\n",
      "RangeIndex: 177091 entries, 0 to 177090\n",
      "Data columns (total 63 columns):\n",
      " #   Column           Non-Null Count   Dtype  \n",
      "---  ------           --------------   -----  \n",
      " 0   PID              177091 non-null  int64  \n",
      " 1   CM_ID            87251 non-null   float64\n",
      " 2   GIS_ID           177088 non-null  float64\n",
      " 3   ST_NUM           167524 non-null  object \n",
      " 4   ST_NAME          177091 non-null  object \n",
      " 5   UNIT_NUM         76983 non-null   object \n",
      " 6   CITY             177091 non-null  object \n",
      " 7   ZIPCODE          177091 non-null  int64  \n",
      " 8   BLDG_SEQ         177035 non-null  float64\n",
      " 9   NUM_BLDGS        177035 non-null  float64\n",
      " 10  LUC              177091 non-null  int64  \n",
      " 11  LU               177091 non-null  object \n",
      " 12  LU_DESC          177091 non-null  object \n",
      " 13  BLDG_TYPE        175573 non-null  object \n",
      " 14  OWN_OCC          176915 non-null  object \n",
      " 15  OWNER            177021 non-null  object \n",
      " 16  MAIL_ADDRESSEE   39476 non-null   object \n",
      " 17  MAIL_ADDRESS     177001 non-null  object \n",
      " 18  MAIL_CITY        177015 non-null  object \n",
      " 19  MAIL_STATE       176726 non-null  object \n",
      " 20  MAIL_ZIPCODE     176966 non-null  object \n",
      " 21  RES_FLOOR        153619 non-null  float64\n",
      " 22  CD_FLOOR         59801 non-null   float64\n",
      " 23  RES_UNITS        76469 non-null   float64\n",
      " 24  COM_UNITS        13480 non-null   float64\n",
      " 25  LAND_SF          102779 non-null  float64\n",
      " 26  GROSS_AREA       153993 non-null  float64\n",
      " 27  LIVING_AREA      153983 non-null  float64\n",
      " 28  LAND_VALUE       88063 non-null   object \n",
      " 29  BLDG_VALUE       159012 non-null  object \n",
      " 30  TOTAL_VALUE      166865 non-null  object \n",
      " 31  GROSS_TAX        176915 non-null  object \n",
      " 32  YR_BUILT         153794 non-null  float64\n",
      " 33  YR_REMODEL       84939 non-null   float64\n",
      " 34  STRUCTURE_CLASS  78145 non-null   object \n",
      " 35  ROOF_STRUCTURE   140283 non-null  object \n",
      " 36  ROOF_COVER       140289 non-null  object \n",
      " 37  INT_WALL         129736 non-null  object \n",
      " 38  EXT_FINISHED     153699 non-null  object \n",
      " 39  INT_COND         129749 non-null  object \n",
      " 40  EXT_COND         140300 non-null  object \n",
      " 41  OVERALL_COND     167854 non-null  object \n",
      " 42  BED_RMS          126479 non-null  float64\n",
      " 43  FULL_BTH         129628 non-null  float64\n",
      " 44  HLF_BTH          33696 non-null   float64\n",
      " 45  KITCHEN          129631 non-null  float64\n",
      " 46  TT_RMS           129379 non-null  float64\n",
      " 47  BDRM_COND        67275 non-null   object \n",
      " 48  BTHRM_STYLE1     129633 non-null  object \n",
      " 49  BTHRM_STYLE2     82568 non-null   object \n",
      " 50  BTHRM_STYLE3     35077 non-null   object \n",
      " 51  KITCHEN_TYPE     129617 non-null  object \n",
      " 52  KITCHEN_STYLE1   129628 non-null  object \n",
      " 53  KITCHEN_STYLE2   32053 non-null   object \n",
      " 54  KITCHEN_STYLE3   14201 non-null   object \n",
      " 55  HEAT_TYPE        129476 non-null  object \n",
      " 56  HEAT_FUEL        67576 non-null   object \n",
      " 57  AC_TYPE          129475 non-null  object \n",
      " 58  FIRE_PLACE       34721 non-null   float64\n",
      " 59  PlUMBING         67584 non-null   object \n",
      " 60  NUM_PARKING      72930 non-null   float64\n",
      " 61  PROP_VIEW        129505 non-null  object \n",
      " 62  CORNER_UNIT      67589 non-null   object \n",
      "dtypes: float64(20), int64(3), object(40)\n",
      "memory usage: 85.1+ MB\n"
     ]
    }
   ],
   "source": [
    "dataset.info()"
   ]
  },
  {
   "cell_type": "markdown",
   "id": "6664e867",
   "metadata": {},
   "source": [
    "## Data Preprocessing and EDA"
   ]
  },
  {
   "cell_type": "code",
   "execution_count": 237,
   "id": "93610f8e",
   "metadata": {
    "ExecuteTime": {
     "end_time": "2021-12-14T21:08:35.939036Z",
     "start_time": "2021-12-14T21:08:35.837039Z"
    },
    "colab": {
     "base_uri": "https://localhost:8080/"
    },
    "id": "93610f8e",
    "outputId": "2178a10d-fe36-4f08-c777-29b1d4b9cda2",
    "scrolled": false
   },
   "outputs": [
    {
     "name": "stdout",
     "output_type": "stream",
     "text": [
      "The number of duplicates found in PID column: PID                176\n",
      "CM_ID                0\n",
      "GIS_ID             176\n",
      "ST_NUM             174\n",
      "ST_NAME            176\n",
      "UNIT_NUM             0\n",
      "CITY               176\n",
      "ZIPCODE            176\n",
      "BLDG_SEQ           176\n",
      "NUM_BLDGS          176\n",
      "LUC                176\n",
      "LU                 176\n",
      "LU_DESC            176\n",
      "BLDG_TYPE          176\n",
      "OWN_OCC              0\n",
      "OWNER              175\n",
      "MAIL_ADDRESSEE      45\n",
      "MAIL_ADDRESS       175\n",
      "MAIL_CITY          175\n",
      "MAIL_STATE         175\n",
      "MAIL_ZIPCODE       175\n",
      "RES_FLOOR          175\n",
      "CD_FLOOR             0\n",
      "RES_UNITS            0\n",
      "COM_UNITS            0\n",
      "LAND_SF              0\n",
      "GROSS_AREA         176\n",
      "LIVING_AREA        176\n",
      "LAND_VALUE           0\n",
      "BLDG_VALUE           0\n",
      "TOTAL_VALUE          0\n",
      "GROSS_TAX            0\n",
      "YR_BUILT           175\n",
      "YR_REMODEL          58\n",
      "STRUCTURE_CLASS    132\n",
      "ROOF_STRUCTURE     176\n",
      "ROOF_COVER         176\n",
      "INT_WALL           172\n",
      "EXT_FINISHED       176\n",
      "INT_COND           176\n",
      "EXT_COND           176\n",
      "OVERALL_COND       176\n",
      "BED_RMS            172\n",
      "FULL_BTH           175\n",
      "HLF_BTH             40\n",
      "KITCHEN            176\n",
      "TT_RMS             175\n",
      "BDRM_COND            0\n",
      "BTHRM_STYLE1       176\n",
      "BTHRM_STYLE2       108\n",
      "BTHRM_STYLE3        47\n",
      "KITCHEN_TYPE       173\n",
      "KITCHEN_STYLE1     176\n",
      "KITCHEN_STYLE2      71\n",
      "KITCHEN_STYLE3      24\n",
      "HEAT_TYPE          176\n",
      "HEAT_FUEL            0\n",
      "AC_TYPE            176\n",
      "FIRE_PLACE          16\n",
      "PlUMBING             0\n",
      "NUM_PARKING         99\n",
      "PROP_VIEW          176\n",
      "CORNER_UNIT          0\n",
      "dtype: int64\n"
     ]
    }
   ],
   "source": [
    "duplicates = dataset[dataset.duplicated(['PID'])]\n",
    "duplicates\n",
    "print(\"The number of duplicates found in PID column:\", duplicates.count())  # PID = 176"
   ]
  },
  {
   "cell_type": "code",
   "execution_count": 238,
   "id": "b4810039",
   "metadata": {
    "ExecuteTime": {
     "end_time": "2021-12-14T21:08:36.209034Z",
     "start_time": "2021-12-14T21:08:35.948039Z"
    },
    "id": "b4810039",
    "scrolled": false
   },
   "outputs": [],
   "source": [
    "dataset.drop_duplicates(['PID'],keep= 'last', inplace=True)"
   ]
  },
  {
   "cell_type": "code",
   "execution_count": 239,
   "id": "862115bc",
   "metadata": {
    "ExecuteTime": {
     "end_time": "2021-12-14T21:08:36.286038Z",
     "start_time": "2021-12-14T21:08:36.221041Z"
    },
    "colab": {
     "base_uri": "https://localhost:8080/"
    },
    "id": "862115bc",
    "outputId": "6f1351b5-8b60-406a-f0fb-a1fce46aa412",
    "scrolled": false
   },
   "outputs": [
    {
     "name": "stdout",
     "output_type": "stream",
     "text": [
      "The number of duplicates found in PID column: PID                0\n",
      "CM_ID              0\n",
      "GIS_ID             0\n",
      "ST_NUM             0\n",
      "ST_NAME            0\n",
      "UNIT_NUM           0\n",
      "CITY               0\n",
      "ZIPCODE            0\n",
      "BLDG_SEQ           0\n",
      "NUM_BLDGS          0\n",
      "LUC                0\n",
      "LU                 0\n",
      "LU_DESC            0\n",
      "BLDG_TYPE          0\n",
      "OWN_OCC            0\n",
      "OWNER              0\n",
      "MAIL_ADDRESSEE     0\n",
      "MAIL_ADDRESS       0\n",
      "MAIL_CITY          0\n",
      "MAIL_STATE         0\n",
      "MAIL_ZIPCODE       0\n",
      "RES_FLOOR          0\n",
      "CD_FLOOR           0\n",
      "RES_UNITS          0\n",
      "COM_UNITS          0\n",
      "LAND_SF            0\n",
      "GROSS_AREA         0\n",
      "LIVING_AREA        0\n",
      "LAND_VALUE         0\n",
      "BLDG_VALUE         0\n",
      "TOTAL_VALUE        0\n",
      "GROSS_TAX          0\n",
      "YR_BUILT           0\n",
      "YR_REMODEL         0\n",
      "STRUCTURE_CLASS    0\n",
      "ROOF_STRUCTURE     0\n",
      "ROOF_COVER         0\n",
      "INT_WALL           0\n",
      "EXT_FINISHED       0\n",
      "INT_COND           0\n",
      "EXT_COND           0\n",
      "OVERALL_COND       0\n",
      "BED_RMS            0\n",
      "FULL_BTH           0\n",
      "HLF_BTH            0\n",
      "KITCHEN            0\n",
      "TT_RMS             0\n",
      "BDRM_COND          0\n",
      "BTHRM_STYLE1       0\n",
      "BTHRM_STYLE2       0\n",
      "BTHRM_STYLE3       0\n",
      "KITCHEN_TYPE       0\n",
      "KITCHEN_STYLE1     0\n",
      "KITCHEN_STYLE2     0\n",
      "KITCHEN_STYLE3     0\n",
      "HEAT_TYPE          0\n",
      "HEAT_FUEL          0\n",
      "AC_TYPE            0\n",
      "FIRE_PLACE         0\n",
      "PlUMBING           0\n",
      "NUM_PARKING        0\n",
      "PROP_VIEW          0\n",
      "CORNER_UNIT        0\n",
      "dtype: int64\n"
     ]
    }
   ],
   "source": [
    "duplicates = dataset[dataset.duplicated(['PID'])]\n",
    "\n",
    "print(\"The number of duplicates found in PID column:\", duplicates.count())"
   ]
  },
  {
   "cell_type": "code",
   "execution_count": 240,
   "id": "b94c54cf",
   "metadata": {
    "ExecuteTime": {
     "end_time": "2021-12-14T21:08:42.051050Z",
     "start_time": "2021-12-14T21:08:36.298036Z"
    },
    "colab": {
     "base_uri": "https://localhost:8080/"
    },
    "id": "b94c54cf",
    "outputId": "6f45c164-776b-42d6-82d1-0b1f78ba45ac",
    "scrolled": true
   },
   "outputs": [
    {
     "name": "stdout",
     "output_type": "stream",
     "text": [
      "0 \t: 0% \t: PID\n",
      "89664 \t: 51% \t: CM_ID\n",
      "3 \t: 0% \t: GIS_ID\n",
      "9565 \t: 5% \t: ST_NUM\n",
      "0 \t: 0% \t: ST_NAME\n",
      "99932 \t: 56% \t: UNIT_NUM\n",
      "0 \t: 0% \t: CITY\n",
      "0 \t: 0% \t: ZIPCODE\n",
      "56 \t: 0% \t: BLDG_SEQ\n",
      "56 \t: 0% \t: NUM_BLDGS\n",
      "0 \t: 0% \t: LUC\n",
      "0 \t: 0% \t: LU\n",
      "0 \t: 0% \t: LU_DESC\n",
      "1518 \t: 1% \t: BLDG_TYPE\n",
      "167 \t: 0% \t: OWN_OCC\n",
      "69 \t: 0% \t: OWNER\n",
      "137484 \t: 78% \t: MAIL_ADDRESSEE\n",
      "89 \t: 0% \t: MAIL_ADDRESS\n",
      "75 \t: 0% \t: MAIL_CITY\n",
      "364 \t: 0% \t: MAIL_STATE\n",
      "124 \t: 0% \t: MAIL_ZIPCODE\n",
      "23472 \t: 13% \t: RES_FLOOR\n",
      "117114 \t: 66% \t: CD_FLOOR\n",
      "100446 \t: 57% \t: RES_UNITS\n",
      "163435 \t: 92% \t: COM_UNITS\n",
      "74303 \t: 42% \t: LAND_SF\n",
      "23098 \t: 13% \t: GROSS_AREA\n",
      "23108 \t: 13% \t: LIVING_AREA\n",
      "89019 \t: 50% \t: LAND_VALUE\n",
      "18070 \t: 10% \t: BLDG_VALUE\n",
      "10217 \t: 6% \t: TOTAL_VALUE\n",
      "167 \t: 0% \t: GROSS_TAX\n",
      "23296 \t: 13% \t: YR_BUILT\n",
      "92046 \t: 52% \t: YR_REMODEL\n",
      "98934 \t: 56% \t: STRUCTURE_CLASS\n",
      "36808 \t: 21% \t: ROOF_STRUCTURE\n",
      "36802 \t: 21% \t: ROOF_COVER\n",
      "47352 \t: 27% \t: INT_WALL\n",
      "23392 \t: 13% \t: EXT_FINISHED\n",
      "47342 \t: 27% \t: INT_COND\n",
      "36791 \t: 21% \t: EXT_COND\n",
      "9237 \t: 5% \t: OVERALL_COND\n",
      "50612 \t: 29% \t: BED_RMS\n",
      "47463 \t: 27% \t: FULL_BTH\n",
      "143264 \t: 81% \t: HLF_BTH\n",
      "47460 \t: 27% \t: KITCHEN\n",
      "47712 \t: 27% \t: TT_RMS\n",
      "109640 \t: 62% \t: BDRM_COND\n",
      "47458 \t: 27% \t: BTHRM_STYLE1\n",
      "94510 \t: 53% \t: BTHRM_STYLE2\n",
      "141936 \t: 80% \t: BTHRM_STYLE3\n",
      "47471 \t: 27% \t: KITCHEN_TYPE\n",
      "47463 \t: 27% \t: KITCHEN_STYLE1\n",
      "144994 \t: 82% \t: KITCHEN_STYLE2\n",
      "162770 \t: 92% \t: KITCHEN_STYLE3\n",
      "47615 \t: 27% \t: HEAT_TYPE\n",
      "109339 \t: 62% \t: HEAT_FUEL\n",
      "47616 \t: 27% \t: AC_TYPE\n",
      "142227 \t: 80% \t: FIRE_PLACE\n",
      "109331 \t: 62% \t: PlUMBING\n",
      "104122 \t: 59% \t: NUM_PARKING\n",
      "47586 \t: 27% \t: PROP_VIEW\n",
      "109326 \t: 62% \t: CORNER_UNIT\n"
     ]
    }
   ],
   "source": [
    "# Check the percentage and count of the missing data \n",
    "\n",
    "for col in dataset.columns:\n",
    "    pct_missing = np.mean(dataset[col].isnull())\n",
    "    print('{} \\t: {}% \\t: {}'.format(sum(dataset[col].isnull()), round(pct_missing*100),col))"
   ]
  },
  {
   "cell_type": "code",
   "execution_count": 241,
   "id": "179e55a6",
   "metadata": {
    "ExecuteTime": {
     "end_time": "2021-12-14T21:08:42.150037Z",
     "start_time": "2021-12-14T21:08:42.061040Z"
    },
    "id": "179e55a6",
    "scrolled": false
   },
   "outputs": [],
   "source": [
    "index_names = ['PID','CM_ID','GIS_ID','ST_NUM','UNIT_NUM','MAIL_ADDRESSEE','LUC','LU', \\\n",
    "                       'CD_FLOOR','RES_FLOOR','RES_UNITS','COM_UNITS','LAND_SF', 'LU_DESC',\\\n",
    "                       'LAND_VALUE','YR_REMODEL','STRUCTURE_CLASS','ROOF_STRUCTURE', \\\n",
    "                       'ROOF_COVER','INT_WALL','INT_COND','BED_RMS','HLF_BTH','FULL_BTH',\n",
    "                       'BDRM_COND', 'BTHRM_STYLE2','BTHRM_STYLE3','KITCHEN_STYLE2', \\\n",
    "                       'KITCHEN_STYLE3', 'HEAT_FUEL', 'FIRE_PLACE', 'PlUMBING', \\\n",
    "                       'NUM_PARKING', 'PROP_VIEW', 'CORNER_UNIT', \\\n",
    "                       'OWNER', 'OWN_OCC', 'ST_NAME','MAIL_ADDRESS',\n",
    "                        'MAIL_CITY', 'MAIL_ZIPCODE','OVERALL_COND','KITCHEN_STYLE1']\n",
    "\n",
    "    \n",
    "    \n",
    "# drop these row \n",
    "# from dataFrame\n",
    "BosProp = dataset.drop(index_names, inplace = False, axis='columns')"
   ]
  },
  {
   "cell_type": "code",
   "execution_count": 242,
   "id": "60d4916f",
   "metadata": {
    "ExecuteTime": {
     "end_time": "2021-12-14T21:08:42.224041Z",
     "start_time": "2021-12-14T21:08:42.160037Z"
    },
    "colab": {
     "base_uri": "https://localhost:8080/",
     "height": 635
    },
    "id": "60d4916f",
    "outputId": "0ddc2f1a-230f-45c1-c6f9-8e6d68e5509c",
    "scrolled": false
   },
   "outputs": [
    {
     "data": {
      "text/html": [
       "<div>\n",
       "<style scoped>\n",
       "    .dataframe tbody tr th:only-of-type {\n",
       "        vertical-align: middle;\n",
       "    }\n",
       "\n",
       "    .dataframe tbody tr th {\n",
       "        vertical-align: top;\n",
       "    }\n",
       "\n",
       "    .dataframe thead th {\n",
       "        text-align: right;\n",
       "    }\n",
       "</style>\n",
       "<table border=\"1\" class=\"dataframe\">\n",
       "  <thead>\n",
       "    <tr style=\"text-align: right;\">\n",
       "      <th></th>\n",
       "      <th>CITY</th>\n",
       "      <th>ZIPCODE</th>\n",
       "      <th>BLDG_SEQ</th>\n",
       "      <th>NUM_BLDGS</th>\n",
       "      <th>BLDG_TYPE</th>\n",
       "      <th>MAIL_STATE</th>\n",
       "      <th>GROSS_AREA</th>\n",
       "      <th>LIVING_AREA</th>\n",
       "      <th>BLDG_VALUE</th>\n",
       "      <th>TOTAL_VALUE</th>\n",
       "      <th>GROSS_TAX</th>\n",
       "      <th>YR_BUILT</th>\n",
       "      <th>EXT_FINISHED</th>\n",
       "      <th>EXT_COND</th>\n",
       "      <th>KITCHEN</th>\n",
       "      <th>TT_RMS</th>\n",
       "      <th>BTHRM_STYLE1</th>\n",
       "      <th>KITCHEN_TYPE</th>\n",
       "      <th>HEAT_TYPE</th>\n",
       "      <th>AC_TYPE</th>\n",
       "    </tr>\n",
       "  </thead>\n",
       "  <tbody>\n",
       "    <tr>\n",
       "      <th>0</th>\n",
       "      <td>EAST BOSTON</td>\n",
       "      <td>2128</td>\n",
       "      <td>1.00</td>\n",
       "      <td>1.00</td>\n",
       "      <td>RE - Row End</td>\n",
       "      <td>MA</td>\n",
       "      <td>3353.00</td>\n",
       "      <td>2202.00</td>\n",
       "      <td>$539,900.00</td>\n",
       "      <td>$719,400.00</td>\n",
       "      <td>$7,676.00</td>\n",
       "      <td>1900.00</td>\n",
       "      <td>A - Asbestos</td>\n",
       "      <td>F - Fair</td>\n",
       "      <td>3.00</td>\n",
       "      <td>12.00</td>\n",
       "      <td>S - Semi-Modern</td>\n",
       "      <td>3F - 3 Full Eat In Kitchens</td>\n",
       "      <td>W - Ht Water/Steam</td>\n",
       "      <td>N - None</td>\n",
       "    </tr>\n",
       "    <tr>\n",
       "      <th>1</th>\n",
       "      <td>EAST BOSTON</td>\n",
       "      <td>2128</td>\n",
       "      <td>1.00</td>\n",
       "      <td>1.00</td>\n",
       "      <td>RM - Row Middle</td>\n",
       "      <td>MA</td>\n",
       "      <td>3299.00</td>\n",
       "      <td>2307.00</td>\n",
       "      <td>$564,500.00</td>\n",
       "      <td>$744,800.00</td>\n",
       "      <td>$7,947.02</td>\n",
       "      <td>1920.00</td>\n",
       "      <td>M - Vinyl</td>\n",
       "      <td>A - Average</td>\n",
       "      <td>3.00</td>\n",
       "      <td>9.00</td>\n",
       "      <td>M - Modern</td>\n",
       "      <td>3F - 3 Full Eat In Kitchens</td>\n",
       "      <td>F - Forced Hot Air</td>\n",
       "      <td>C - Central AC</td>\n",
       "    </tr>\n",
       "    <tr>\n",
       "      <th>2</th>\n",
       "      <td>EAST BOSTON</td>\n",
       "      <td>2128</td>\n",
       "      <td>1.00</td>\n",
       "      <td>1.00</td>\n",
       "      <td>RM - Row Middle</td>\n",
       "      <td>MA</td>\n",
       "      <td>3392.00</td>\n",
       "      <td>2268.00</td>\n",
       "      <td>$549,700.00</td>\n",
       "      <td>$730,500.00</td>\n",
       "      <td>$7,794.44</td>\n",
       "      <td>1905.00</td>\n",
       "      <td>M - Vinyl</td>\n",
       "      <td>G - Good</td>\n",
       "      <td>3.00</td>\n",
       "      <td>13.00</td>\n",
       "      <td>M - Modern</td>\n",
       "      <td>3F - 3 Full Eat In Kitchens</td>\n",
       "      <td>S - Space Heat</td>\n",
       "      <td>N - None</td>\n",
       "    </tr>\n",
       "    <tr>\n",
       "      <th>3</th>\n",
       "      <td>EAST BOSTON</td>\n",
       "      <td>2128</td>\n",
       "      <td>1.00</td>\n",
       "      <td>1.00</td>\n",
       "      <td>RM - Row Middle</td>\n",
       "      <td>MA</td>\n",
       "      <td>3108.00</td>\n",
       "      <td>2028.00</td>\n",
       "      <td>$486,500.00</td>\n",
       "      <td>$667,900.00</td>\n",
       "      <td>$7,126.49</td>\n",
       "      <td>1900.00</td>\n",
       "      <td>M - Vinyl</td>\n",
       "      <td>A - Average</td>\n",
       "      <td>3.00</td>\n",
       "      <td>11.00</td>\n",
       "      <td>S - Semi-Modern</td>\n",
       "      <td>3F - 3 Full Eat In Kitchens</td>\n",
       "      <td>W - Ht Water/Steam</td>\n",
       "      <td>N - None</td>\n",
       "    </tr>\n",
       "    <tr>\n",
       "      <th>4</th>\n",
       "      <td>EAST BOSTON</td>\n",
       "      <td>2128</td>\n",
       "      <td>1.00</td>\n",
       "      <td>1.00</td>\n",
       "      <td>RE - Row End</td>\n",
       "      <td>MA</td>\n",
       "      <td>3700.00</td>\n",
       "      <td>2546.00</td>\n",
       "      <td>$511,400.00</td>\n",
       "      <td>$714,200.00</td>\n",
       "      <td>$7,620.52</td>\n",
       "      <td>1900.00</td>\n",
       "      <td>M - Vinyl</td>\n",
       "      <td>A - Average</td>\n",
       "      <td>2.00</td>\n",
       "      <td>13.00</td>\n",
       "      <td>S - Semi-Modern</td>\n",
       "      <td>2F - 2 Full Eat In Kitchens</td>\n",
       "      <td>W - Ht Water/Steam</td>\n",
       "      <td>N - None</td>\n",
       "    </tr>\n",
       "  </tbody>\n",
       "</table>\n",
       "</div>"
      ],
      "text/plain": [
       "          CITY  ZIPCODE  BLDG_SEQ  NUM_BLDGS        BLDG_TYPE MAIL_STATE  \\\n",
       "0  EAST BOSTON     2128      1.00       1.00     RE - Row End         MA   \n",
       "1  EAST BOSTON     2128      1.00       1.00  RM - Row Middle         MA   \n",
       "2  EAST BOSTON     2128      1.00       1.00  RM - Row Middle         MA   \n",
       "3  EAST BOSTON     2128      1.00       1.00  RM - Row Middle         MA   \n",
       "4  EAST BOSTON     2128      1.00       1.00     RE - Row End         MA   \n",
       "\n",
       "   GROSS_AREA  LIVING_AREA    BLDG_VALUE   TOTAL_VALUE   GROSS_TAX  YR_BUILT  \\\n",
       "0     3353.00      2202.00  $539,900.00   $719,400.00   $7,676.00    1900.00   \n",
       "1     3299.00      2307.00  $564,500.00   $744,800.00   $7,947.02    1920.00   \n",
       "2     3392.00      2268.00  $549,700.00   $730,500.00   $7,794.44    1905.00   \n",
       "3     3108.00      2028.00  $486,500.00   $667,900.00   $7,126.49    1900.00   \n",
       "4     3700.00      2546.00  $511,400.00   $714,200.00   $7,620.52    1900.00   \n",
       "\n",
       "   EXT_FINISHED     EXT_COND  KITCHEN  TT_RMS     BTHRM_STYLE1  \\\n",
       "0  A - Asbestos     F - Fair     3.00   12.00  S - Semi-Modern   \n",
       "1     M - Vinyl  A - Average     3.00    9.00       M - Modern   \n",
       "2     M - Vinyl     G - Good     3.00   13.00       M - Modern   \n",
       "3     M - Vinyl  A - Average     3.00   11.00  S - Semi-Modern   \n",
       "4     M - Vinyl  A - Average     2.00   13.00  S - Semi-Modern   \n",
       "\n",
       "                  KITCHEN_TYPE           HEAT_TYPE         AC_TYPE  \n",
       "0  3F - 3 Full Eat In Kitchens  W - Ht Water/Steam        N - None  \n",
       "1  3F - 3 Full Eat In Kitchens  F - Forced Hot Air  C - Central AC  \n",
       "2  3F - 3 Full Eat In Kitchens      S - Space Heat        N - None  \n",
       "3  3F - 3 Full Eat In Kitchens  W - Ht Water/Steam        N - None  \n",
       "4  2F - 2 Full Eat In Kitchens  W - Ht Water/Steam        N - None  "
      ]
     },
     "execution_count": 242,
     "metadata": {},
     "output_type": "execute_result"
    }
   ],
   "source": [
    "BosProp.head(5)\n"
   ]
  },
  {
   "cell_type": "code",
   "execution_count": 243,
   "id": "757185b2",
   "metadata": {
    "ExecuteTime": {
     "end_time": "2021-12-14T21:08:43.950037Z",
     "start_time": "2021-12-14T21:08:42.234040Z"
    },
    "colab": {
     "base_uri": "https://localhost:8080/"
    },
    "id": "757185b2",
    "outputId": "4adf5787-856d-45e1-e8a6-d9bf262a02eb",
    "scrolled": false
   },
   "outputs": [
    {
     "name": "stdout",
     "output_type": "stream",
     "text": [
      "0 \t: 0% \t: CITY\n",
      "0 \t: 0% \t: ZIPCODE\n",
      "56 \t: 0% \t: BLDG_SEQ\n",
      "56 \t: 0% \t: NUM_BLDGS\n",
      "1518 \t: 1% \t: BLDG_TYPE\n",
      "364 \t: 0% \t: MAIL_STATE\n",
      "23098 \t: 13% \t: GROSS_AREA\n",
      "23108 \t: 13% \t: LIVING_AREA\n",
      "18070 \t: 10% \t: BLDG_VALUE\n",
      "10217 \t: 6% \t: TOTAL_VALUE\n",
      "167 \t: 0% \t: GROSS_TAX\n",
      "23296 \t: 13% \t: YR_BUILT\n",
      "23392 \t: 13% \t: EXT_FINISHED\n",
      "36791 \t: 21% \t: EXT_COND\n",
      "47460 \t: 27% \t: KITCHEN\n",
      "47712 \t: 27% \t: TT_RMS\n",
      "47458 \t: 27% \t: BTHRM_STYLE1\n",
      "47471 \t: 27% \t: KITCHEN_TYPE\n",
      "47615 \t: 27% \t: HEAT_TYPE\n",
      "47616 \t: 27% \t: AC_TYPE\n"
     ]
    }
   ],
   "source": [
    "# Check the percentage and count of the missing data \n",
    "\n",
    "for col in BosProp.columns:\n",
    "    pct_missing = np.mean(BosProp[col].isnull())\n",
    "    print('{} \\t: {}% \\t: {}'.format(sum(BosProp[col].isnull()), round(pct_missing*100),col))"
   ]
  },
  {
   "cell_type": "code",
   "execution_count": 244,
   "id": "a797ed28",
   "metadata": {
    "ExecuteTime": {
     "end_time": "2021-12-14T21:08:44.281037Z",
     "start_time": "2021-12-14T21:08:43.962041Z"
    },
    "id": "a797ed28",
    "scrolled": false
   },
   "outputs": [],
   "source": [
    "BosProp.dropna(subset=['AC_TYPE'],inplace=True)"
   ]
  },
  {
   "cell_type": "code",
   "execution_count": 245,
   "id": "f17a5605",
   "metadata": {
    "ExecuteTime": {
     "end_time": "2021-12-14T21:08:45.375043Z",
     "start_time": "2021-12-14T21:08:44.293039Z"
    },
    "colab": {
     "base_uri": "https://localhost:8080/"
    },
    "id": "f17a5605",
    "outputId": "f8e29825-89c4-421a-b21b-08c4026c3d5a",
    "scrolled": false
   },
   "outputs": [
    {
     "name": "stdout",
     "output_type": "stream",
     "text": [
      "0 \t: 0% \t: CITY\n",
      "0 \t: 0% \t: ZIPCODE\n",
      "0 \t: 0% \t: BLDG_SEQ\n",
      "0 \t: 0% \t: NUM_BLDGS\n",
      "0 \t: 0% \t: BLDG_TYPE\n",
      "290 \t: 2% \t: MAIL_STATE\n",
      "25 \t: 0% \t: GROSS_AREA\n",
      "26 \t: 0% \t: LIVING_AREA\n",
      "175 \t: 1% \t: BLDG_VALUE\n",
      "167 \t: 1% \t: TOTAL_VALUE\n",
      "167 \t: 1% \t: GROSS_TAX\n",
      "38 \t: 0% \t: YR_BUILT\n",
      "0 \t: 0% \t: EXT_FINISHED\n",
      "6 \t: 0% \t: EXT_COND\n",
      "38 \t: 0% \t: KITCHEN\n",
      "102 \t: 1% \t: TT_RMS\n",
      "25 \t: 0% \t: BTHRM_STYLE1\n",
      "37 \t: 0% \t: KITCHEN_TYPE\n",
      "1 \t: 0% \t: HEAT_TYPE\n",
      "0 \t: 0% \t: AC_TYPE\n"
     ]
    }
   ],
   "source": [
    "# Check the percentage and count of the missing data \n",
    "\n",
    "for col in BosProp.columns:\n",
    "    pct_missing = np.mean(BosProp[col].isnull())\n",
    "\n",
    "    print('{} \\t: {}% \\t: {}'.format(sum(BosProp[col].isnull()), round(pct_missing*1000),col))"
   ]
  },
  {
   "cell_type": "code",
   "execution_count": 246,
   "id": "cc1ce85d",
   "metadata": {
    "ExecuteTime": {
     "end_time": "2021-12-14T21:08:45.688034Z",
     "start_time": "2021-12-14T21:08:45.386048Z"
    },
    "id": "cc1ce85d",
    "scrolled": false
   },
   "outputs": [],
   "source": [
    "# Droping the rows with missing values.\n",
    "BosProp.dropna(inplace=True)\n"
   ]
  },
  {
   "cell_type": "code",
   "execution_count": 247,
   "id": "eaecd16c",
   "metadata": {
    "ExecuteTime": {
     "end_time": "2021-12-14T21:08:46.922045Z",
     "start_time": "2021-12-14T21:08:45.700049Z"
    },
    "colab": {
     "base_uri": "https://localhost:8080/"
    },
    "id": "eaecd16c",
    "outputId": "a310894a-bda9-4204-a220-a0978bd125be",
    "scrolled": false
   },
   "outputs": [
    {
     "name": "stdout",
     "output_type": "stream",
     "text": [
      "0 \t: 0% \t: CITY\n",
      "0 \t: 0% \t: ZIPCODE\n",
      "0 \t: 0% \t: BLDG_SEQ\n",
      "0 \t: 0% \t: NUM_BLDGS\n",
      "0 \t: 0% \t: BLDG_TYPE\n",
      "0 \t: 0% \t: MAIL_STATE\n",
      "0 \t: 0% \t: GROSS_AREA\n",
      "0 \t: 0% \t: LIVING_AREA\n",
      "0 \t: 0% \t: BLDG_VALUE\n",
      "0 \t: 0% \t: TOTAL_VALUE\n",
      "0 \t: 0% \t: GROSS_TAX\n",
      "0 \t: 0% \t: YR_BUILT\n",
      "0 \t: 0% \t: EXT_FINISHED\n",
      "0 \t: 0% \t: EXT_COND\n",
      "0 \t: 0% \t: KITCHEN\n",
      "0 \t: 0% \t: TT_RMS\n",
      "0 \t: 0% \t: BTHRM_STYLE1\n",
      "0 \t: 0% \t: KITCHEN_TYPE\n",
      "0 \t: 0% \t: HEAT_TYPE\n",
      "0 \t: 0% \t: AC_TYPE\n"
     ]
    }
   ],
   "source": [
    "# Check the percentage and count of the missing data \n",
    "\n",
    "for col in BosProp.columns:\n",
    "    pct_missing = np.mean(BosProp[col].isnull())\n",
    "    print('{} \\t: {}% \\t: {}'.format(sum(BosProp[col].isnull()), round(pct_missing*100),col))"
   ]
  },
  {
   "cell_type": "code",
   "execution_count": 248,
   "id": "ec224d94",
   "metadata": {
    "ExecuteTime": {
     "end_time": "2021-12-14T21:08:46.967037Z",
     "start_time": "2021-12-14T21:08:46.933041Z"
    },
    "colab": {
     "base_uri": "https://localhost:8080/"
    },
    "id": "ec224d94",
    "outputId": "16d5f719-12c4-493f-846d-46e4e6ac2284",
    "scrolled": false
   },
   "outputs": [
    {
     "data": {
      "text/plain": [
       "(128678, 20)"
      ]
     },
     "execution_count": 248,
     "metadata": {},
     "output_type": "execute_result"
    }
   ],
   "source": [
    "BosProp.shape #(122570, 32) to (128825, 22)"
   ]
  },
  {
   "cell_type": "code",
   "execution_count": 249,
   "id": "143222f4",
   "metadata": {
    "ExecuteTime": {
     "end_time": "2021-12-14T21:08:47.045037Z",
     "start_time": "2021-12-14T21:08:46.977040Z"
    },
    "colab": {
     "base_uri": "https://localhost:8080/"
    },
    "id": "143222f4",
    "outputId": "e9b82042-1a57-436c-eba0-5ff860ed3ccb",
    "scrolled": false
   },
   "outputs": [
    {
     "data": {
      "text/plain": [
       "MA                123952\n",
       "NY                   727\n",
       "FL                   711\n",
       "CA                   601\n",
       "NH                   498\n",
       "CT                   314\n",
       "NJ                   218\n",
       "RI                   173\n",
       "TX                   159\n",
       "PA                   111\n",
       "ME                   105\n",
       "MD                    94\n",
       "VA                    89\n",
       "NC                    73\n",
       "IL                    73\n",
       "GA                    69\n",
       "OH                    62\n",
       "CO                    61\n",
       "VT                    55\n",
       "AZ                    51\n",
       "SC                    42\n",
       "WA                    40\n",
       "MI                    38\n",
       "MO                    34\n",
       "TN                    33\n",
       "NV                    28\n",
       "HI                    27\n",
       "DE                    27\n",
       "MN                    24\n",
       "DC                    22\n",
       "UT                    18\n",
       "OR                    15\n",
       "NM                    15\n",
       "IN                    14\n",
       "WI                    12\n",
       "LA                    11\n",
       "KS                    10\n",
       "WY                     7\n",
       "ID                     6\n",
       "MS                     6\n",
       "SD                     5\n",
       "KY                     5\n",
       "AL                     4\n",
       "IA                     4\n",
       "FRANCE                 3\n",
       "NE                     3\n",
       "AK                     2\n",
       "ISRAEL                 2\n",
       "CHINA                  2\n",
       "OK                     2\n",
       "UK                     2\n",
       "BC                     2\n",
       "AR                     2\n",
       "MT                     1\n",
       "SHANHAI CHINA          1\n",
       "UNITED KINGDOM         1\n",
       "M                      1\n",
       "CYPRUS                 1\n",
       "FULIAN                 1\n",
       "ITALY                  1\n",
       "D.C.                   1\n",
       "PUERTO RICO            1\n",
       "HONG KONG              1\n",
       "SWITZERLAND            1\n",
       "ND                     1\n",
       "PR                     1\n",
       "CANAD                  1\n",
       "FUJIAN                 1\n",
       "Name: MAIL_STATE, dtype: int64"
      ]
     },
     "execution_count": 249,
     "metadata": {},
     "output_type": "execute_result"
    }
   ],
   "source": [
    "## Counting all the states values as we focus on MA (Boston)  only.\n",
    "\n",
    "BosProp[\"MAIL_STATE\"].value_counts()"
   ]
  },
  {
   "cell_type": "code",
   "execution_count": 250,
   "id": "21f60cac",
   "metadata": {
    "ExecuteTime": {
     "end_time": "2021-12-14T21:08:47.234040Z",
     "start_time": "2021-12-14T21:08:47.054038Z"
    },
    "id": "21f60cac",
    "scrolled": false
   },
   "outputs": [],
   "source": [
    "## Keeping only MA values as we focus on Boston only.\n",
    "\n",
    "\n",
    "index_names = BosProp[ BosProp['MAIL_STATE'] != 'MA' ].index\n",
    "  \n",
    "# drop these row indexes\n",
    "# from dataFrame\n",
    "BosProp.drop(index_names, inplace = True) ## (124101, 22)"
   ]
  },
  {
   "cell_type": "code",
   "execution_count": 251,
   "id": "f9b0ea30",
   "metadata": {
    "ExecuteTime": {
     "end_time": "2021-12-14T21:08:47.316043Z",
     "start_time": "2021-12-14T21:08:47.244040Z"
    },
    "id": "f9b0ea30",
    "scrolled": false
   },
   "outputs": [],
   "source": [
    "## As all the values are MA, it woudl not make sense to perform predective anlytics on it.     \n",
    "    \n",
    "# drop these row \n",
    "# from dataFrame\n",
    "BosProp.drop('MAIL_STATE', inplace = True, axis='columns')"
   ]
  },
  {
   "cell_type": "code",
   "execution_count": 252,
   "id": "ad74e306",
   "metadata": {
    "ExecuteTime": {
     "end_time": "2021-12-14T21:08:53.197039Z",
     "start_time": "2021-12-14T21:08:47.325041Z"
    },
    "id": "ad74e306",
    "scrolled": false
   },
   "outputs": [],
   "source": [
    "### Converting currency to float.\n",
    "### The currency was in $719,400.00 format. we need to conveert it to 719400.00 to perform perform predective anlytics on it.\n",
    "\n",
    "for col in ['BLDG_VALUE','TOTAL_VALUE','GROSS_TAX']:\n",
    "    BosProp[col]=BosProp[col].replace({'\\$': '', ',': ''}, regex=True,).astype(float)"
   ]
  },
  {
   "cell_type": "code",
   "execution_count": 253,
   "id": "eb4fe64b",
   "metadata": {
    "ExecuteTime": {
     "end_time": "2021-12-14T21:08:53.291038Z",
     "start_time": "2021-12-14T21:08:53.218039Z"
    },
    "colab": {
     "base_uri": "https://localhost:8080/",
     "height": 704
    },
    "id": "eb4fe64b",
    "outputId": "b20eede0-8153-4cc3-f18b-87befab4bc69",
    "scrolled": false
   },
   "outputs": [
    {
     "data": {
      "text/html": [
       "<div>\n",
       "<style scoped>\n",
       "    .dataframe tbody tr th:only-of-type {\n",
       "        vertical-align: middle;\n",
       "    }\n",
       "\n",
       "    .dataframe tbody tr th {\n",
       "        vertical-align: top;\n",
       "    }\n",
       "\n",
       "    .dataframe thead th {\n",
       "        text-align: right;\n",
       "    }\n",
       "</style>\n",
       "<table border=\"1\" class=\"dataframe\">\n",
       "  <thead>\n",
       "    <tr style=\"text-align: right;\">\n",
       "      <th></th>\n",
       "      <th>CITY</th>\n",
       "      <th>ZIPCODE</th>\n",
       "      <th>BLDG_SEQ</th>\n",
       "      <th>NUM_BLDGS</th>\n",
       "      <th>BLDG_TYPE</th>\n",
       "      <th>GROSS_AREA</th>\n",
       "      <th>LIVING_AREA</th>\n",
       "      <th>BLDG_VALUE</th>\n",
       "      <th>TOTAL_VALUE</th>\n",
       "      <th>GROSS_TAX</th>\n",
       "      <th>YR_BUILT</th>\n",
       "      <th>EXT_FINISHED</th>\n",
       "      <th>EXT_COND</th>\n",
       "      <th>KITCHEN</th>\n",
       "      <th>TT_RMS</th>\n",
       "      <th>BTHRM_STYLE1</th>\n",
       "      <th>KITCHEN_TYPE</th>\n",
       "      <th>HEAT_TYPE</th>\n",
       "      <th>AC_TYPE</th>\n",
       "    </tr>\n",
       "  </thead>\n",
       "  <tbody>\n",
       "    <tr>\n",
       "      <th>0</th>\n",
       "      <td>EAST BOSTON</td>\n",
       "      <td>2128</td>\n",
       "      <td>1.00</td>\n",
       "      <td>1.00</td>\n",
       "      <td>RE - Row End</td>\n",
       "      <td>3353.00</td>\n",
       "      <td>2202.00</td>\n",
       "      <td>539900.00</td>\n",
       "      <td>719400.00</td>\n",
       "      <td>7676.00</td>\n",
       "      <td>1900.00</td>\n",
       "      <td>A - Asbestos</td>\n",
       "      <td>F - Fair</td>\n",
       "      <td>3.00</td>\n",
       "      <td>12.00</td>\n",
       "      <td>S - Semi-Modern</td>\n",
       "      <td>3F - 3 Full Eat In Kitchens</td>\n",
       "      <td>W - Ht Water/Steam</td>\n",
       "      <td>N - None</td>\n",
       "    </tr>\n",
       "    <tr>\n",
       "      <th>1</th>\n",
       "      <td>EAST BOSTON</td>\n",
       "      <td>2128</td>\n",
       "      <td>1.00</td>\n",
       "      <td>1.00</td>\n",
       "      <td>RM - Row Middle</td>\n",
       "      <td>3299.00</td>\n",
       "      <td>2307.00</td>\n",
       "      <td>564500.00</td>\n",
       "      <td>744800.00</td>\n",
       "      <td>7947.02</td>\n",
       "      <td>1920.00</td>\n",
       "      <td>M - Vinyl</td>\n",
       "      <td>A - Average</td>\n",
       "      <td>3.00</td>\n",
       "      <td>9.00</td>\n",
       "      <td>M - Modern</td>\n",
       "      <td>3F - 3 Full Eat In Kitchens</td>\n",
       "      <td>F - Forced Hot Air</td>\n",
       "      <td>C - Central AC</td>\n",
       "    </tr>\n",
       "    <tr>\n",
       "      <th>2</th>\n",
       "      <td>EAST BOSTON</td>\n",
       "      <td>2128</td>\n",
       "      <td>1.00</td>\n",
       "      <td>1.00</td>\n",
       "      <td>RM - Row Middle</td>\n",
       "      <td>3392.00</td>\n",
       "      <td>2268.00</td>\n",
       "      <td>549700.00</td>\n",
       "      <td>730500.00</td>\n",
       "      <td>7794.44</td>\n",
       "      <td>1905.00</td>\n",
       "      <td>M - Vinyl</td>\n",
       "      <td>G - Good</td>\n",
       "      <td>3.00</td>\n",
       "      <td>13.00</td>\n",
       "      <td>M - Modern</td>\n",
       "      <td>3F - 3 Full Eat In Kitchens</td>\n",
       "      <td>S - Space Heat</td>\n",
       "      <td>N - None</td>\n",
       "    </tr>\n",
       "  </tbody>\n",
       "</table>\n",
       "</div>"
      ],
      "text/plain": [
       "          CITY  ZIPCODE  BLDG_SEQ  NUM_BLDGS        BLDG_TYPE  GROSS_AREA  \\\n",
       "0  EAST BOSTON     2128      1.00       1.00     RE - Row End     3353.00   \n",
       "1  EAST BOSTON     2128      1.00       1.00  RM - Row Middle     3299.00   \n",
       "2  EAST BOSTON     2128      1.00       1.00  RM - Row Middle     3392.00   \n",
       "\n",
       "   LIVING_AREA  BLDG_VALUE  TOTAL_VALUE  GROSS_TAX  YR_BUILT  EXT_FINISHED  \\\n",
       "0      2202.00   539900.00    719400.00    7676.00   1900.00  A - Asbestos   \n",
       "1      2307.00   564500.00    744800.00    7947.02   1920.00     M - Vinyl   \n",
       "2      2268.00   549700.00    730500.00    7794.44   1905.00     M - Vinyl   \n",
       "\n",
       "      EXT_COND  KITCHEN  TT_RMS     BTHRM_STYLE1                 KITCHEN_TYPE  \\\n",
       "0     F - Fair     3.00   12.00  S - Semi-Modern  3F - 3 Full Eat In Kitchens   \n",
       "1  A - Average     3.00    9.00       M - Modern  3F - 3 Full Eat In Kitchens   \n",
       "2     G - Good     3.00   13.00       M - Modern  3F - 3 Full Eat In Kitchens   \n",
       "\n",
       "            HEAT_TYPE         AC_TYPE  \n",
       "0  W - Ht Water/Steam        N - None  \n",
       "1  F - Forced Hot Air  C - Central AC  \n",
       "2      S - Space Heat        N - None  "
      ]
     },
     "execution_count": 253,
     "metadata": {},
     "output_type": "execute_result"
    }
   ],
   "source": [
    "BosProp.head(3)"
   ]
  },
  {
   "cell_type": "markdown",
   "id": "98479a22",
   "metadata": {
    "id": "98479a22"
   },
   "source": [
    "\n",
    "\n"
   ]
  },
  {
   "cell_type": "code",
   "execution_count": 254,
   "id": "6a6965d1",
   "metadata": {
    "ExecuteTime": {
     "end_time": "2021-12-14T21:08:53.942034Z",
     "start_time": "2021-12-14T21:08:53.300039Z"
    },
    "colab": {
     "base_uri": "https://localhost:8080/",
     "height": 1000
    },
    "id": "6a6965d1",
    "outputId": "d0a67da1-e8bb-4d0a-dda6-4ece29fbf857",
    "scrolled": false
   },
   "outputs": [
    {
     "name": "stdout",
     "output_type": "stream",
     "text": [
      "# # # # #   CITY   # # # # #\n"
     ]
    },
    {
     "data": {
      "text/plain": [
       "CITY           \n",
       "BOSTON             27967\n",
       "DORCHESTER         21157\n",
       "SOUTH BOSTON       10106\n",
       "BRIGHTON            9240\n",
       "WEST ROXBURY        8683\n",
       "JAMAICA PLAIN       8557\n",
       "HYDE PARK           7305\n",
       "ROSLINDALE          7300\n",
       "EAST BOSTON         6442\n",
       "CHARLESTOWN         4968\n",
       "MATTAPAN            3678\n",
       "ROXBURY             3371\n",
       "ALLSTON             3181\n",
       "ROXBURY CROSSIN     1050\n",
       "CHESTNUT HILL        926\n",
       "BROOKLINE             16\n",
       "DEDHAM                 5\n",
       "dtype: int64"
      ]
     },
     "metadata": {},
     "output_type": "display_data"
    },
    {
     "name": "stdout",
     "output_type": "stream",
     "text": [
      "# # # # #   NUM_BLDGS   # # # # #\n"
     ]
    },
    {
     "data": {
      "text/plain": [
       "NUM_BLDGS\n",
       "1.00         123935\n",
       "2.00             10\n",
       "3.00              3\n",
       "4.00              2\n",
       "5.00              2\n",
       "dtype: int64"
      ]
     },
     "metadata": {},
     "output_type": "display_data"
    },
    {
     "name": "stdout",
     "output_type": "stream",
     "text": [
      "# # # # #   BLDG_TYPE   # # # # #\n"
     ]
    },
    {
     "data": {
      "text/plain": [
       "BLDG_TYPE             \n",
       "CL - Colonial             16582\n",
       "RM - Row Middle           14156\n",
       "CV - Conventional         12785\n",
       "LR - Low Rise             12704\n",
       "DK - Decker               12228\n",
       "MR - Mid Rise             11456\n",
       "FS - Free Standing         8856\n",
       "RE - Row End               7000\n",
       "TF - Two Fam Stack         6084\n",
       "HR - High Rise             5971\n",
       "SD - Semi-Det              4149\n",
       "CP - Cape                  3697\n",
       "TH - Town House            2248\n",
       "RN - Ranch                 1913\n",
       "DX - Duplex                1550\n",
       "BW - Bungalow              1082\n",
       "RR - Raised Ranch           839\n",
       "VT - Victorian              246\n",
       "SL - Split Level            209\n",
       "TD - Tudor                   75\n",
       "CN - Contemporary            71\n",
       "TL - Tri-Level               28\n",
       "OT - Other                   11\n",
       "111 - APT 4-6 UNITS           4\n",
       "BL - Bi-Level                 4\n",
       "112 - APT 7-30 UNITS          2\n",
       "121 - ROOMING HOUSE           1\n",
       "104 - TWO-FAM DWELLING        1\n",
       "dtype: int64"
      ]
     },
     "metadata": {},
     "output_type": "display_data"
    },
    {
     "name": "stdout",
     "output_type": "stream",
     "text": [
      "# # # # #   YR_BUILT   # # # # #\n"
     ]
    },
    {
     "data": {
      "text/plain": [
       "YR_BUILT\n",
       "1900.00     14827\n",
       "1910.00      9483\n",
       "1920.00      9412\n",
       "1905.00      8956\n",
       "1890.00      7951\n",
       "            ...  \n",
       "1804.00         1\n",
       "1806.00         1\n",
       "1819.00         1\n",
       "1823.00         1\n",
       "1700.00         1\n",
       "Length: 232, dtype: int64"
      ]
     },
     "metadata": {},
     "output_type": "display_data"
    },
    {
     "name": "stdout",
     "output_type": "stream",
     "text": [
      "# # # # #   EXT_FINISHED   # # # # #\n"
     ]
    },
    {
     "data": {
      "text/plain": [
       "EXT_FINISHED      \n",
       "B - Brick/Stone       43567\n",
       "M - Vinyl             39067\n",
       "W - Wood Shake        15271\n",
       "F - Frame/Clapbrd     11438\n",
       "C - Cement Board       4652\n",
       "A - Asbestos           3878\n",
       "G - Glass              2393\n",
       "S - Stucco             1162\n",
       "P - Asphalt             953\n",
       "U - Alum Siding         643\n",
       "V - Brck/Stn Venr       485\n",
       "O - Other               213\n",
       "K - Concrete            159\n",
       "01 - Brick               42\n",
       "09 - Wood Siding         26\n",
       "10 - Alum/Vinyl           2\n",
       "05 - Concr & Glass        1\n",
       "dtype: int64"
      ]
     },
     "metadata": {},
     "output_type": "display_data"
    },
    {
     "name": "stdout",
     "output_type": "stream",
     "text": [
      "# # # # #   EXT_COND   # # # # #\n"
     ]
    },
    {
     "data": {
      "text/plain": [
       "EXT_COND     \n",
       "A - Average      72867\n",
       "G - Good         44117\n",
       "E - Excellent     4664\n",
       "F - Fair          2219\n",
       "P - Poor            85\n",
       "dtype: int64"
      ]
     },
     "metadata": {},
     "output_type": "display_data"
    },
    {
     "name": "stdout",
     "output_type": "stream",
     "text": [
      "# # # # #   KITCHEN   # # # # #\n"
     ]
    },
    {
     "data": {
      "text/plain": [
       "KITCHEN\n",
       "1.00       92734\n",
       "2.00       17462\n",
       "3.00       13639\n",
       "4.00         116\n",
       "5.00           1\n",
       "dtype: int64"
      ]
     },
     "metadata": {},
     "output_type": "display_data"
    },
    {
     "name": "stdout",
     "output_type": "stream",
     "text": [
      "# # # # #   TT_RMS   # # # # #\n"
     ]
    },
    {
     "data": {
      "text/plain": [
       "TT_RMS\n",
       "4.00      21197\n",
       "5.00      16818\n",
       "6.00      14638\n",
       "3.00      14075\n",
       "7.00      10144\n",
       "8.00       7255\n",
       "10.00      5635\n",
       "12.00      5098\n",
       "9.00       4722\n",
       "15.00      4598\n",
       "11.00      4255\n",
       "2.00       4153\n",
       "14.00      3140\n",
       "18.00      2361\n",
       "13.00      2288\n",
       "17.00      1296\n",
       "16.00       943\n",
       "1.00        621\n",
       "20.00       283\n",
       "21.00       199\n",
       "19.00       162\n",
       "22.00        22\n",
       "23.00        17\n",
       "24.00        17\n",
       "26.00         6\n",
       "25.00         4\n",
       "27.00         4\n",
       "34.00         1\n",
       "dtype: int64"
      ]
     },
     "metadata": {},
     "output_type": "display_data"
    },
    {
     "name": "stdout",
     "output_type": "stream",
     "text": [
      "# # # # #   BTHRM_STYLE1   # # # # #\n"
     ]
    },
    {
     "data": {
      "text/plain": [
       "BTHRM_STYLE1     \n",
       "S - Semi-Modern      59464\n",
       "M - Modern           52825\n",
       "N - No Remodeling     5846\n",
       "L - Luxury            5817\n",
       "dtype: int64"
      ]
     },
     "metadata": {},
     "output_type": "display_data"
    },
    {
     "name": "stdout",
     "output_type": "stream",
     "text": [
      "# # # # #   KITCHEN_TYPE   # # # # #\n"
     ]
    },
    {
     "data": {
      "text/plain": [
       "KITCHEN_TYPE               \n",
       "O - One Person                 38494\n",
       "1F - 1 Full Eat In Kitchens    29128\n",
       "F - Full Eat In                22194\n",
       "2F - 2 Full Eat In Kitchens    16787\n",
       "3F - 3 Full Eat In Kitchens    12082\n",
       "0F - 0 Full Eat In Kitchens     2626\n",
       "P - Pullman                     2503\n",
       "N - None                         111\n",
       "4F - 4 Full Eat In Kitchens       26\n",
       "5F - 5 Full Eat In Kitchens        1\n",
       "dtype: int64"
      ]
     },
     "metadata": {},
     "output_type": "display_data"
    },
    {
     "name": "stdout",
     "output_type": "stream",
     "text": [
      "# # # # #   HEAT_TYPE   # # # # #\n"
     ]
    },
    {
     "data": {
      "text/plain": [
       "HEAT_TYPE         \n",
       "W - Ht Water/Steam    69347\n",
       "F - Forced Hot Air    44121\n",
       "E - Electric           5583\n",
       "P - Heat Pump          4102\n",
       "S - Space Heat          677\n",
       "N - None                 85\n",
       "O - Other                37\n",
       "dtype: int64"
      ]
     },
     "metadata": {},
     "output_type": "display_data"
    },
    {
     "name": "stdout",
     "output_type": "stream",
     "text": [
      "# # # # #   AC_TYPE   # # # # #\n"
     ]
    },
    {
     "data": {
      "text/plain": [
       "AC_TYPE        \n",
       "N - None           77929\n",
       "C - Central AC     45324\n",
       "D - Ductless AC      698\n",
       "Y - Yes                1\n",
       "dtype: int64"
      ]
     },
     "metadata": {},
     "output_type": "display_data"
    }
   ],
   "source": [
    "## To detect counts and destribution among categorical values.\n",
    "\n",
    "\n",
    "for col in ['CITY','NUM_BLDGS','BLDG_TYPE','YR_BUILT','EXT_FINISHED', 'EXT_COND','KITCHEN','TT_RMS','BTHRM_STYLE1','KITCHEN_TYPE','HEAT_TYPE','AC_TYPE']:\n",
    "    print(\"# # # # #  \",col,\"  # # # # #\")\n",
    "    display(BosProp[[col]].value_counts())\n",
    "    "
   ]
  },
  {
   "cell_type": "code",
   "execution_count": 255,
   "id": "f6fa9184",
   "metadata": {
    "ExecuteTime": {
     "end_time": "2021-12-14T21:08:54.400479Z",
     "start_time": "2021-12-14T21:08:53.952043Z"
    },
    "colab": {
     "base_uri": "https://localhost:8080/",
     "height": 449
    },
    "id": "f6fa9184",
    "outputId": "ce0b2e6f-6647-45cc-8fef-a648fa736cbb",
    "scrolled": false
   },
   "outputs": [
    {
     "data": {
      "text/html": [
       "<div>\n",
       "<style scoped>\n",
       "    .dataframe tbody tr th:only-of-type {\n",
       "        vertical-align: middle;\n",
       "    }\n",
       "\n",
       "    .dataframe tbody tr th {\n",
       "        vertical-align: top;\n",
       "    }\n",
       "\n",
       "    .dataframe thead th {\n",
       "        text-align: right;\n",
       "    }\n",
       "</style>\n",
       "<table border=\"1\" class=\"dataframe\">\n",
       "  <thead>\n",
       "    <tr style=\"text-align: right;\">\n",
       "      <th></th>\n",
       "      <th>CITY</th>\n",
       "      <th>ZIPCODE</th>\n",
       "      <th>BLDG_SEQ</th>\n",
       "      <th>NUM_BLDGS</th>\n",
       "      <th>BLDG_TYPE</th>\n",
       "      <th>GROSS_AREA</th>\n",
       "      <th>LIVING_AREA</th>\n",
       "      <th>BLDG_VALUE</th>\n",
       "      <th>TOTAL_VALUE</th>\n",
       "      <th>GROSS_TAX</th>\n",
       "      <th>YR_BUILT</th>\n",
       "      <th>EXT_FINISHED</th>\n",
       "      <th>EXT_COND</th>\n",
       "      <th>KITCHEN</th>\n",
       "      <th>TT_RMS</th>\n",
       "      <th>BTHRM_STYLE1</th>\n",
       "      <th>KITCHEN_TYPE</th>\n",
       "      <th>HEAT_TYPE</th>\n",
       "      <th>AC_TYPE</th>\n",
       "    </tr>\n",
       "  </thead>\n",
       "  <tbody>\n",
       "    <tr>\n",
       "      <th>count</th>\n",
       "      <td>123952</td>\n",
       "      <td>123952.00</td>\n",
       "      <td>123952.00</td>\n",
       "      <td>123952.00</td>\n",
       "      <td>123952</td>\n",
       "      <td>123952.00</td>\n",
       "      <td>123952.00</td>\n",
       "      <td>123952.00</td>\n",
       "      <td>123952.00</td>\n",
       "      <td>123952.00</td>\n",
       "      <td>123952.00</td>\n",
       "      <td>123952</td>\n",
       "      <td>123952</td>\n",
       "      <td>123952.00</td>\n",
       "      <td>123952.00</td>\n",
       "      <td>123952</td>\n",
       "      <td>123952</td>\n",
       "      <td>123952</td>\n",
       "      <td>123952</td>\n",
       "    </tr>\n",
       "    <tr>\n",
       "      <th>unique</th>\n",
       "      <td>17</td>\n",
       "      <td>NaN</td>\n",
       "      <td>NaN</td>\n",
       "      <td>NaN</td>\n",
       "      <td>28</td>\n",
       "      <td>NaN</td>\n",
       "      <td>NaN</td>\n",
       "      <td>NaN</td>\n",
       "      <td>NaN</td>\n",
       "      <td>NaN</td>\n",
       "      <td>NaN</td>\n",
       "      <td>17</td>\n",
       "      <td>5</td>\n",
       "      <td>NaN</td>\n",
       "      <td>NaN</td>\n",
       "      <td>4</td>\n",
       "      <td>10</td>\n",
       "      <td>7</td>\n",
       "      <td>4</td>\n",
       "    </tr>\n",
       "    <tr>\n",
       "      <th>top</th>\n",
       "      <td>BOSTON</td>\n",
       "      <td>NaN</td>\n",
       "      <td>NaN</td>\n",
       "      <td>NaN</td>\n",
       "      <td>CL - Colonial</td>\n",
       "      <td>NaN</td>\n",
       "      <td>NaN</td>\n",
       "      <td>NaN</td>\n",
       "      <td>NaN</td>\n",
       "      <td>NaN</td>\n",
       "      <td>NaN</td>\n",
       "      <td>B - Brick/Stone</td>\n",
       "      <td>A - Average</td>\n",
       "      <td>NaN</td>\n",
       "      <td>NaN</td>\n",
       "      <td>S - Semi-Modern</td>\n",
       "      <td>O - One Person</td>\n",
       "      <td>W - Ht Water/Steam</td>\n",
       "      <td>N - None</td>\n",
       "    </tr>\n",
       "    <tr>\n",
       "      <th>freq</th>\n",
       "      <td>27967</td>\n",
       "      <td>NaN</td>\n",
       "      <td>NaN</td>\n",
       "      <td>NaN</td>\n",
       "      <td>16582</td>\n",
       "      <td>NaN</td>\n",
       "      <td>NaN</td>\n",
       "      <td>NaN</td>\n",
       "      <td>NaN</td>\n",
       "      <td>NaN</td>\n",
       "      <td>NaN</td>\n",
       "      <td>43567</td>\n",
       "      <td>72867</td>\n",
       "      <td>NaN</td>\n",
       "      <td>NaN</td>\n",
       "      <td>59464</td>\n",
       "      <td>38494</td>\n",
       "      <td>69347</td>\n",
       "      <td>77929</td>\n",
       "    </tr>\n",
       "    <tr>\n",
       "      <th>mean</th>\n",
       "      <td>NaN</td>\n",
       "      <td>2130.66</td>\n",
       "      <td>1.00</td>\n",
       "      <td>1.00</td>\n",
       "      <td>NaN</td>\n",
       "      <td>2348.70</td>\n",
       "      <td>1727.73</td>\n",
       "      <td>647875.63</td>\n",
       "      <td>765435.80</td>\n",
       "      <td>8148.73</td>\n",
       "      <td>1929.19</td>\n",
       "      <td>NaN</td>\n",
       "      <td>NaN</td>\n",
       "      <td>1.36</td>\n",
       "      <td>7.10</td>\n",
       "      <td>NaN</td>\n",
       "      <td>NaN</td>\n",
       "      <td>NaN</td>\n",
       "      <td>NaN</td>\n",
       "    </tr>\n",
       "    <tr>\n",
       "      <th>std</th>\n",
       "      <td>NaN</td>\n",
       "      <td>33.35</td>\n",
       "      <td>0.00</td>\n",
       "      <td>0.02</td>\n",
       "      <td>NaN</td>\n",
       "      <td>1687.05</td>\n",
       "      <td>1078.27</td>\n",
       "      <td>677260.14</td>\n",
       "      <td>746124.59</td>\n",
       "      <td>7968.12</td>\n",
       "      <td>42.22</td>\n",
       "      <td>NaN</td>\n",
       "      <td>NaN</td>\n",
       "      <td>0.68</td>\n",
       "      <td>4.06</td>\n",
       "      <td>NaN</td>\n",
       "      <td>NaN</td>\n",
       "      <td>NaN</td>\n",
       "      <td>NaN</td>\n",
       "    </tr>\n",
       "    <tr>\n",
       "      <th>min</th>\n",
       "      <td>NaN</td>\n",
       "      <td>2026.00</td>\n",
       "      <td>1.00</td>\n",
       "      <td>1.00</td>\n",
       "      <td>NaN</td>\n",
       "      <td>11.00</td>\n",
       "      <td>1.00</td>\n",
       "      <td>100.00</td>\n",
       "      <td>31800.00</td>\n",
       "      <td>0.00</td>\n",
       "      <td>1700.00</td>\n",
       "      <td>NaN</td>\n",
       "      <td>NaN</td>\n",
       "      <td>1.00</td>\n",
       "      <td>1.00</td>\n",
       "      <td>NaN</td>\n",
       "      <td>NaN</td>\n",
       "      <td>NaN</td>\n",
       "      <td>NaN</td>\n",
       "    </tr>\n",
       "    <tr>\n",
       "      <th>25%</th>\n",
       "      <td>NaN</td>\n",
       "      <td>2121.00</td>\n",
       "      <td>1.00</td>\n",
       "      <td>1.00</td>\n",
       "      <td>NaN</td>\n",
       "      <td>948.00</td>\n",
       "      <td>925.00</td>\n",
       "      <td>355400.00</td>\n",
       "      <td>444800.00</td>\n",
       "      <td>4737.48</td>\n",
       "      <td>1900.00</td>\n",
       "      <td>NaN</td>\n",
       "      <td>NaN</td>\n",
       "      <td>1.00</td>\n",
       "      <td>4.00</td>\n",
       "      <td>NaN</td>\n",
       "      <td>NaN</td>\n",
       "      <td>NaN</td>\n",
       "      <td>NaN</td>\n",
       "    </tr>\n",
       "    <tr>\n",
       "      <th>50%</th>\n",
       "      <td>NaN</td>\n",
       "      <td>2127.00</td>\n",
       "      <td>1.00</td>\n",
       "      <td>1.00</td>\n",
       "      <td>NaN</td>\n",
       "      <td>1920.00</td>\n",
       "      <td>1412.00</td>\n",
       "      <td>491000.00</td>\n",
       "      <td>601800.00</td>\n",
       "      <td>6411.61</td>\n",
       "      <td>1915.00</td>\n",
       "      <td>NaN</td>\n",
       "      <td>NaN</td>\n",
       "      <td>1.00</td>\n",
       "      <td>6.00</td>\n",
       "      <td>NaN</td>\n",
       "      <td>NaN</td>\n",
       "      <td>NaN</td>\n",
       "      <td>NaN</td>\n",
       "    </tr>\n",
       "    <tr>\n",
       "      <th>75%</th>\n",
       "      <td>NaN</td>\n",
       "      <td>2132.00</td>\n",
       "      <td>1.00</td>\n",
       "      <td>1.00</td>\n",
       "      <td>NaN</td>\n",
       "      <td>3408.00</td>\n",
       "      <td>2307.00</td>\n",
       "      <td>704500.00</td>\n",
       "      <td>835700.00</td>\n",
       "      <td>8906.25</td>\n",
       "      <td>1958.00</td>\n",
       "      <td>NaN</td>\n",
       "      <td>NaN</td>\n",
       "      <td>2.00</td>\n",
       "      <td>9.00</td>\n",
       "      <td>NaN</td>\n",
       "      <td>NaN</td>\n",
       "      <td>NaN</td>\n",
       "      <td>NaN</td>\n",
       "    </tr>\n",
       "    <tr>\n",
       "      <th>max</th>\n",
       "      <td>NaN</td>\n",
       "      <td>2467.00</td>\n",
       "      <td>1.00</td>\n",
       "      <td>5.00</td>\n",
       "      <td>NaN</td>\n",
       "      <td>52936.00</td>\n",
       "      <td>52936.00</td>\n",
       "      <td>32491200.00</td>\n",
       "      <td>32491200.00</td>\n",
       "      <td>346681.10</td>\n",
       "      <td>2020.00</td>\n",
       "      <td>NaN</td>\n",
       "      <td>NaN</td>\n",
       "      <td>5.00</td>\n",
       "      <td>34.00</td>\n",
       "      <td>NaN</td>\n",
       "      <td>NaN</td>\n",
       "      <td>NaN</td>\n",
       "      <td>NaN</td>\n",
       "    </tr>\n",
       "  </tbody>\n",
       "</table>\n",
       "</div>"
      ],
      "text/plain": [
       "          CITY   ZIPCODE  BLDG_SEQ  NUM_BLDGS      BLDG_TYPE  GROSS_AREA  \\\n",
       "count   123952 123952.00 123952.00  123952.00         123952   123952.00   \n",
       "unique      17       NaN       NaN        NaN             28         NaN   \n",
       "top     BOSTON       NaN       NaN        NaN  CL - Colonial         NaN   \n",
       "freq     27967       NaN       NaN        NaN          16582         NaN   \n",
       "mean       NaN   2130.66      1.00       1.00            NaN     2348.70   \n",
       "std        NaN     33.35      0.00       0.02            NaN     1687.05   \n",
       "min        NaN   2026.00      1.00       1.00            NaN       11.00   \n",
       "25%        NaN   2121.00      1.00       1.00            NaN      948.00   \n",
       "50%        NaN   2127.00      1.00       1.00            NaN     1920.00   \n",
       "75%        NaN   2132.00      1.00       1.00            NaN     3408.00   \n",
       "max        NaN   2467.00      1.00       5.00            NaN    52936.00   \n",
       "\n",
       "        LIVING_AREA  BLDG_VALUE  TOTAL_VALUE  GROSS_TAX  YR_BUILT  \\\n",
       "count     123952.00   123952.00    123952.00  123952.00 123952.00   \n",
       "unique          NaN         NaN          NaN        NaN       NaN   \n",
       "top             NaN         NaN          NaN        NaN       NaN   \n",
       "freq            NaN         NaN          NaN        NaN       NaN   \n",
       "mean        1727.73   647875.63    765435.80    8148.73   1929.19   \n",
       "std         1078.27   677260.14    746124.59    7968.12     42.22   \n",
       "min            1.00      100.00     31800.00       0.00   1700.00   \n",
       "25%          925.00   355400.00    444800.00    4737.48   1900.00   \n",
       "50%         1412.00   491000.00    601800.00    6411.61   1915.00   \n",
       "75%         2307.00   704500.00    835700.00    8906.25   1958.00   \n",
       "max        52936.00 32491200.00  32491200.00  346681.10   2020.00   \n",
       "\n",
       "           EXT_FINISHED     EXT_COND   KITCHEN    TT_RMS     BTHRM_STYLE1  \\\n",
       "count            123952       123952 123952.00 123952.00           123952   \n",
       "unique               17            5       NaN       NaN                4   \n",
       "top     B - Brick/Stone  A - Average       NaN       NaN  S - Semi-Modern   \n",
       "freq              43567        72867       NaN       NaN            59464   \n",
       "mean                NaN          NaN      1.36      7.10              NaN   \n",
       "std                 NaN          NaN      0.68      4.06              NaN   \n",
       "min                 NaN          NaN      1.00      1.00              NaN   \n",
       "25%                 NaN          NaN      1.00      4.00              NaN   \n",
       "50%                 NaN          NaN      1.00      6.00              NaN   \n",
       "75%                 NaN          NaN      2.00      9.00              NaN   \n",
       "max                 NaN          NaN      5.00     34.00              NaN   \n",
       "\n",
       "          KITCHEN_TYPE           HEAT_TYPE   AC_TYPE  \n",
       "count           123952              123952    123952  \n",
       "unique              10                   7         4  \n",
       "top     O - One Person  W - Ht Water/Steam  N - None  \n",
       "freq             38494               69347     77929  \n",
       "mean               NaN                 NaN       NaN  \n",
       "std                NaN                 NaN       NaN  \n",
       "min                NaN                 NaN       NaN  \n",
       "25%                NaN                 NaN       NaN  \n",
       "50%                NaN                 NaN       NaN  \n",
       "75%                NaN                 NaN       NaN  \n",
       "max                NaN                 NaN       NaN  "
      ]
     },
     "execution_count": 255,
     "metadata": {},
     "output_type": "execute_result"
    }
   ],
   "source": [
    "## Now that we have all data cleaned, We performed describe function to know the count, unique, max, min and other paterns.\n",
    "BosProp.describe(include=\"all\",datetime_is_numeric=True)"
   ]
  },
  {
   "cell_type": "code",
   "execution_count": null,
   "id": "a0b18a3b",
   "metadata": {
    "ExecuteTime": {
     "end_time": "2021-12-11T11:29:52.705462Z",
     "start_time": "2021-12-11T11:29:52.685441Z"
    },
    "colab": {
     "base_uri": "https://localhost:8080/"
    },
    "id": "a0b18a3b",
    "outputId": "361a7f5d-dbb3-4496-8901-385712391cb7",
    "scrolled": false
   },
   "outputs": [],
   "source": []
  },
  {
   "cell_type": "code",
   "execution_count": 256,
   "id": "152c1ab3",
   "metadata": {
    "ExecuteTime": {
     "end_time": "2021-12-14T21:08:56.455480Z",
     "start_time": "2021-12-14T21:08:54.409479Z"
    },
    "colab": {
     "base_uri": "https://localhost:8080/",
     "height": 386
    },
    "id": "152c1ab3",
    "outputId": "fe84bbe6-94fe-465b-95cd-57b1f8bd822d",
    "scrolled": false
   },
   "outputs": [
    {
     "data": {
      "text/plain": [
       "<seaborn.axisgrid.FacetGrid at 0x17cb2121ac0>"
      ]
     },
     "execution_count": 256,
     "metadata": {},
     "output_type": "execute_result"
    },
    {
     "data": {
      "image/png": "[encoded data removed]",
      "text/plain": [
       "<Figure size 360x360 with 1 Axes>"
      ]
     },
     "metadata": {
      "needs_background": "light"
     },
     "output_type": "display_data"
    }
   ],
   "source": [
    "#BosProp['TOTAL_VALUE'].sum()/123921\n",
    "\n",
    "## A Bar plot to see, YR_BUILT Desctribution\n",
    "\n",
    "sns.displot(data=BosProp['YR_BUILT'])"
   ]
  },
  {
   "cell_type": "code",
   "execution_count": 257,
   "id": "2de359d7",
   "metadata": {
    "ExecuteTime": {
     "end_time": "2021-12-14T21:08:56.770478Z",
     "start_time": "2021-12-14T21:08:56.464481Z"
    },
    "colab": {
     "base_uri": "https://localhost:8080/",
     "height": 352
    },
    "id": "2de359d7",
    "outputId": "450779e2-31a7-4fa8-f7e0-79c3cc6f8556",
    "scrolled": false
   },
   "outputs": [
    {
     "data": {
      "text/plain": [
       "<AxesSubplot:>"
      ]
     },
     "execution_count": 257,
     "metadata": {},
     "output_type": "execute_result"
    },
    {
     "data": {
      "image/png": "[encoded data removed]",
      "text/plain": [
       "<Figure size 432x288 with 1 Axes>"
      ]
     },
     "metadata": {
      "needs_background": "light"
     },
     "output_type": "display_data"
    }
   ],
   "source": [
    "## A Box plot to see, YR_BUILT outliars and quartraints \n",
    "\n",
    "sns.boxplot(data=BosProp['YR_BUILT'])"
   ]
  },
  {
   "cell_type": "code",
   "execution_count": 258,
   "id": "52067bcd",
   "metadata": {
    "ExecuteTime": {
     "end_time": "2021-12-14T21:08:57.084474Z",
     "start_time": "2021-12-14T21:08:56.788476Z"
    },
    "id": "52067bcd",
    "scrolled": true
   },
   "outputs": [
    {
     "data": {
      "text/plain": [
       "<AxesSubplot:>"
      ]
     },
     "execution_count": 258,
     "metadata": {},
     "output_type": "execute_result"
    },
    {
     "data": {
      "image/png": "[encoded data removed]",
      "text/plain": [
       "<Figure size 432x288 with 1 Axes>"
      ]
     },
     "metadata": {
      "needs_background": "light"
     },
     "output_type": "display_data"
    }
   ],
   "source": [
    "## A Box plot to see, TOTAL_VALUE outliars and quartraints \n",
    "\n",
    "sns.boxplot(data=BosProp['TOTAL_VALUE'])"
   ]
  },
  {
   "cell_type": "code",
   "execution_count": 259,
   "id": "70957f9e",
   "metadata": {
    "ExecuteTime": {
     "end_time": "2021-12-14T21:08:57.132487Z",
     "start_time": "2021-12-14T21:08:57.097485Z"
    },
    "scrolled": true
   },
   "outputs": [
    {
     "data": {
      "text/plain": [
       "9594     2425200.00\n",
       "9970     2282100.00\n",
       "9981     2970400.00\n",
       "9982     2198700.00\n",
       "9983     2232200.00\n",
       "            ...    \n",
       "168706   2210200.00\n",
       "175293   2451400.00\n",
       "175532   2601900.00\n",
       "175778   2765800.00\n",
       "175779   2543100.00\n",
       "Name: TOTAL_VALUE, Length: 3995, dtype: float64"
      ]
     },
     "execution_count": 259,
     "metadata": {},
     "output_type": "execute_result"
    }
   ],
   "source": [
    "## Displaying outliars in TOTAL_VALUE that is values above 2000000\n",
    "\n",
    "\n",
    "BosProp['TOTAL_VALUE'][BosProp.TOTAL_VALUE>2100000]"
   ]
  },
  {
   "cell_type": "code",
   "execution_count": 260,
   "id": "ea7db114",
   "metadata": {
    "ExecuteTime": {
     "end_time": "2021-12-14T21:08:57.228486Z",
     "start_time": "2021-12-14T21:08:57.138477Z"
    }
   },
   "outputs": [
    {
     "data": {
      "text/plain": [
       "261700.00     106\n",
       "334200.00     105\n",
       "200400.00      48\n",
       "513100.00      46\n",
       "46600.00       41\n",
       "             ... \n",
       "1824800.00      1\n",
       "1685900.00      1\n",
       "985700.00       1\n",
       "1290800.00      1\n",
       "1100200.00      1\n",
       "Name: TOTAL_VALUE, Length: 15477, dtype: int64"
      ]
     },
     "execution_count": 260,
     "metadata": {},
     "output_type": "execute_result"
    }
   ],
   "source": [
    "## Removing outliars in TOTAL_VALUE that is values above 2000000\n",
    "\n",
    "index_names = BosProp[ BosProp.TOTAL_VALUE>2000000 ].index\n",
    "  \n",
    "# drop these row indexes\n",
    "# from dataFrame\n",
    "BosProp.drop(index_names, inplace = True)\n",
    "BosProp.TOTAL_VALUE.value_counts()"
   ]
  },
  {
   "cell_type": "code",
   "execution_count": 261,
   "id": "0d184663",
   "metadata": {
    "ExecuteTime": {
     "end_time": "2021-12-14T21:08:58.635481Z",
     "start_time": "2021-12-14T21:08:57.233480Z"
    },
    "id": "0d184663",
    "scrolled": false
   },
   "outputs": [
    {
     "data": {
      "text/plain": [
       "<seaborn.axisgrid.FacetGrid at 0x17cb1d97490>"
      ]
     },
     "execution_count": 261,
     "metadata": {},
     "output_type": "execute_result"
    },
    {
     "data": {
      "image/png": "[encoded data removed]",
      "text/plain": [
       "<Figure size 360x360 with 1 Axes>"
      ]
     },
     "metadata": {
      "needs_background": "light"
     },
     "output_type": "display_data"
    }
   ],
   "source": [
    "\n",
    "## A Box plot to see, TOTAL_VALUE outliars and quartraints \n",
    "\n",
    "\n",
    "sns.displot(data=BosProp['TOTAL_VALUE'])"
   ]
  },
  {
   "cell_type": "code",
   "execution_count": 262,
   "id": "5a2a4286",
   "metadata": {
    "ExecuteTime": {
     "end_time": "2021-12-14T21:08:58.889229Z",
     "start_time": "2021-12-14T21:08:58.642479Z"
    },
    "id": "5a2a4286",
    "scrolled": false
   },
   "outputs": [
    {
     "data": {
      "text/plain": [
       "<AxesSubplot:>"
      ]
     },
     "execution_count": 262,
     "metadata": {},
     "output_type": "execute_result"
    },
    {
     "data": {
      "image/png": "[encoded data removed]",
      "text/plain": [
       "<Figure size 432x288 with 1 Axes>"
      ]
     },
     "metadata": {
      "needs_background": "light"
     },
     "output_type": "display_data"
    }
   ],
   "source": [
    "## A Box plot to see, GROSS_AREA outliars and quartraints \n",
    "\n",
    "\n",
    "sns.boxplot(data=BosProp['GROSS_AREA'])"
   ]
  },
  {
   "cell_type": "code",
   "execution_count": 263,
   "id": "1deb6781",
   "metadata": {
    "ExecuteTime": {
     "end_time": "2021-12-14T21:08:59.174684Z",
     "start_time": "2021-12-14T21:08:58.893685Z"
    },
    "id": "1deb6781",
    "scrolled": false
   },
   "outputs": [
    {
     "data": {
      "text/plain": [
       "<AxesSubplot:>"
      ]
     },
     "execution_count": 263,
     "metadata": {},
     "output_type": "execute_result"
    },
    {
     "data": {
      "image/png": "[encoded data removed]",
      "text/plain": [
       "<Figure size 432x288 with 1 Axes>"
      ]
     },
     "metadata": {
      "needs_background": "light"
     },
     "output_type": "display_data"
    }
   ],
   "source": [
    "#BosProp[BosProp['GROSS_AREA']<25000]\n",
    "\n",
    "\n",
    "## Removing outliars in GROSS_AREA that is values above 25000\n",
    "\n",
    "\n",
    "sns.boxplot(data=BosProp[BosProp['GROSS_AREA']<25000]['GROSS_AREA'])"
   ]
  },
  {
   "cell_type": "code",
   "execution_count": 264,
   "id": "934001ca",
   "metadata": {
    "ExecuteTime": {
     "end_time": "2021-12-14T21:09:06.350684Z",
     "start_time": "2021-12-14T21:08:59.179680Z"
    },
    "id": "934001ca",
    "scrolled": false
   },
   "outputs": [
    {
     "data": {
      "text/plain": [
       "<seaborn.axisgrid.FacetGrid at 0x17cc952c1f0>"
      ]
     },
     "execution_count": 264,
     "metadata": {},
     "output_type": "execute_result"
    },
    {
     "data": {
      "image/png": "[encoded data removed]",
      "text/plain": [
       "<Figure size 360x360 with 1 Axes>"
      ]
     },
     "metadata": {
      "needs_background": "light"
     },
     "output_type": "display_data"
    }
   ],
   "source": [
    "## A Bar plot to see, GROSS_AREA Desctribution\n",
    "\n",
    "\n",
    "sns.displot(data=BosProp['GROSS_AREA'])\n"
   ]
  },
  {
   "cell_type": "code",
   "execution_count": 265,
   "id": "28e4e868",
   "metadata": {
    "ExecuteTime": {
     "end_time": "2021-12-14T21:09:06.688685Z",
     "start_time": "2021-12-14T21:09:06.357683Z"
    },
    "id": "28e4e868",
    "scrolled": false
   },
   "outputs": [
    {
     "data": {
      "text/plain": [
       "<AxesSubplot:>"
      ]
     },
     "execution_count": 265,
     "metadata": {},
     "output_type": "execute_result"
    },
    {
     "data": {
      "image/png": "[encoded data removed]",
      "text/plain": [
       "<Figure size 432x288 with 1 Axes>"
      ]
     },
     "metadata": {
      "needs_background": "light"
     },
     "output_type": "display_data"
    }
   ],
   "source": [
    "## A Box plot to see, GROSS_TAX outliars and quartraints \n",
    "\n",
    "\n",
    "\n",
    "sns.boxplot(data=BosProp['GROSS_TAX'])"
   ]
  },
  {
   "cell_type": "code",
   "execution_count": 266,
   "id": "5095bb3f",
   "metadata": {
    "ExecuteTime": {
     "end_time": "2021-12-14T21:09:11.108685Z",
     "start_time": "2021-12-14T21:09:06.693684Z"
    },
    "id": "5095bb3f",
    "scrolled": false
   },
   "outputs": [
    {
     "data": {
      "text/plain": [
       "<seaborn.axisgrid.FacetGrid at 0x17cbb98f580>"
      ]
     },
     "execution_count": 266,
     "metadata": {},
     "output_type": "execute_result"
    },
    {
     "data": {
      "image/png": "[encoded data removed]",
      "text/plain": [
       "<Figure size 360x360 with 1 Axes>"
      ]
     },
     "metadata": {
      "needs_background": "light"
     },
     "output_type": "display_data"
    }
   ],
   "source": [
    "## A Bar plot to see, GROSS_TAX Desctribution\n",
    "\n",
    "\n",
    "sns.displot(BosProp['GROSS_TAX'])\n",
    "\n"
   ]
  },
  {
   "cell_type": "code",
   "execution_count": 267,
   "id": "c3a7bd9e",
   "metadata": {
    "ExecuteTime": {
     "end_time": "2021-12-14T21:09:11.722681Z",
     "start_time": "2021-12-14T21:09:11.115682Z"
    },
    "id": "c3a7bd9e",
    "scrolled": false
   },
   "outputs": [
    {
     "data": {
      "text/plain": [
       "<AxesSubplot:>"
      ]
     },
     "execution_count": 267,
     "metadata": {},
     "output_type": "execute_result"
    },
    {
     "data": {
      "image/png": "[encoded data removed]",
      "text/plain": [
       "<Figure size 432x288 with 1 Axes>"
      ]
     },
     "metadata": {
      "needs_background": "light"
     },
     "output_type": "display_data"
    }
   ],
   "source": [
    "## A Box plot to see, LIVING_AREA outliars and quartraints \n",
    "\n",
    "\n",
    "sns.boxplot(data=BosProp['LIVING_AREA'])"
   ]
  },
  {
   "cell_type": "code",
   "execution_count": 268,
   "id": "a604140a",
   "metadata": {
    "ExecuteTime": {
     "end_time": "2021-12-14T21:09:23.369685Z",
     "start_time": "2021-12-14T21:09:11.729691Z"
    },
    "id": "a604140a",
    "scrolled": false
   },
   "outputs": [
    {
     "data": {
      "text/plain": [
       "<seaborn.axisgrid.FacetGrid at 0x17ce02aeac0>"
      ]
     },
     "execution_count": 268,
     "metadata": {},
     "output_type": "execute_result"
    },
    {
     "data": {
      "image/png": "[encoded data removed]",
      "text/plain": [
       "<Figure size 360x360 with 1 Axes>"
      ]
     },
     "metadata": {
      "needs_background": "light"
     },
     "output_type": "display_data"
    }
   ],
   "source": [
    "## A Bar plot to see, LIVING_AREA Desctribution\n",
    "\n",
    "\n",
    "sns.displot(BosProp['LIVING_AREA'])\n"
   ]
  },
  {
   "cell_type": "code",
   "execution_count": 269,
   "id": "657c59fe",
   "metadata": {
    "ExecuteTime": {
     "end_time": "2021-12-14T21:09:24.353675Z",
     "start_time": "2021-12-14T21:09:23.386685Z"
    },
    "id": "52067bcd",
    "scrolled": true
   },
   "outputs": [
    {
     "data": {
      "text/plain": [
       "<AxesSubplot:>"
      ]
     },
     "execution_count": 269,
     "metadata": {},
     "output_type": "execute_result"
    },
    {
     "data": {
      "image/png": "[encoded data removed]",
      "text/plain": [
       "<Figure size 432x288 with 1 Axes>"
      ]
     },
     "metadata": {
      "needs_background": "light"
     },
     "output_type": "display_data"
    }
   ],
   "source": [
    "## A Box plot to see, BLDG_VALUE outliars and quartraints \n",
    "\n",
    "\n",
    "sns.boxplot(data=BosProp['BLDG_VALUE'])"
   ]
  },
  {
   "cell_type": "code",
   "execution_count": 270,
   "id": "ed2fbc32",
   "metadata": {
    "ExecuteTime": {
     "end_time": "2021-12-14T21:09:28.949689Z",
     "start_time": "2021-12-14T21:09:24.360688Z"
    },
    "id": "0d184663",
    "scrolled": false
   },
   "outputs": [
    {
     "data": {
      "text/plain": [
       "<seaborn.axisgrid.FacetGrid at 0x17cec672340>"
      ]
     },
     "execution_count": 270,
     "metadata": {},
     "output_type": "execute_result"
    },
    {
     "data": {
      "image/png": "[encoded data removed]",
      "text/plain": [
       "<Figure size 360x360 with 1 Axes>"
      ]
     },
     "metadata": {
      "needs_background": "light"
     },
     "output_type": "display_data"
    }
   ],
   "source": [
    "## A Bar plot to see, TOTAL_VALUE Desctribution\n",
    "\n",
    "\n",
    "sns.displot(BosProp['TOTAL_VALUE'])"
   ]
  },
  {
   "cell_type": "code",
   "execution_count": null,
   "id": "582bda89",
   "metadata": {
    "ExecuteTime": {
     "end_time": "2021-12-06T03:38:19.400993Z",
     "start_time": "2021-12-06T03:38:18.013384Z"
    },
    "id": "582bda89",
    "scrolled": false
   },
   "outputs": [],
   "source": []
  },
  {
   "cell_type": "code",
   "execution_count": 271,
   "id": "1ba1ea1c",
   "metadata": {
    "ExecuteTime": {
     "end_time": "2021-12-14T21:09:43.553683Z",
     "start_time": "2021-12-14T21:09:28.956687Z"
    },
    "colab": {
     "base_uri": "https://localhost:8080/",
     "height": 1000
    },
    "id": "1ba1ea1c",
    "outputId": "69518ba9-730b-4fc6-958e-84a23f6f5139",
    "scrolled": false
   },
   "outputs": [
    {
     "data": {
      "image/png": "[encoded data removed]",
      "text/plain": [
       "<Figure size 432x288 with 1 Axes>"
      ]
     },
     "metadata": {
      "needs_background": "light"
     },
     "output_type": "display_data"
    },
    {
     "data": {
      "image/png": "[encoded data removed]",
      "text/plain": [
       "<Figure size 432x288 with 1 Axes>"
      ]
     },
     "metadata": {
      "needs_background": "light"
     },
     "output_type": "display_data"
    },
    {
     "data": {
      "image/png": "[encoded data removed]",
      "text/plain": [
       "<Figure size 432x288 with 1 Axes>"
      ]
     },
     "metadata": {
      "needs_background": "light"
     },
     "output_type": "display_data"
    },
    {
     "data": {
      "image/png": "[encoded data removed]",
      "text/plain": [
       "<Figure size 432x288 with 1 Axes>"
      ]
     },
     "metadata": {
      "needs_background": "light"
     },
     "output_type": "display_data"
    },
    {
     "data": {
      "image/png": "[encoded data removed]",
      "text/plain": [
       "<Figure size 432x288 with 1 Axes>"
      ]
     },
     "metadata": {
      "needs_background": "light"
     },
     "output_type": "display_data"
    },
    {
     "data": {
      "image/png": "[encoded data removed]",
      "text/plain": [
       "<Figure size 432x288 with 1 Axes>"
      ]
     },
     "metadata": {
      "needs_background": "light"
     },
     "output_type": "display_data"
    },
    {
     "data": {
      "image/png": "[encoded data removed]",
      "text/plain": [
       "<Figure size 432x288 with 1 Axes>"
      ]
     },
     "metadata": {
      "needs_background": "light"
     },
     "output_type": "display_data"
    },
    {
     "data": {
      "image/png": "[encoded data removed]",
      "text/plain": [
       "<Figure size 432x288 with 1 Axes>"
      ]
     },
     "metadata": {
      "needs_background": "light"
     },
     "output_type": "display_data"
    }
   ],
   "source": [
    "## A Bar plot to see, Desctribution, count of unique values in each feature. \n",
    "\n",
    "\n",
    "for i in ['CITY','BLDG_TYPE','EXT_FINISHED','EXT_COND','BTHRM_STYLE1','KITCHEN_TYPE','HEAT_TYPE','AC_TYPE']:\n",
    "    fig, ax1 = plt.subplots(figsize=(6,4))\n",
    "    graph = sns.countplot(ax=ax1,x=i, data=BosProp)\n",
    "    graph.set_xticklabels(graph.get_xticklabels(),rotation=90)\n",
    "    for p in graph.patches:\n",
    "        height = p.get_height()\n",
    "        graph.text(p.get_x()+p.get_width()/2., height + 0.5,height ,ha=\"center\")\n",
    "\n",
    "plt.show()\n",
    "\n",
    "\n"
   ]
  },
  {
   "cell_type": "code",
   "execution_count": 272,
   "id": "26aa4a62",
   "metadata": {
    "ExecuteTime": {
     "end_time": "2021-12-14T21:09:43.586684Z",
     "start_time": "2021-12-14T21:09:43.562683Z"
    },
    "id": "26aa4a62",
    "scrolled": false
   },
   "outputs": [
    {
     "data": {
      "text/plain": [
       "62.78756819042554"
      ]
     },
     "execution_count": 272,
     "metadata": {},
     "output_type": "execute_result"
    }
   ],
   "source": [
    "77920/124101*100 "
   ]
  },
  {
   "cell_type": "code",
   "execution_count": 273,
   "id": "1443d150",
   "metadata": {
    "ExecuteTime": {
     "end_time": "2021-12-14T21:09:43.837683Z",
     "start_time": "2021-12-14T21:09:43.596687Z"
    },
    "id": "1443d150",
    "scrolled": false
   },
   "outputs": [
    {
     "name": "stdout",
     "output_type": "stream",
     "text": [
      "<class 'pandas.core.frame.DataFrame'>\n",
      "Int64Index: 119608 entries, 0 to 177085\n",
      "Data columns (total 19 columns):\n",
      " #   Column        Non-Null Count   Dtype  \n",
      "---  ------        --------------   -----  \n",
      " 0   CITY          119608 non-null  object \n",
      " 1   ZIPCODE       119608 non-null  int64  \n",
      " 2   BLDG_SEQ      119608 non-null  float64\n",
      " 3   NUM_BLDGS     119608 non-null  float64\n",
      " 4   BLDG_TYPE     119608 non-null  object \n",
      " 5   GROSS_AREA    119608 non-null  float64\n",
      " 6   LIVING_AREA   119608 non-null  float64\n",
      " 7   BLDG_VALUE    119608 non-null  float64\n",
      " 8   TOTAL_VALUE   119608 non-null  float64\n",
      " 9   GROSS_TAX     119608 non-null  float64\n",
      " 10  YR_BUILT      119608 non-null  float64\n",
      " 11  EXT_FINISHED  119608 non-null  object \n",
      " 12  EXT_COND      119608 non-null  object \n",
      " 13  KITCHEN       119608 non-null  float64\n",
      " 14  TT_RMS        119608 non-null  float64\n",
      " 15  BTHRM_STYLE1  119608 non-null  object \n",
      " 16  KITCHEN_TYPE  119608 non-null  object \n",
      " 17  HEAT_TYPE     119608 non-null  object \n",
      " 18  AC_TYPE       119608 non-null  object \n",
      "dtypes: float64(10), int64(1), object(8)\n",
      "memory usage: 22.3+ MB\n"
     ]
    }
   ],
   "source": [
    "## Checking if we have all the data in required format, not-null count, total records and features\n",
    "\n",
    "BosProp.info()"
   ]
  },
  {
   "cell_type": "code",
   "execution_count": 274,
   "id": "0deeb226",
   "metadata": {
    "ExecuteTime": {
     "end_time": "2021-12-14T21:09:43.945683Z",
     "start_time": "2021-12-14T21:09:43.847681Z"
    },
    "id": "0deeb226",
    "scrolled": false
   },
   "outputs": [
    {
     "data": {
      "text/html": [
       "<div>\n",
       "<style scoped>\n",
       "    .dataframe tbody tr th:only-of-type {\n",
       "        vertical-align: middle;\n",
       "    }\n",
       "\n",
       "    .dataframe tbody tr th {\n",
       "        vertical-align: top;\n",
       "    }\n",
       "\n",
       "    .dataframe thead th {\n",
       "        text-align: right;\n",
       "    }\n",
       "</style>\n",
       "<table border=\"1\" class=\"dataframe\">\n",
       "  <thead>\n",
       "    <tr style=\"text-align: right;\">\n",
       "      <th></th>\n",
       "      <th>TOTAL_VALUE</th>\n",
       "    </tr>\n",
       "    <tr>\n",
       "      <th>CITY</th>\n",
       "      <th></th>\n",
       "    </tr>\n",
       "  </thead>\n",
       "  <tbody>\n",
       "    <tr>\n",
       "      <th>BROOKLINE</th>\n",
       "      <td>98912.00</td>\n",
       "    </tr>\n",
       "    <tr>\n",
       "      <th>ROXBURY CROSSIN</th>\n",
       "      <td>86910.85</td>\n",
       "    </tr>\n",
       "    <tr>\n",
       "      <th>CHARLESTOWN</th>\n",
       "      <td>82973.38</td>\n",
       "    </tr>\n",
       "    <tr>\n",
       "      <th>BOSTON</th>\n",
       "      <td>82797.47</td>\n",
       "    </tr>\n",
       "    <tr>\n",
       "      <th>SOUTH BOSTON</th>\n",
       "      <td>78013.91</td>\n",
       "    </tr>\n",
       "  </tbody>\n",
       "</table>\n",
       "</div>"
      ],
      "text/plain": [
       "                 TOTAL_VALUE\n",
       "CITY                        \n",
       "BROOKLINE           98912.00\n",
       "ROXBURY CROSSIN     86910.85\n",
       "CHARLESTOWN         82973.38\n",
       "BOSTON              82797.47\n",
       "SOUTH BOSTON        78013.91"
      ]
     },
     "execution_count": 274,
     "metadata": {},
     "output_type": "execute_result"
    }
   ],
   "source": [
    "# Checking the mean property value with respect to the city.\n",
    "\n",
    "(BosProp[['TOTAL_VALUE','CITY']].groupby(['CITY']).mean()*0.1).nlargest(5, 'TOTAL_VALUE')"
   ]
  },
  {
   "cell_type": "code",
   "execution_count": 275,
   "id": "1c19cf6f",
   "metadata": {
    "ExecuteTime": {
     "end_time": "2021-12-14T21:09:44.058682Z",
     "start_time": "2021-12-14T21:09:43.953689Z"
    },
    "id": "1c19cf6f",
    "scrolled": true
   },
   "outputs": [
    {
     "data": {
      "text/html": [
       "<div>\n",
       "<style scoped>\n",
       "    .dataframe tbody tr th:only-of-type {\n",
       "        vertical-align: middle;\n",
       "    }\n",
       "\n",
       "    .dataframe tbody tr th {\n",
       "        vertical-align: top;\n",
       "    }\n",
       "\n",
       "    .dataframe thead th {\n",
       "        text-align: right;\n",
       "    }\n",
       "</style>\n",
       "<table border=\"1\" class=\"dataframe\">\n",
       "  <thead>\n",
       "    <tr style=\"text-align: right;\">\n",
       "      <th></th>\n",
       "      <th>TOTAL_VALUE</th>\n",
       "    </tr>\n",
       "    <tr>\n",
       "      <th>CITY</th>\n",
       "      <th></th>\n",
       "    </tr>\n",
       "  </thead>\n",
       "  <tbody>\n",
       "    <tr>\n",
       "      <th>DEDHAM</th>\n",
       "      <td>484800.00</td>\n",
       "    </tr>\n",
       "    <tr>\n",
       "      <th>BROOKLINE</th>\n",
       "      <td>232600.00</td>\n",
       "    </tr>\n",
       "    <tr>\n",
       "      <th>CHESTNUT HILL</th>\n",
       "      <td>207100.00</td>\n",
       "    </tr>\n",
       "    <tr>\n",
       "      <th>ROXBURY CROSSIN</th>\n",
       "      <td>153300.00</td>\n",
       "    </tr>\n",
       "    <tr>\n",
       "      <th>MATTAPAN</th>\n",
       "      <td>132400.00</td>\n",
       "    </tr>\n",
       "  </tbody>\n",
       "</table>\n",
       "</div>"
      ],
      "text/plain": [
       "                 TOTAL_VALUE\n",
       "CITY                        \n",
       "DEDHAM             484800.00\n",
       "BROOKLINE          232600.00\n",
       "CHESTNUT HILL      207100.00\n",
       "ROXBURY CROSSIN    153300.00\n",
       "MATTAPAN           132400.00"
      ]
     },
     "execution_count": 275,
     "metadata": {},
     "output_type": "execute_result"
    }
   ],
   "source": [
    "# Checking the min property value with respect to the city.\n",
    "\n",
    "\n",
    "BosProp[['TOTAL_VALUE','CITY']].groupby(['CITY']).min().nlargest(5, 'TOTAL_VALUE')#.groupby(['TOTAL_VALUE']).mean()\n"
   ]
  },
  {
   "cell_type": "code",
   "execution_count": 276,
   "id": "c860cd52",
   "metadata": {
    "ExecuteTime": {
     "end_time": "2021-12-14T21:09:44.310683Z",
     "start_time": "2021-12-14T21:09:44.067686Z"
    },
    "id": "c860cd52",
    "scrolled": true
   },
   "outputs": [
    {
     "data": {
      "text/html": [
       "<div>\n",
       "<style scoped>\n",
       "    .dataframe tbody tr th:only-of-type {\n",
       "        vertical-align: middle;\n",
       "    }\n",
       "\n",
       "    .dataframe tbody tr th {\n",
       "        vertical-align: top;\n",
       "    }\n",
       "\n",
       "    .dataframe thead th {\n",
       "        text-align: right;\n",
       "    }\n",
       "</style>\n",
       "<table border=\"1\" class=\"dataframe\">\n",
       "  <thead>\n",
       "    <tr style=\"text-align: right;\">\n",
       "      <th></th>\n",
       "      <th>TOTAL_VALUE</th>\n",
       "    </tr>\n",
       "    <tr>\n",
       "      <th>CITY</th>\n",
       "      <th></th>\n",
       "    </tr>\n",
       "  </thead>\n",
       "  <tbody>\n",
       "    <tr>\n",
       "      <th>DEDHAM</th>\n",
       "      <td>899900.00</td>\n",
       "    </tr>\n",
       "    <tr>\n",
       "      <th>MATTAPAN</th>\n",
       "      <td>1380100.00</td>\n",
       "    </tr>\n",
       "    <tr>\n",
       "      <th>HYDE PARK</th>\n",
       "      <td>1542300.00</td>\n",
       "    </tr>\n",
       "    <tr>\n",
       "      <th>WEST ROXBURY</th>\n",
       "      <td>1673400.00</td>\n",
       "    </tr>\n",
       "    <tr>\n",
       "      <th>DORCHESTER</th>\n",
       "      <td>1691700.00</td>\n",
       "    </tr>\n",
       "  </tbody>\n",
       "</table>\n",
       "</div>"
      ],
      "text/plain": [
       "              TOTAL_VALUE\n",
       "CITY                     \n",
       "DEDHAM          899900.00\n",
       "MATTAPAN       1380100.00\n",
       "HYDE PARK      1542300.00\n",
       "WEST ROXBURY   1673400.00\n",
       "DORCHESTER     1691700.00"
      ]
     },
     "execution_count": 276,
     "metadata": {},
     "output_type": "execute_result"
    }
   ],
   "source": [
    "# Checking the max property value with respect to the city.\n",
    "\n",
    "\n",
    "BosProp[['TOTAL_VALUE','CITY']].groupby(['CITY']).max().nsmallest(5, 'TOTAL_VALUE')#.groupby(['TOTAL_VALUE']).mean()\n"
   ]
  },
  {
   "cell_type": "code",
   "execution_count": 277,
   "id": "f59110f8",
   "metadata": {
    "ExecuteTime": {
     "end_time": "2021-12-14T21:09:44.592687Z",
     "start_time": "2021-12-14T21:09:44.317684Z"
    },
    "colab": {
     "base_uri": "https://localhost:8080/"
    },
    "id": "f59110f8",
    "outputId": "0dac55ab-18d6-4d0f-cf90-64172356864a",
    "scrolled": false
   },
   "outputs": [
    {
     "data": {
      "text/plain": [
       "CITY            0\n",
       "ZIPCODE         0\n",
       "BLDG_SEQ        0\n",
       "NUM_BLDGS       0\n",
       "BLDG_TYPE       0\n",
       "GROSS_AREA      0\n",
       "LIVING_AREA     0\n",
       "BLDG_VALUE      0\n",
       "TOTAL_VALUE     0\n",
       "GROSS_TAX       0\n",
       "YR_BUILT        0\n",
       "EXT_FINISHED    0\n",
       "EXT_COND        0\n",
       "KITCHEN         0\n",
       "TT_RMS          0\n",
       "BTHRM_STYLE1    0\n",
       "KITCHEN_TYPE    0\n",
       "HEAT_TYPE       0\n",
       "AC_TYPE         0\n",
       "dtype: int64"
      ]
     },
     "metadata": {},
     "output_type": "display_data"
    },
    {
     "name": "stdout",
     "output_type": "stream",
     "text": [
      "Series([], dtype: int64)\n"
     ]
    }
   ],
   "source": [
    "nullseries = BosProp.isnull().sum()\n",
    "display(nullseries)\n",
    "print(nullseries[nullseries > 20])  ## Double checking if any missing values are leftout. \n"
   ]
  },
  {
   "cell_type": "code",
   "execution_count": null,
   "id": "3e104936",
   "metadata": {
    "ExecuteTime": {
     "end_time": "2021-12-05T19:30:00.691288Z",
     "start_time": "2021-12-05T19:29:57.929292Z"
    },
    "colab": {
     "base_uri": "https://localhost:8080/",
     "height": 847
    },
    "id": "3e104936",
    "outputId": "ad87a99c-7102-4601-c04b-209e087ce186",
    "scrolled": true
   },
   "outputs": [],
   "source": []
  },
  {
   "cell_type": "code",
   "execution_count": 278,
   "id": "3b5fa61f",
   "metadata": {
    "ExecuteTime": {
     "end_time": "2021-12-14T21:09:44.656724Z",
     "start_time": "2021-12-14T21:09:44.604687Z"
    },
    "colab": {
     "base_uri": "https://localhost:8080/"
    },
    "id": "3b5fa61f",
    "outputId": "f77902a1-fce1-496e-efc3-2973f6ad9a5f",
    "scrolled": false
   },
   "outputs": [
    {
     "data": {
      "text/plain": [
       "Index(['CITY', 'ZIPCODE', 'BLDG_SEQ', 'NUM_BLDGS', 'BLDG_TYPE', 'GROSS_AREA',\n",
       "       'LIVING_AREA', 'BLDG_VALUE', 'TOTAL_VALUE', 'GROSS_TAX', 'YR_BUILT',\n",
       "       'EXT_FINISHED', 'EXT_COND', 'KITCHEN', 'TT_RMS', 'BTHRM_STYLE1',\n",
       "       'KITCHEN_TYPE', 'HEAT_TYPE', 'AC_TYPE'],\n",
       "      dtype='object')"
      ]
     },
     "execution_count": 278,
     "metadata": {},
     "output_type": "execute_result"
    }
   ],
   "source": [
    "BosProp.keys()"
   ]
  },
  {
   "cell_type": "code",
   "execution_count": 279,
   "id": "f4712346",
   "metadata": {
    "ExecuteTime": {
     "end_time": "2021-12-14T21:09:45.359681Z",
     "start_time": "2021-12-14T21:09:44.680682Z"
    },
    "id": "f4712346",
    "scrolled": true
   },
   "outputs": [
    {
     "name": "stdout",
     "output_type": "stream",
     "text": [
      "# # # # #   CITY   # # # # #\n"
     ]
    },
    {
     "data": {
      "text/plain": [
       "CITY           \n",
       "BOSTON             23920\n",
       "DORCHESTER         21156\n",
       "SOUTH BOSTON       10053\n",
       "BRIGHTON            9225\n",
       "WEST ROXBURY        8683\n",
       "JAMAICA PLAIN       8484\n",
       "HYDE PARK           7305\n",
       "ROSLINDALE          7299\n",
       "EAST BOSTON         6442\n",
       "CHARLESTOWN         4887\n",
       "MATTAPAN            3678\n",
       "ROXBURY             3371\n",
       "ALLSTON             3171\n",
       "ROXBURY CROSSIN      996\n",
       "CHESTNUT HILL        918\n",
       "BROOKLINE             15\n",
       "DEDHAM                 5\n",
       "dtype: int64"
      ]
     },
     "metadata": {},
     "output_type": "display_data"
    },
    {
     "name": "stdout",
     "output_type": "stream",
     "text": [
      "# # # # #   ZIPCODE   # # # # #\n"
     ]
    },
    {
     "data": {
      "text/plain": [
       "ZIPCODE\n",
       "2127       10062\n",
       "2135        9225\n",
       "2132        8684\n",
       "2124        8515\n",
       "2130        8485\n",
       "2136        7307\n",
       "2131        7299\n",
       "2128        6442\n",
       "2125        5341\n",
       "2116        4902\n",
       "2129        4886\n",
       "2122        4654\n",
       "2118        4548\n",
       "2126        3681\n",
       "2119        3340\n",
       "2134        3171\n",
       "2114        2819\n",
       "2121        2772\n",
       "2115        2592\n",
       "2215        2102\n",
       "2111        1550\n",
       "2113        1260\n",
       "2110        1201\n",
       "2109        1138\n",
       "2120        1021\n",
       "2467         918\n",
       "2210         845\n",
       "2108         823\n",
       "2446          10\n",
       "2199           5\n",
       "2445           5\n",
       "2026           5\n",
       "dtype: int64"
      ]
     },
     "metadata": {},
     "output_type": "display_data"
    },
    {
     "name": "stdout",
     "output_type": "stream",
     "text": [
      "# # # # #   BLDG_TYPE   # # # # #\n"
     ]
    },
    {
     "data": {
      "text/plain": [
       "BLDG_TYPE             \n",
       "CL - Colonial             16558\n",
       "CV - Conventional         12710\n",
       "LR - Low Rise             12668\n",
       "RM - Row Middle           12424\n",
       "DK - Decker               12164\n",
       "MR - Mid Rise             10780\n",
       "FS - Free Standing         8813\n",
       "RE - Row End               6599\n",
       "TF - Two Fam Stack         6080\n",
       "HR - High Rise             4771\n",
       "SD - Semi-Det              4115\n",
       "CP - Cape                  3697\n",
       "TH - Town House            2220\n",
       "RN - Ranch                 1912\n",
       "DX - Duplex                1548\n",
       "BW - Bungalow              1082\n",
       "RR - Raised Ranch           839\n",
       "VT - Victorian              230\n",
       "SL - Split Level            209\n",
       "TD - Tudor                   72\n",
       "CN - Contemporary            69\n",
       "TL - Tri-Level               28\n",
       "OT - Other                   11\n",
       "BL - Bi-Level                 4\n",
       "111 - APT 4-6 UNITS           3\n",
       "121 - ROOMING HOUSE           1\n",
       "104 - TWO-FAM DWELLING        1\n",
       "dtype: int64"
      ]
     },
     "metadata": {},
     "output_type": "display_data"
    },
    {
     "name": "stdout",
     "output_type": "stream",
     "text": [
      "# # # # #   EXT_FINISHED   # # # # #\n"
     ]
    },
    {
     "data": {
      "text/plain": [
       "EXT_FINISHED     \n",
       "B - Brick/Stone      40374\n",
       "M - Vinyl            39026\n",
       "W - Wood Shake       15244\n",
       "F - Frame/Clapbrd    11361\n",
       "C - Cement Board      4524\n",
       "A - Asbestos          3876\n",
       "G - Glass             1579\n",
       "S - Stucco            1145\n",
       "P - Asphalt            948\n",
       "U - Alum Siding        643\n",
       "V - Brck/Stn Venr      469\n",
       "O - Other              209\n",
       "K - Concrete           150\n",
       "01 - Brick              34\n",
       "09 - Wood Siding        25\n",
       "10 - Alum/Vinyl          1\n",
       "dtype: int64"
      ]
     },
     "metadata": {},
     "output_type": "display_data"
    },
    {
     "name": "stdout",
     "output_type": "stream",
     "text": [
      "# # # # #   EXT_COND   # # # # #\n"
     ]
    },
    {
     "data": {
      "text/plain": [
       "EXT_COND     \n",
       "A - Average      72287\n",
       "G - Good         41791\n",
       "E - Excellent     3246\n",
       "F - Fair          2200\n",
       "P - Poor            84\n",
       "dtype: int64"
      ]
     },
     "metadata": {},
     "output_type": "display_data"
    },
    {
     "name": "stdout",
     "output_type": "stream",
     "text": [
      "# # # # #   KITCHEN   # # # # #\n"
     ]
    },
    {
     "data": {
      "text/plain": [
       "KITCHEN\n",
       "1.00       89118\n",
       "2.00       17037\n",
       "3.00       13346\n",
       "4.00         106\n",
       "5.00           1\n",
       "dtype: int64"
      ]
     },
     "metadata": {},
     "output_type": "display_data"
    },
    {
     "name": "stdout",
     "output_type": "stream",
     "text": [
      "# # # # #   BTHRM_STYLE1   # # # # #\n"
     ]
    },
    {
     "data": {
      "text/plain": [
       "BTHRM_STYLE1     \n",
       "S - Semi-Modern      59073\n",
       "M - Modern           51362\n",
       "N - No Remodeling     5740\n",
       "L - Luxury            3433\n",
       "dtype: int64"
      ]
     },
     "metadata": {},
     "output_type": "display_data"
    },
    {
     "name": "stdout",
     "output_type": "stream",
     "text": [
      "# # # # #   KITCHEN_TYPE   # # # # #\n"
     ]
    },
    {
     "data": {
      "text/plain": [
       "KITCHEN_TYPE               \n",
       "O - One Person                 36775\n",
       "1F - 1 Full Eat In Kitchens    28347\n",
       "F - Full Eat In                20967\n",
       "2F - 2 Full Eat In Kitchens    16633\n",
       "3F - 3 Full Eat In Kitchens    11938\n",
       "P - Pullman                     2491\n",
       "0F - 0 Full Eat In Kitchens     2325\n",
       "N - None                         106\n",
       "4F - 4 Full Eat In Kitchens       25\n",
       "5F - 5 Full Eat In Kitchens        1\n",
       "dtype: int64"
      ]
     },
     "metadata": {},
     "output_type": "display_data"
    },
    {
     "name": "stdout",
     "output_type": "stream",
     "text": [
      "# # # # #   HEAT_TYPE   # # # # #\n"
     ]
    },
    {
     "data": {
      "text/plain": [
       "HEAT_TYPE         \n",
       "W - Ht Water/Steam    68066\n",
       "F - Forced Hot Air    41576\n",
       "E - Electric           5476\n",
       "P - Heat Pump          3697\n",
       "S - Space Heat          677\n",
       "N - None                 83\n",
       "O - Other                33\n",
       "dtype: int64"
      ]
     },
     "metadata": {},
     "output_type": "display_data"
    },
    {
     "name": "stdout",
     "output_type": "stream",
     "text": [
      "# # # # #   AC_TYPE   # # # # #\n"
     ]
    },
    {
     "data": {
      "text/plain": [
       "AC_TYPE        \n",
       "N - None           77321\n",
       "C - Central AC     41606\n",
       "D - Ductless AC      680\n",
       "Y - Yes                1\n",
       "dtype: int64"
      ]
     },
     "metadata": {},
     "output_type": "display_data"
    }
   ],
   "source": [
    "for col in ['CITY', 'ZIPCODE', 'BLDG_TYPE', 'EXT_FINISHED', 'EXT_COND', 'KITCHEN', 'BTHRM_STYLE1', 'KITCHEN_TYPE', 'HEAT_TYPE', 'AC_TYPE'] :\n",
    "    print(\"# # # # #  \",col,\"  # # # # #\")\n",
    "    display(BosProp[[col]].value_counts())\n",
    "    "
   ]
  },
  {
   "cell_type": "code",
   "execution_count": 280,
   "id": "1bb19eca",
   "metadata": {
    "ExecuteTime": {
     "end_time": "2021-12-14T21:09:47.156683Z",
     "start_time": "2021-12-14T21:09:45.366684Z"
    },
    "id": "1bb19eca",
    "scrolled": false
   },
   "outputs": [
    {
     "data": {
      "image/png": "[encoded data removed]",
      "text/plain": [
       "<Figure size 432x288 with 1 Axes>"
      ]
     },
     "metadata": {
      "needs_background": "light"
     },
     "output_type": "display_data"
    }
   ],
   "source": [
    "sns.countplot(data=BosProp, x='CITY')\n",
    "plt.xticks(rotation=90)\n",
    "plt.show()"
   ]
  },
  {
   "cell_type": "code",
   "execution_count": 281,
   "id": "1aa7104b",
   "metadata": {
    "ExecuteTime": {
     "end_time": "2021-12-14T21:09:47.218681Z",
     "start_time": "2021-12-14T21:09:47.163683Z"
    },
    "id": "1aa7104b",
    "scrolled": false
   },
   "outputs": [
    {
     "data": {
      "text/plain": [
       "Index(['CITY', 'BLDG_TYPE', 'EXT_FINISHED', 'EXT_COND', 'BTHRM_STYLE1',\n",
       "       'KITCHEN_TYPE', 'HEAT_TYPE', 'AC_TYPE'],\n",
       "      dtype='object')"
      ]
     },
     "execution_count": 281,
     "metadata": {},
     "output_type": "execute_result"
    }
   ],
   "source": [
    "BosProp.select_dtypes(include='object').keys()"
   ]
  },
  {
   "cell_type": "code",
   "execution_count": 282,
   "id": "1bf2eebe",
   "metadata": {
    "ExecuteTime": {
     "end_time": "2021-12-14T21:09:57.368683Z",
     "start_time": "2021-12-14T21:09:47.224685Z"
    },
    "id": "1bf2eebe",
    "scrolled": false
   },
   "outputs": [
    {
     "data": {
      "text/plain": [
       "<Figure size 1440x1440 with 0 Axes>"
      ]
     },
     "metadata": {},
     "output_type": "display_data"
    },
    {
     "data": {
      "image/png": "[encoded data removed]",
      "text/plain": [
       "<Figure size 432x432 with 3 Axes>"
      ]
     },
     "metadata": {
      "needs_background": "light"
     },
     "output_type": "display_data"
    }
   ],
   "source": [
    "plt.figure(figsize = (20,20))\n",
    "\n",
    "sns.jointplot(x='GROSS_AREA', y='TOTAL_VALUE', data=BosProp)\n",
    "\n",
    "plt.show()\n",
    "#ax.set_xticklabels(ax.get_xticklabels(),rotation = 30)\n"
   ]
  },
  {
   "cell_type": "code",
   "execution_count": 283,
   "id": "2f0fd49b",
   "metadata": {
    "ExecuteTime": {
     "end_time": "2021-12-14T21:09:57.465689Z",
     "start_time": "2021-12-14T21:09:57.403681Z"
    },
    "id": "2f0fd49b",
    "scrolled": false
   },
   "outputs": [],
   "source": [
    "fltBos = BosProp[BosProp['GROSS_AREA']>20000]"
   ]
  },
  {
   "cell_type": "code",
   "execution_count": 284,
   "id": "d7718498",
   "metadata": {
    "ExecuteTime": {
     "end_time": "2021-12-14T21:09:57.519687Z",
     "start_time": "2021-12-14T21:09:57.497684Z"
    },
    "id": "d7718498",
    "scrolled": false
   },
   "outputs": [],
   "source": [
    "# fig, axs = plt.subplots(ncols=5, nrows=2, figsize=(15, 8))\n",
    "# index = 0\n",
    "# axs = axs.flatten()\n",
    "# for k,v in fltBos.select_dtypes(include='number').items():\n",
    "#     sns.boxplot(y=k, data=fltBos, ax=axs[index])\n",
    "#     index += 1\n",
    "# plt.tight_layout(pad=0.4, w_pad=0.5, h_pad=5.0)"
   ]
  },
  {
   "cell_type": "code",
   "execution_count": 285,
   "id": "dfe901aa",
   "metadata": {
    "ExecuteTime": {
     "end_time": "2021-12-14T21:09:57.545689Z",
     "start_time": "2021-12-14T21:09:57.530689Z"
    },
    "id": "dfe901aa",
    "scrolled": false
   },
   "outputs": [],
   "source": [
    "#fltBos.hist(figsize=(8,7))\n",
    "plt.show()"
   ]
  },
  {
   "cell_type": "code",
   "execution_count": 286,
   "id": "5197fdf8",
   "metadata": {
    "ExecuteTime": {
     "end_time": "2021-12-14T21:09:57.581679Z",
     "start_time": "2021-12-14T21:09:57.556683Z"
    },
    "id": "5197fdf8",
    "scrolled": false
   },
   "outputs": [],
   "source": [
    "# import seaborn as sns\n",
    "# from matplotlib import pyplot as plt\n",
    "# sns.set_style(\"ticks\")\n",
    "# sns.pairplot(BosProp,hue = 'ZIPCODE',diag_kind = \"kde\",kind = \"scatter\",palette = \"husl\")\n",
    "# plt.show()"
   ]
  },
  {
   "cell_type": "markdown",
   "id": "7dfa6f62",
   "metadata": {
    "id": "7dfa6f62"
   },
   "source": [
    " ## Feature Engineering"
   ]
  },
  {
   "cell_type": "code",
   "execution_count": 287,
   "id": "87fa225e",
   "metadata": {
    "ExecuteTime": {
     "end_time": "2021-12-14T21:09:57.973688Z",
     "start_time": "2021-12-14T21:09:57.589689Z"
    },
    "colab": {
     "base_uri": "https://localhost:8080/",
     "height": 704
    },
    "id": "87fa225e",
    "outputId": "d3859385-c7f9-4afc-d484-15edf69bd3a4",
    "scrolled": false
   },
   "outputs": [
    {
     "data": {
      "text/html": [
       "<div>\n",
       "<style scoped>\n",
       "    .dataframe tbody tr th:only-of-type {\n",
       "        vertical-align: middle;\n",
       "    }\n",
       "\n",
       "    .dataframe tbody tr th {\n",
       "        vertical-align: top;\n",
       "    }\n",
       "\n",
       "    .dataframe thead th {\n",
       "        text-align: right;\n",
       "    }\n",
       "</style>\n",
       "<table border=\"1\" class=\"dataframe\">\n",
       "  <thead>\n",
       "    <tr style=\"text-align: right;\">\n",
       "      <th></th>\n",
       "      <th>CITY</th>\n",
       "      <th>ZIPCODE</th>\n",
       "      <th>BLDG_SEQ</th>\n",
       "      <th>NUM_BLDGS</th>\n",
       "      <th>BLDG_TYPE</th>\n",
       "      <th>GROSS_AREA</th>\n",
       "      <th>LIVING_AREA</th>\n",
       "      <th>BLDG_VALUE</th>\n",
       "      <th>TOTAL_VALUE</th>\n",
       "      <th>GROSS_TAX</th>\n",
       "      <th>YR_BUILT</th>\n",
       "      <th>EXT_FINISHED</th>\n",
       "      <th>EXT_COND</th>\n",
       "      <th>KITCHEN</th>\n",
       "      <th>TT_RMS</th>\n",
       "      <th>BTHRM_STYLE1</th>\n",
       "      <th>KITCHEN_TYPE</th>\n",
       "      <th>HEAT_TYPE</th>\n",
       "      <th>AC_TYPE</th>\n",
       "    </tr>\n",
       "  </thead>\n",
       "  <tbody>\n",
       "    <tr>\n",
       "      <th>0</th>\n",
       "      <td>EAST BOSTON</td>\n",
       "      <td>2128</td>\n",
       "      <td>1.00</td>\n",
       "      <td>1.00</td>\n",
       "      <td>RE - Row End</td>\n",
       "      <td>3353.00</td>\n",
       "      <td>2202.00</td>\n",
       "      <td>539900.00</td>\n",
       "      <td>719400.00</td>\n",
       "      <td>7676.00</td>\n",
       "      <td>1900.00</td>\n",
       "      <td>A - Asbestos</td>\n",
       "      <td>F - Fair</td>\n",
       "      <td>3.00</td>\n",
       "      <td>12.00</td>\n",
       "      <td>S - Semi-Modern</td>\n",
       "      <td>3F - 3 Full Eat In Kitchens</td>\n",
       "      <td>W - Ht Water/Steam</td>\n",
       "      <td>N - None</td>\n",
       "    </tr>\n",
       "    <tr>\n",
       "      <th>1</th>\n",
       "      <td>EAST BOSTON</td>\n",
       "      <td>2128</td>\n",
       "      <td>1.00</td>\n",
       "      <td>1.00</td>\n",
       "      <td>RM - Row Middle</td>\n",
       "      <td>3299.00</td>\n",
       "      <td>2307.00</td>\n",
       "      <td>564500.00</td>\n",
       "      <td>744800.00</td>\n",
       "      <td>7947.02</td>\n",
       "      <td>1920.00</td>\n",
       "      <td>M - Vinyl</td>\n",
       "      <td>A - Average</td>\n",
       "      <td>3.00</td>\n",
       "      <td>9.00</td>\n",
       "      <td>M - Modern</td>\n",
       "      <td>3F - 3 Full Eat In Kitchens</td>\n",
       "      <td>F - Forced Hot Air</td>\n",
       "      <td>C - Central AC</td>\n",
       "    </tr>\n",
       "    <tr>\n",
       "      <th>2</th>\n",
       "      <td>EAST BOSTON</td>\n",
       "      <td>2128</td>\n",
       "      <td>1.00</td>\n",
       "      <td>1.00</td>\n",
       "      <td>RM - Row Middle</td>\n",
       "      <td>3392.00</td>\n",
       "      <td>2268.00</td>\n",
       "      <td>549700.00</td>\n",
       "      <td>730500.00</td>\n",
       "      <td>7794.44</td>\n",
       "      <td>1905.00</td>\n",
       "      <td>M - Vinyl</td>\n",
       "      <td>G - Good</td>\n",
       "      <td>3.00</td>\n",
       "      <td>13.00</td>\n",
       "      <td>M - Modern</td>\n",
       "      <td>3F - 3 Full Eat In Kitchens</td>\n",
       "      <td>S - Space Heat</td>\n",
       "      <td>N - None</td>\n",
       "    </tr>\n",
       "    <tr>\n",
       "      <th>3</th>\n",
       "      <td>EAST BOSTON</td>\n",
       "      <td>2128</td>\n",
       "      <td>1.00</td>\n",
       "      <td>1.00</td>\n",
       "      <td>RM - Row Middle</td>\n",
       "      <td>3108.00</td>\n",
       "      <td>2028.00</td>\n",
       "      <td>486500.00</td>\n",
       "      <td>667900.00</td>\n",
       "      <td>7126.49</td>\n",
       "      <td>1900.00</td>\n",
       "      <td>M - Vinyl</td>\n",
       "      <td>A - Average</td>\n",
       "      <td>3.00</td>\n",
       "      <td>11.00</td>\n",
       "      <td>S - Semi-Modern</td>\n",
       "      <td>3F - 3 Full Eat In Kitchens</td>\n",
       "      <td>W - Ht Water/Steam</td>\n",
       "      <td>N - None</td>\n",
       "    </tr>\n",
       "    <tr>\n",
       "      <th>4</th>\n",
       "      <td>EAST BOSTON</td>\n",
       "      <td>2128</td>\n",
       "      <td>1.00</td>\n",
       "      <td>1.00</td>\n",
       "      <td>RE - Row End</td>\n",
       "      <td>3700.00</td>\n",
       "      <td>2546.00</td>\n",
       "      <td>511400.00</td>\n",
       "      <td>714200.00</td>\n",
       "      <td>7620.52</td>\n",
       "      <td>1900.00</td>\n",
       "      <td>M - Vinyl</td>\n",
       "      <td>A - Average</td>\n",
       "      <td>2.00</td>\n",
       "      <td>13.00</td>\n",
       "      <td>S - Semi-Modern</td>\n",
       "      <td>2F - 2 Full Eat In Kitchens</td>\n",
       "      <td>W - Ht Water/Steam</td>\n",
       "      <td>N - None</td>\n",
       "    </tr>\n",
       "    <tr>\n",
       "      <th>...</th>\n",
       "      <td>...</td>\n",
       "      <td>...</td>\n",
       "      <td>...</td>\n",
       "      <td>...</td>\n",
       "      <td>...</td>\n",
       "      <td>...</td>\n",
       "      <td>...</td>\n",
       "      <td>...</td>\n",
       "      <td>...</td>\n",
       "      <td>...</td>\n",
       "      <td>...</td>\n",
       "      <td>...</td>\n",
       "      <td>...</td>\n",
       "      <td>...</td>\n",
       "      <td>...</td>\n",
       "      <td>...</td>\n",
       "      <td>...</td>\n",
       "      <td>...</td>\n",
       "      <td>...</td>\n",
       "    </tr>\n",
       "    <tr>\n",
       "      <th>177080</th>\n",
       "      <td>BRIGHTON</td>\n",
       "      <td>2135</td>\n",
       "      <td>1.00</td>\n",
       "      <td>1.00</td>\n",
       "      <td>SD - Semi-Det</td>\n",
       "      <td>3619.00</td>\n",
       "      <td>2347.00</td>\n",
       "      <td>525600.00</td>\n",
       "      <td>778400.00</td>\n",
       "      <td>8305.53</td>\n",
       "      <td>1920.00</td>\n",
       "      <td>S - Stucco</td>\n",
       "      <td>A - Average</td>\n",
       "      <td>1.00</td>\n",
       "      <td>9.00</td>\n",
       "      <td>S - Semi-Modern</td>\n",
       "      <td>1F - 1 Full Eat In Kitchens</td>\n",
       "      <td>W - Ht Water/Steam</td>\n",
       "      <td>N - None</td>\n",
       "    </tr>\n",
       "    <tr>\n",
       "      <th>177081</th>\n",
       "      <td>BRIGHTON</td>\n",
       "      <td>2135</td>\n",
       "      <td>1.00</td>\n",
       "      <td>1.00</td>\n",
       "      <td>SD - Semi-Det</td>\n",
       "      <td>3660.00</td>\n",
       "      <td>2390.00</td>\n",
       "      <td>552700.00</td>\n",
       "      <td>812800.00</td>\n",
       "      <td>8672.58</td>\n",
       "      <td>1920.00</td>\n",
       "      <td>S - Stucco</td>\n",
       "      <td>A - Average</td>\n",
       "      <td>1.00</td>\n",
       "      <td>10.00</td>\n",
       "      <td>S - Semi-Modern</td>\n",
       "      <td>1F - 1 Full Eat In Kitchens</td>\n",
       "      <td>W - Ht Water/Steam</td>\n",
       "      <td>N - None</td>\n",
       "    </tr>\n",
       "    <tr>\n",
       "      <th>177082</th>\n",
       "      <td>BRIGHTON</td>\n",
       "      <td>2135</td>\n",
       "      <td>1.00</td>\n",
       "      <td>1.00</td>\n",
       "      <td>CV - Conventional</td>\n",
       "      <td>4306.00</td>\n",
       "      <td>2951.00</td>\n",
       "      <td>700900.00</td>\n",
       "      <td>1042300.00</td>\n",
       "      <td>11121.34</td>\n",
       "      <td>1920.00</td>\n",
       "      <td>M - Vinyl</td>\n",
       "      <td>A - Average</td>\n",
       "      <td>2.00</td>\n",
       "      <td>11.00</td>\n",
       "      <td>M - Modern</td>\n",
       "      <td>2F - 2 Full Eat In Kitchens</td>\n",
       "      <td>F - Forced Hot Air</td>\n",
       "      <td>N - None</td>\n",
       "    </tr>\n",
       "    <tr>\n",
       "      <th>177084</th>\n",
       "      <td>BRIGHTON</td>\n",
       "      <td>2135</td>\n",
       "      <td>1.00</td>\n",
       "      <td>1.00</td>\n",
       "      <td>FS - Free Standing</td>\n",
       "      <td>2777.00</td>\n",
       "      <td>1410.00</td>\n",
       "      <td>509000.00</td>\n",
       "      <td>509000.00</td>\n",
       "      <td>5431.03</td>\n",
       "      <td>1920.00</td>\n",
       "      <td>M - Vinyl</td>\n",
       "      <td>A - Average</td>\n",
       "      <td>1.00</td>\n",
       "      <td>8.00</td>\n",
       "      <td>M - Modern</td>\n",
       "      <td>F - Full Eat In</td>\n",
       "      <td>W - Ht Water/Steam</td>\n",
       "      <td>N - None</td>\n",
       "    </tr>\n",
       "    <tr>\n",
       "      <th>177085</th>\n",
       "      <td>BRIGHTON</td>\n",
       "      <td>2135</td>\n",
       "      <td>1.00</td>\n",
       "      <td>1.00</td>\n",
       "      <td>FS - Free Standing</td>\n",
       "      <td>1401.00</td>\n",
       "      <td>1401.00</td>\n",
       "      <td>462000.00</td>\n",
       "      <td>462000.00</td>\n",
       "      <td>4929.54</td>\n",
       "      <td>1920.00</td>\n",
       "      <td>M - Vinyl</td>\n",
       "      <td>A - Average</td>\n",
       "      <td>1.00</td>\n",
       "      <td>7.00</td>\n",
       "      <td>S - Semi-Modern</td>\n",
       "      <td>F - Full Eat In</td>\n",
       "      <td>W - Ht Water/Steam</td>\n",
       "      <td>N - None</td>\n",
       "    </tr>\n",
       "  </tbody>\n",
       "</table>\n",
       "<p>119608 rows × 19 columns</p>\n",
       "</div>"
      ],
      "text/plain": [
       "               CITY  ZIPCODE  BLDG_SEQ  NUM_BLDGS           BLDG_TYPE  \\\n",
       "0       EAST BOSTON     2128      1.00       1.00        RE - Row End   \n",
       "1       EAST BOSTON     2128      1.00       1.00     RM - Row Middle   \n",
       "2       EAST BOSTON     2128      1.00       1.00     RM - Row Middle   \n",
       "3       EAST BOSTON     2128      1.00       1.00     RM - Row Middle   \n",
       "4       EAST BOSTON     2128      1.00       1.00        RE - Row End   \n",
       "...             ...      ...       ...        ...                 ...   \n",
       "177080     BRIGHTON     2135      1.00       1.00       SD - Semi-Det   \n",
       "177081     BRIGHTON     2135      1.00       1.00       SD - Semi-Det   \n",
       "177082     BRIGHTON     2135      1.00       1.00   CV - Conventional   \n",
       "177084     BRIGHTON     2135      1.00       1.00  FS - Free Standing   \n",
       "177085     BRIGHTON     2135      1.00       1.00  FS - Free Standing   \n",
       "\n",
       "        GROSS_AREA  LIVING_AREA  BLDG_VALUE  TOTAL_VALUE  GROSS_TAX  YR_BUILT  \\\n",
       "0          3353.00      2202.00   539900.00    719400.00    7676.00   1900.00   \n",
       "1          3299.00      2307.00   564500.00    744800.00    7947.02   1920.00   \n",
       "2          3392.00      2268.00   549700.00    730500.00    7794.44   1905.00   \n",
       "3          3108.00      2028.00   486500.00    667900.00    7126.49   1900.00   \n",
       "4          3700.00      2546.00   511400.00    714200.00    7620.52   1900.00   \n",
       "...            ...          ...         ...          ...        ...       ...   \n",
       "177080     3619.00      2347.00   525600.00    778400.00    8305.53   1920.00   \n",
       "177081     3660.00      2390.00   552700.00    812800.00    8672.58   1920.00   \n",
       "177082     4306.00      2951.00   700900.00   1042300.00   11121.34   1920.00   \n",
       "177084     2777.00      1410.00   509000.00    509000.00    5431.03   1920.00   \n",
       "177085     1401.00      1401.00   462000.00    462000.00    4929.54   1920.00   \n",
       "\n",
       "        EXT_FINISHED     EXT_COND  KITCHEN  TT_RMS     BTHRM_STYLE1  \\\n",
       "0       A - Asbestos     F - Fair     3.00   12.00  S - Semi-Modern   \n",
       "1          M - Vinyl  A - Average     3.00    9.00       M - Modern   \n",
       "2          M - Vinyl     G - Good     3.00   13.00       M - Modern   \n",
       "3          M - Vinyl  A - Average     3.00   11.00  S - Semi-Modern   \n",
       "4          M - Vinyl  A - Average     2.00   13.00  S - Semi-Modern   \n",
       "...              ...          ...      ...     ...              ...   \n",
       "177080    S - Stucco  A - Average     1.00    9.00  S - Semi-Modern   \n",
       "177081    S - Stucco  A - Average     1.00   10.00  S - Semi-Modern   \n",
       "177082     M - Vinyl  A - Average     2.00   11.00       M - Modern   \n",
       "177084     M - Vinyl  A - Average     1.00    8.00       M - Modern   \n",
       "177085     M - Vinyl  A - Average     1.00    7.00  S - Semi-Modern   \n",
       "\n",
       "                       KITCHEN_TYPE           HEAT_TYPE         AC_TYPE  \n",
       "0       3F - 3 Full Eat In Kitchens  W - Ht Water/Steam        N - None  \n",
       "1       3F - 3 Full Eat In Kitchens  F - Forced Hot Air  C - Central AC  \n",
       "2       3F - 3 Full Eat In Kitchens      S - Space Heat        N - None  \n",
       "3       3F - 3 Full Eat In Kitchens  W - Ht Water/Steam        N - None  \n",
       "4       2F - 2 Full Eat In Kitchens  W - Ht Water/Steam        N - None  \n",
       "...                             ...                 ...             ...  \n",
       "177080  1F - 1 Full Eat In Kitchens  W - Ht Water/Steam        N - None  \n",
       "177081  1F - 1 Full Eat In Kitchens  W - Ht Water/Steam        N - None  \n",
       "177082  2F - 2 Full Eat In Kitchens  F - Forced Hot Air        N - None  \n",
       "177084              F - Full Eat In  W - Ht Water/Steam        N - None  \n",
       "177085              F - Full Eat In  W - Ht Water/Steam        N - None  \n",
       "\n",
       "[119608 rows x 19 columns]"
      ]
     },
     "execution_count": 287,
     "metadata": {},
     "output_type": "execute_result"
    }
   ],
   "source": [
    "BosProp"
   ]
  },
  {
   "cell_type": "code",
   "execution_count": 288,
   "id": "wWeU7YbiLFnu",
   "metadata": {
    "ExecuteTime": {
     "end_time": "2021-12-14T21:09:58.495683Z",
     "start_time": "2021-12-14T21:09:58.016685Z"
    },
    "id": "wWeU7YbiLFnu",
    "scrolled": false
   },
   "outputs": [],
   "source": [
    "## Converting Int, float values into string. As they are categorical values. \n",
    "\n",
    "BosProp['ZIPCODE'] = BosProp['ZIPCODE'].apply(str)\n",
    "BosProp['YR_BUILT'] = BosProp['YR_BUILT'].apply(str)\n"
   ]
  },
  {
   "cell_type": "code",
   "execution_count": 289,
   "id": "-0UBYLAzJ9mJ",
   "metadata": {
    "ExecuteTime": {
     "end_time": "2021-12-14T21:09:58.919683Z",
     "start_time": "2021-12-14T21:09:58.516683Z"
    },
    "colab": {
     "base_uri": "https://localhost:8080/",
     "height": 143
    },
    "id": "-0UBYLAzJ9mJ",
    "outputId": "6135bd06-6710-4e1e-a29a-9328abe86a11",
    "scrolled": false
   },
   "outputs": [
    {
     "data": {
      "text/html": [
       "<div>\n",
       "<style scoped>\n",
       "    .dataframe tbody tr th:only-of-type {\n",
       "        vertical-align: middle;\n",
       "    }\n",
       "\n",
       "    .dataframe tbody tr th {\n",
       "        vertical-align: top;\n",
       "    }\n",
       "\n",
       "    .dataframe thead th {\n",
       "        text-align: right;\n",
       "    }\n",
       "</style>\n",
       "<table border=\"1\" class=\"dataframe\">\n",
       "  <thead>\n",
       "    <tr style=\"text-align: right;\">\n",
       "      <th></th>\n",
       "      <th>CITY</th>\n",
       "      <th>ZIPCODE</th>\n",
       "      <th>BLDG_TYPE</th>\n",
       "      <th>YR_BUILT</th>\n",
       "      <th>EXT_FINISHED</th>\n",
       "      <th>EXT_COND</th>\n",
       "      <th>BTHRM_STYLE1</th>\n",
       "      <th>KITCHEN_TYPE</th>\n",
       "      <th>HEAT_TYPE</th>\n",
       "      <th>AC_TYPE</th>\n",
       "    </tr>\n",
       "  </thead>\n",
       "  <tbody>\n",
       "    <tr>\n",
       "      <th>0</th>\n",
       "      <td>EAST BOSTON</td>\n",
       "      <td>2128</td>\n",
       "      <td>RE - Row End</td>\n",
       "      <td>1900.0</td>\n",
       "      <td>A - Asbestos</td>\n",
       "      <td>F - Fair</td>\n",
       "      <td>S - Semi-Modern</td>\n",
       "      <td>3F - 3 Full Eat In Kitchens</td>\n",
       "      <td>W - Ht Water/Steam</td>\n",
       "      <td>N - None</td>\n",
       "    </tr>\n",
       "    <tr>\n",
       "      <th>1</th>\n",
       "      <td>EAST BOSTON</td>\n",
       "      <td>2128</td>\n",
       "      <td>RM - Row Middle</td>\n",
       "      <td>1920.0</td>\n",
       "      <td>M - Vinyl</td>\n",
       "      <td>A - Average</td>\n",
       "      <td>M - Modern</td>\n",
       "      <td>3F - 3 Full Eat In Kitchens</td>\n",
       "      <td>F - Forced Hot Air</td>\n",
       "      <td>C - Central AC</td>\n",
       "    </tr>\n",
       "    <tr>\n",
       "      <th>2</th>\n",
       "      <td>EAST BOSTON</td>\n",
       "      <td>2128</td>\n",
       "      <td>RM - Row Middle</td>\n",
       "      <td>1905.0</td>\n",
       "      <td>M - Vinyl</td>\n",
       "      <td>G - Good</td>\n",
       "      <td>M - Modern</td>\n",
       "      <td>3F - 3 Full Eat In Kitchens</td>\n",
       "      <td>S - Space Heat</td>\n",
       "      <td>N - None</td>\n",
       "    </tr>\n",
       "  </tbody>\n",
       "</table>\n",
       "</div>"
      ],
      "text/plain": [
       "          CITY ZIPCODE        BLDG_TYPE YR_BUILT  EXT_FINISHED     EXT_COND  \\\n",
       "0  EAST BOSTON    2128     RE - Row End   1900.0  A - Asbestos     F - Fair   \n",
       "1  EAST BOSTON    2128  RM - Row Middle   1920.0     M - Vinyl  A - Average   \n",
       "2  EAST BOSTON    2128  RM - Row Middle   1905.0     M - Vinyl     G - Good   \n",
       "\n",
       "      BTHRM_STYLE1                 KITCHEN_TYPE           HEAT_TYPE  \\\n",
       "0  S - Semi-Modern  3F - 3 Full Eat In Kitchens  W - Ht Water/Steam   \n",
       "1       M - Modern  3F - 3 Full Eat In Kitchens  F - Forced Hot Air   \n",
       "2       M - Modern  3F - 3 Full Eat In Kitchens      S - Space Heat   \n",
       "\n",
       "          AC_TYPE  \n",
       "0        N - None  \n",
       "1  C - Central AC  \n",
       "2        N - None  "
      ]
     },
     "execution_count": 289,
     "metadata": {},
     "output_type": "execute_result"
    }
   ],
   "source": [
    "# limit to categorical data using df.select_dtypes() Creating a sub dataset to work with.\n",
    "Cat = BosProp.select_dtypes(include=[object])\n",
    "Cat.head(3)"
   ]
  },
  {
   "cell_type": "code",
   "execution_count": 290,
   "id": "6rZfSmJrJ9r9",
   "metadata": {
    "ExecuteTime": {
     "end_time": "2021-12-14T21:09:58.969687Z",
     "start_time": "2021-12-14T21:09:58.932693Z"
    },
    "colab": {
     "base_uri": "https://localhost:8080/"
    },
    "id": "6rZfSmJrJ9r9",
    "outputId": "639f5328-de7e-4af7-c772-11e25359931f",
    "scrolled": false
   },
   "outputs": [
    {
     "data": {
      "text/plain": [
       "(119608, 10)"
      ]
     },
     "execution_count": 290,
     "metadata": {},
     "output_type": "execute_result"
    }
   ],
   "source": [
    "# check original shape\n",
    "Cat.shape"
   ]
  },
  {
   "cell_type": "code",
   "execution_count": 291,
   "id": "n24Vqb3pJ9xb",
   "metadata": {
    "ExecuteTime": {
     "end_time": "2021-12-14T21:09:59.520679Z",
     "start_time": "2021-12-14T21:09:58.982689Z"
    },
    "colab": {
     "base_uri": "https://localhost:8080/"
    },
    "id": "n24Vqb3pJ9xb",
    "outputId": "9fe41960-596c-4b9b-f230-e6a8e8c1e969",
    "scrolled": false
   },
   "outputs": [
    {
     "data": {
      "text/plain": [
       "Index(['CITY', 'ZIPCODE', 'BLDG_TYPE', 'YR_BUILT', 'EXT_FINISHED', 'EXT_COND',\n",
       "       'BTHRM_STYLE1', 'KITCHEN_TYPE', 'HEAT_TYPE', 'AC_TYPE'],\n",
       "      dtype='object')"
      ]
     },
     "execution_count": 291,
     "metadata": {},
     "output_type": "execute_result"
    }
   ],
   "source": [
    "# Categorical Columns. Rechecking if correct features are selected.\n",
    "Cat.columns"
   ]
  },
  {
   "cell_type": "code",
   "execution_count": null,
   "id": "d1f13f31",
   "metadata": {
    "ExecuteTime": {
     "end_time": "2021-12-11T11:39:40.126835Z",
     "start_time": "2021-12-11T11:39:39.379842Z"
    }
   },
   "outputs": [],
   "source": []
  },
  {
   "cell_type": "code",
   "execution_count": 292,
   "id": "FsVWgkVwJ93d",
   "metadata": {
    "ExecuteTime": {
     "end_time": "2021-12-14T21:10:01.661688Z",
     "start_time": "2021-12-14T21:09:59.531680Z"
    },
    "colab": {
     "base_uri": "https://localhost:8080/",
     "height": 206
    },
    "id": "FsVWgkVwJ93d",
    "outputId": "6308e0bf-51dc-48db-ea9d-3765a97e7a61",
    "scrolled": false
   },
   "outputs": [
    {
     "data": {
      "text/html": [
       "<div>\n",
       "<style scoped>\n",
       "    .dataframe tbody tr th:only-of-type {\n",
       "        vertical-align: middle;\n",
       "    }\n",
       "\n",
       "    .dataframe tbody tr th {\n",
       "        vertical-align: top;\n",
       "    }\n",
       "\n",
       "    .dataframe thead th {\n",
       "        text-align: right;\n",
       "    }\n",
       "</style>\n",
       "<table border=\"1\" class=\"dataframe\">\n",
       "  <thead>\n",
       "    <tr style=\"text-align: right;\">\n",
       "      <th></th>\n",
       "      <th>CITY</th>\n",
       "      <th>ZIPCODE</th>\n",
       "      <th>BLDG_TYPE</th>\n",
       "      <th>YR_BUILT</th>\n",
       "      <th>EXT_FINISHED</th>\n",
       "      <th>EXT_COND</th>\n",
       "      <th>BTHRM_STYLE1</th>\n",
       "      <th>KITCHEN_TYPE</th>\n",
       "      <th>HEAT_TYPE</th>\n",
       "      <th>AC_TYPE</th>\n",
       "    </tr>\n",
       "  </thead>\n",
       "  <tbody>\n",
       "    <tr>\n",
       "      <th>0</th>\n",
       "      <td>8</td>\n",
       "      <td>18</td>\n",
       "      <td>16</td>\n",
       "      <td>104</td>\n",
       "      <td>3</td>\n",
       "      <td>2</td>\n",
       "      <td>3</td>\n",
       "      <td>3</td>\n",
       "      <td>6</td>\n",
       "      <td>2</td>\n",
       "    </tr>\n",
       "    <tr>\n",
       "      <th>1</th>\n",
       "      <td>8</td>\n",
       "      <td>18</td>\n",
       "      <td>17</td>\n",
       "      <td>124</td>\n",
       "      <td>9</td>\n",
       "      <td>0</td>\n",
       "      <td>1</td>\n",
       "      <td>3</td>\n",
       "      <td>1</td>\n",
       "      <td>0</td>\n",
       "    </tr>\n",
       "    <tr>\n",
       "      <th>2</th>\n",
       "      <td>8</td>\n",
       "      <td>18</td>\n",
       "      <td>17</td>\n",
       "      <td>109</td>\n",
       "      <td>9</td>\n",
       "      <td>3</td>\n",
       "      <td>1</td>\n",
       "      <td>3</td>\n",
       "      <td>5</td>\n",
       "      <td>2</td>\n",
       "    </tr>\n",
       "    <tr>\n",
       "      <th>3</th>\n",
       "      <td>8</td>\n",
       "      <td>18</td>\n",
       "      <td>17</td>\n",
       "      <td>104</td>\n",
       "      <td>9</td>\n",
       "      <td>0</td>\n",
       "      <td>3</td>\n",
       "      <td>3</td>\n",
       "      <td>6</td>\n",
       "      <td>2</td>\n",
       "    </tr>\n",
       "    <tr>\n",
       "      <th>4</th>\n",
       "      <td>8</td>\n",
       "      <td>18</td>\n",
       "      <td>16</td>\n",
       "      <td>104</td>\n",
       "      <td>9</td>\n",
       "      <td>0</td>\n",
       "      <td>3</td>\n",
       "      <td>2</td>\n",
       "      <td>6</td>\n",
       "      <td>2</td>\n",
       "    </tr>\n",
       "  </tbody>\n",
       "</table>\n",
       "</div>"
      ],
      "text/plain": [
       "   CITY  ZIPCODE  BLDG_TYPE  YR_BUILT  EXT_FINISHED  EXT_COND  BTHRM_STYLE1  \\\n",
       "0     8       18         16       104             3         2             3   \n",
       "1     8       18         17       124             9         0             1   \n",
       "2     8       18         17       109             9         3             1   \n",
       "3     8       18         17       104             9         0             3   \n",
       "4     8       18         16       104             9         0             3   \n",
       "\n",
       "   KITCHEN_TYPE  HEAT_TYPE  AC_TYPE  \n",
       "0             3          6        2  \n",
       "1             3          1        0  \n",
       "2             3          5        2  \n",
       "3             3          6        2  \n",
       "4             2          6        2  "
      ]
     },
     "execution_count": 292,
     "metadata": {},
     "output_type": "execute_result"
    }
   ],
   "source": [
    "# created a LabelEncoder object and fit it to each feature in X\n",
    "\n",
    "# encode labels with value between 0 and n_classes-1.\n",
    "le = preprocessing.LabelEncoder()\n",
    "\n",
    "\n",
    "# used apply() to apply le.fit_transform to all columns\n",
    "CatToInt = Cat.apply(le.fit_transform)\n",
    "CatToInt.head()"
   ]
  },
  {
   "cell_type": "code",
   "execution_count": 293,
   "id": "jAA52EPjOb9A",
   "metadata": {
    "ExecuteTime": {
     "end_time": "2021-12-14T21:10:01.739679Z",
     "start_time": "2021-12-14T21:10:01.672692Z"
    },
    "id": "jAA52EPjOb9A",
    "scrolled": false
   },
   "outputs": [
    {
     "data": {
      "text/html": [
       "<div>\n",
       "<style scoped>\n",
       "    .dataframe tbody tr th:only-of-type {\n",
       "        vertical-align: middle;\n",
       "    }\n",
       "\n",
       "    .dataframe tbody tr th {\n",
       "        vertical-align: top;\n",
       "    }\n",
       "\n",
       "    .dataframe thead th {\n",
       "        text-align: right;\n",
       "    }\n",
       "</style>\n",
       "<table border=\"1\" class=\"dataframe\">\n",
       "  <thead>\n",
       "    <tr style=\"text-align: right;\">\n",
       "      <th></th>\n",
       "      <th>BLDG_SEQ</th>\n",
       "      <th>NUM_BLDGS</th>\n",
       "      <th>GROSS_AREA</th>\n",
       "      <th>LIVING_AREA</th>\n",
       "      <th>BLDG_VALUE</th>\n",
       "      <th>TOTAL_VALUE</th>\n",
       "      <th>GROSS_TAX</th>\n",
       "      <th>KITCHEN</th>\n",
       "      <th>TT_RMS</th>\n",
       "    </tr>\n",
       "  </thead>\n",
       "  <tbody>\n",
       "    <tr>\n",
       "      <th>0</th>\n",
       "      <td>1.00</td>\n",
       "      <td>1.00</td>\n",
       "      <td>3353.00</td>\n",
       "      <td>2202.00</td>\n",
       "      <td>539900.00</td>\n",
       "      <td>719400.00</td>\n",
       "      <td>7676.00</td>\n",
       "      <td>3.00</td>\n",
       "      <td>12.00</td>\n",
       "    </tr>\n",
       "    <tr>\n",
       "      <th>1</th>\n",
       "      <td>1.00</td>\n",
       "      <td>1.00</td>\n",
       "      <td>3299.00</td>\n",
       "      <td>2307.00</td>\n",
       "      <td>564500.00</td>\n",
       "      <td>744800.00</td>\n",
       "      <td>7947.02</td>\n",
       "      <td>3.00</td>\n",
       "      <td>9.00</td>\n",
       "    </tr>\n",
       "  </tbody>\n",
       "</table>\n",
       "</div>"
      ],
      "text/plain": [
       "   BLDG_SEQ  NUM_BLDGS  GROSS_AREA  LIVING_AREA  BLDG_VALUE  TOTAL_VALUE  \\\n",
       "0      1.00       1.00     3353.00      2202.00   539900.00    719400.00   \n",
       "1      1.00       1.00     3299.00      2307.00   564500.00    744800.00   \n",
       "\n",
       "   GROSS_TAX  KITCHEN  TT_RMS  \n",
       "0    7676.00     3.00   12.00  \n",
       "1    7947.02     3.00    9.00  "
      ]
     },
     "execution_count": 293,
     "metadata": {},
     "output_type": "execute_result"
    }
   ],
   "source": [
    "## Droping the acutal columns as we have encoded them as per out needs.\n",
    "\n",
    "EnBosProp = BosProp.drop(Cat.columns, inplace = False, axis='columns')\n",
    "EnBosProp.head(2)"
   ]
  },
  {
   "cell_type": "code",
   "execution_count": 294,
   "id": "cjD9mWETOcJn",
   "metadata": {
    "ExecuteTime": {
     "end_time": "2021-12-14T21:10:01.818688Z",
     "start_time": "2021-12-14T21:10:01.747682Z"
    },
    "id": "cjD9mWETOcJn",
    "scrolled": false
   },
   "outputs": [
    {
     "data": {
      "text/html": [
       "<div>\n",
       "<style scoped>\n",
       "    .dataframe tbody tr th:only-of-type {\n",
       "        vertical-align: middle;\n",
       "    }\n",
       "\n",
       "    .dataframe tbody tr th {\n",
       "        vertical-align: top;\n",
       "    }\n",
       "\n",
       "    .dataframe thead th {\n",
       "        text-align: right;\n",
       "    }\n",
       "</style>\n",
       "<table border=\"1\" class=\"dataframe\">\n",
       "  <thead>\n",
       "    <tr style=\"text-align: right;\">\n",
       "      <th></th>\n",
       "      <th>BLDG_SEQ</th>\n",
       "      <th>NUM_BLDGS</th>\n",
       "      <th>GROSS_AREA</th>\n",
       "      <th>LIVING_AREA</th>\n",
       "      <th>BLDG_VALUE</th>\n",
       "      <th>TOTAL_VALUE</th>\n",
       "      <th>GROSS_TAX</th>\n",
       "      <th>KITCHEN</th>\n",
       "      <th>TT_RMS</th>\n",
       "      <th>CITY</th>\n",
       "      <th>ZIPCODE</th>\n",
       "      <th>BLDG_TYPE</th>\n",
       "      <th>YR_BUILT</th>\n",
       "      <th>EXT_FINISHED</th>\n",
       "      <th>EXT_COND</th>\n",
       "      <th>BTHRM_STYLE1</th>\n",
       "      <th>KITCHEN_TYPE</th>\n",
       "      <th>HEAT_TYPE</th>\n",
       "      <th>AC_TYPE</th>\n",
       "    </tr>\n",
       "  </thead>\n",
       "  <tbody>\n",
       "    <tr>\n",
       "      <th>0</th>\n",
       "      <td>1.00</td>\n",
       "      <td>1.00</td>\n",
       "      <td>3353.00</td>\n",
       "      <td>2202.00</td>\n",
       "      <td>539900.00</td>\n",
       "      <td>719400.00</td>\n",
       "      <td>7676.00</td>\n",
       "      <td>3.00</td>\n",
       "      <td>12.00</td>\n",
       "      <td>8</td>\n",
       "      <td>18</td>\n",
       "      <td>16</td>\n",
       "      <td>104</td>\n",
       "      <td>3</td>\n",
       "      <td>2</td>\n",
       "      <td>3</td>\n",
       "      <td>3</td>\n",
       "      <td>6</td>\n",
       "      <td>2</td>\n",
       "    </tr>\n",
       "    <tr>\n",
       "      <th>1</th>\n",
       "      <td>1.00</td>\n",
       "      <td>1.00</td>\n",
       "      <td>3299.00</td>\n",
       "      <td>2307.00</td>\n",
       "      <td>564500.00</td>\n",
       "      <td>744800.00</td>\n",
       "      <td>7947.02</td>\n",
       "      <td>3.00</td>\n",
       "      <td>9.00</td>\n",
       "      <td>8</td>\n",
       "      <td>18</td>\n",
       "      <td>17</td>\n",
       "      <td>124</td>\n",
       "      <td>9</td>\n",
       "      <td>0</td>\n",
       "      <td>1</td>\n",
       "      <td>3</td>\n",
       "      <td>1</td>\n",
       "      <td>0</td>\n",
       "    </tr>\n",
       "  </tbody>\n",
       "</table>\n",
       "</div>"
      ],
      "text/plain": [
       "   BLDG_SEQ  NUM_BLDGS  GROSS_AREA  LIVING_AREA  BLDG_VALUE  TOTAL_VALUE  \\\n",
       "0      1.00       1.00     3353.00      2202.00   539900.00    719400.00   \n",
       "1      1.00       1.00     3299.00      2307.00   564500.00    744800.00   \n",
       "\n",
       "   GROSS_TAX  KITCHEN  TT_RMS  CITY  ZIPCODE  BLDG_TYPE  YR_BUILT  \\\n",
       "0    7676.00     3.00   12.00     8       18         16       104   \n",
       "1    7947.02     3.00    9.00     8       18         17       124   \n",
       "\n",
       "   EXT_FINISHED  EXT_COND  BTHRM_STYLE1  KITCHEN_TYPE  HEAT_TYPE  AC_TYPE  \n",
       "0             3         2             3             3          6        2  \n",
       "1             9         0             1             3          1        0  "
      ]
     },
     "execution_count": 294,
     "metadata": {},
     "output_type": "execute_result"
    }
   ],
   "source": [
    "## Combining the two dataframes, encoded one and acual numeric one into one dataset to work with. \n",
    "\n",
    "EnBosProp = pd.concat([EnBosProp, CatToInt], axis=1)\n",
    "EnBosProp.head(2)"
   ]
  },
  {
   "cell_type": "code",
   "execution_count": 295,
   "id": "f704aae0",
   "metadata": {
    "ExecuteTime": {
     "end_time": "2021-12-14T21:10:02.101689Z",
     "start_time": "2021-12-14T21:10:01.833686Z"
    }
   },
   "outputs": [
    {
     "name": "stdout",
     "output_type": "stream",
     "text": [
      "The Min value is,  100.0  and the max value is,  1999900.0\n"
     ]
    },
    {
     "data": {
      "text/plain": [
       "2    59094\n",
       "1    41746\n",
       "3    13255\n",
       "4     3891\n",
       "5     1622\n",
       "Name: BLDG_VALUE_bins, dtype: int64"
      ]
     },
     "execution_count": 295,
     "metadata": {},
     "output_type": "execute_result"
    }
   ],
   "source": [
    "## Creating bins for BLDG_VALUE as the range is too large. \n",
    "\n",
    "print('The Min value is, ', EnBosProp.BLDG_VALUE.min(), ' and the max value is, ', EnBosProp.BLDG_VALUE.max())\n",
    "\n",
    "EnBosProp['BLDG_VALUE_bins'] = pd.cut(EnBosProp.BLDG_VALUE, bins=5, labels=[1,2,3,4,5], include_lowest=True)\n",
    "\n",
    "EnBosProp['BLDG_VALUE_bins'] = [int(x) for x in EnBosProp['BLDG_VALUE_bins']]\n",
    "\n",
    "## Number of bins and count of values in that bin.\n",
    "EnBosProp.BLDG_VALUE_bins.value_counts()"
   ]
  },
  {
   "cell_type": "code",
   "execution_count": 296,
   "id": "f1f5bb86",
   "metadata": {
    "ExecuteTime": {
     "end_time": "2021-12-14T21:10:02.386682Z",
     "start_time": "2021-12-14T21:10:02.109684Z"
    }
   },
   "outputs": [
    {
     "name": "stdout",
     "output_type": "stream",
     "text": [
      "The Min value is,  31800.0  and the max value is,  1999900.0\n"
     ]
    },
    {
     "data": {
      "text/plain": [
       "2    64248\n",
       "1    27236\n",
       "3    19914\n",
       "4     5692\n",
       "5     2518\n",
       "Name: TOTAL_VALUE_bins, dtype: int64"
      ]
     },
     "execution_count": 296,
     "metadata": {},
     "output_type": "execute_result"
    }
   ],
   "source": [
    "# Creating bins for TOTAL_VALUE as the range is too large. \n",
    "\n",
    "print('The Min value is, ', EnBosProp.TOTAL_VALUE.min(), ' and the max value is, ', EnBosProp.TOTAL_VALUE.max())\n",
    "\n",
    "\n",
    "EnBosProp['TOTAL_VALUE_bins'] = pd.cut(EnBosProp.TOTAL_VALUE, bins=5, labels=[1,2,3,4,5], include_lowest=True)\n",
    "EnBosProp['TOTAL_VALUE_bins'] = [int(x) for x in EnBosProp['TOTAL_VALUE_bins']]\n",
    "\n",
    "## Number of bins and count of values in that bin.\n",
    "\n",
    "EnBosProp.TOTAL_VALUE_bins.value_counts()"
   ]
  },
  {
   "cell_type": "code",
   "execution_count": 297,
   "id": "d09d5abf",
   "metadata": {
    "ExecuteTime": {
     "end_time": "2021-12-14T21:10:02.434680Z",
     "start_time": "2021-12-14T21:10:02.392683Z"
    }
   },
   "outputs": [],
   "source": [
    "## Droping the acual values as we have created the bins\n",
    "\n",
    "index_names = ['TOTAL_VALUE','BLDG_VALUE'] \n",
    "EnBosProp = EnBosProp.drop(index_names, inplace = False, axis='columns')"
   ]
  },
  {
   "cell_type": "code",
   "execution_count": 298,
   "id": "o9ro_Q0lOcPp",
   "metadata": {
    "ExecuteTime": {
     "end_time": "2021-12-14T21:10:02.450684Z",
     "start_time": "2021-12-14T21:10:02.442686Z"
    },
    "colab": {
     "base_uri": "https://localhost:8080/",
     "height": 444
    },
    "id": "o9ro_Q0lOcPp",
    "outputId": "8b651cf2-d7a6-48b2-801d-412c0d2ac03b",
    "scrolled": false
   },
   "outputs": [],
   "source": [
    "## EnBosProp"
   ]
  },
  {
   "cell_type": "code",
   "execution_count": 299,
   "id": "5Lwo2RAHOcU8",
   "metadata": {
    "ExecuteTime": {
     "end_time": "2021-12-14T21:10:02.482685Z",
     "start_time": "2021-12-14T21:10:02.459687Z"
    },
    "id": "5Lwo2RAHOcU8",
    "scrolled": false
   },
   "outputs": [
    {
     "data": {
      "text/plain": [
       "Index(['BLDG_SEQ', 'NUM_BLDGS', 'GROSS_AREA', 'LIVING_AREA', 'GROSS_TAX',\n",
       "       'KITCHEN', 'TT_RMS', 'CITY', 'ZIPCODE', 'BLDG_TYPE', 'YR_BUILT',\n",
       "       'EXT_FINISHED', 'EXT_COND', 'BTHRM_STYLE1', 'KITCHEN_TYPE', 'HEAT_TYPE',\n",
       "       'AC_TYPE', 'BLDG_VALUE_bins', 'TOTAL_VALUE_bins'],\n",
       "      dtype='object')"
      ]
     },
     "execution_count": 299,
     "metadata": {},
     "output_type": "execute_result"
    }
   ],
   "source": [
    "EnBosProp.columns ## Double checking if all the columns are the same that we intend to use."
   ]
  },
  {
   "cell_type": "code",
   "execution_count": 300,
   "id": "fvKAHCl8Ocae",
   "metadata": {
    "ExecuteTime": {
     "end_time": "2021-12-14T21:10:14.342684Z",
     "start_time": "2021-12-14T21:10:02.489687Z"
    },
    "colab": {
     "base_uri": "https://localhost:8080/"
    },
    "id": "fvKAHCl8Ocae",
    "outputId": "2d5f8eba-8e42-448a-ae2b-2c4f25ebc485",
    "scrolled": true
   },
   "outputs": [
    {
     "name": "stdout",
     "output_type": "stream",
     "text": [
      "            feature     VIF\n",
      "0          BLDG_SEQ 1812.64\n",
      "1         NUM_BLDGS    1.04\n",
      "2        GROSS_AREA   33.68\n",
      "3       LIVING_AREA   27.26\n",
      "4         GROSS_TAX    6.16\n",
      "5           KITCHEN    4.60\n",
      "6            TT_RMS   10.63\n",
      "7              CITY    1.42\n",
      "8           ZIPCODE    1.25\n",
      "9         BLDG_TYPE    1.20\n",
      "10         YR_BUILT    1.26\n",
      "11     EXT_FINISHED    1.45\n",
      "12         EXT_COND    1.33\n",
      "13     BTHRM_STYLE1    1.35\n",
      "14     KITCHEN_TYPE    3.98\n",
      "15        HEAT_TYPE    1.32\n",
      "16          AC_TYPE    1.89\n",
      "17  BLDG_VALUE_bins    6.43\n"
     ]
    }
   ],
   "source": [
    "from statsmodels.stats.outliers_influence import variance_inflation_factor\n",
    "\n",
    "## Performing VIF (variance inflation factor) to track multicollinearity \n",
    "\n",
    "# the independent variables set\n",
    "X = EnBosProp.drop(['TOTAL_VALUE_bins'], axis=1)\n",
    "\n",
    "# VIF dataframe\n",
    "vif_data = pd.DataFrame()\n",
    "vif_data[\"feature\"] = X.columns\n",
    "\n",
    "# calculating VIF for each feature\n",
    "vif_data[\"VIF\"] = [variance_inflation_factor(X.values, i) for i in range(len(X.columns))]\n",
    "\n",
    "print(vif_data)"
   ]
  },
  {
   "cell_type": "code",
   "execution_count": 301,
   "id": "82721e0c",
   "metadata": {
    "ExecuteTime": {
     "end_time": "2021-12-14T21:10:14.404684Z",
     "start_time": "2021-12-14T21:10:14.351688Z"
    }
   },
   "outputs": [],
   "source": [
    "## Removing the BLDG_SEQ feature as it has high VIF values\n",
    "\n",
    "index_names = ['BLDG_SEQ'] \n",
    "EnBosProp = EnBosProp.drop(index_names, inplace = False, axis='columns')"
   ]
  },
  {
   "cell_type": "code",
   "execution_count": 302,
   "id": "7979f5de",
   "metadata": {
    "ExecuteTime": {
     "end_time": "2021-12-14T21:10:29.542688Z",
     "start_time": "2021-12-14T21:10:14.418684Z"
    }
   },
   "outputs": [
    {
     "name": "stdout",
     "output_type": "stream",
     "text": [
      "            feature   VIF\n",
      "0         NUM_BLDGS 75.50\n",
      "1        GROSS_AREA 97.71\n",
      "2       LIVING_AREA 96.24\n",
      "3         GROSS_TAX 32.05\n",
      "4           KITCHEN 23.27\n",
      "5            TT_RMS 42.03\n",
      "6              CITY  4.40\n",
      "7           ZIPCODE  9.89\n",
      "8         BLDG_TYPE  7.77\n",
      "9          YR_BUILT 14.17\n",
      "10     EXT_FINISHED  7.36\n",
      "11         EXT_COND  2.14\n",
      "12     BTHRM_STYLE1  6.58\n",
      "13     KITCHEN_TYPE 12.89\n",
      "14        HEAT_TYPE  4.63\n",
      "15          AC_TYPE  5.41\n",
      "16  BLDG_VALUE_bins 38.64\n"
     ]
    }
   ],
   "source": [
    "from statsmodels.stats.outliers_influence import variance_inflation_factor\n",
    "\n",
    "## Performing VIF (variance inflation factor) again to track multicollinearity in remaining features.\n",
    "\n",
    "\n",
    "# the independent variables set\n",
    "X = EnBosProp.drop(['TOTAL_VALUE_bins'], axis=1)\n",
    "\n",
    "# VIF dataframe\n",
    "vif_data = pd.DataFrame()\n",
    "vif_data[\"feature\"] = X.columns\n",
    "\n",
    "# calculating VIF for each feature\n",
    "vif_data[\"VIF\"] = [variance_inflation_factor(X.values, i) for i in range(len(X.columns))]\n",
    "\n",
    "print(vif_data)"
   ]
  },
  {
   "cell_type": "code",
   "execution_count": 303,
   "id": "4f3cc338",
   "metadata": {
    "ExecuteTime": {
     "end_time": "2021-12-14T21:10:29.777681Z",
     "start_time": "2021-12-14T21:10:29.552683Z"
    },
    "id": "CVk0VhDPtoBs",
    "scrolled": false
   },
   "outputs": [],
   "source": [
    "## Removing the GROSS_AREA','GROSS_TAX','TT_RMS','LIVING_AREA', and 'ZIPCODE' feature as it has high VIF values\n",
    "\n",
    "\n",
    "index_names = ['GROSS_AREA','GROSS_TAX','TT_RMS','LIVING_AREA','ZIPCODE'] \n",
    "EnBosProp = EnBosProp.drop(index_names, inplace = False, axis='columns')"
   ]
  },
  {
   "cell_type": "code",
   "execution_count": 304,
   "id": "a4caae18",
   "metadata": {
    "ExecuteTime": {
     "end_time": "2021-12-14T21:10:36.208682Z",
     "start_time": "2021-12-14T21:10:29.788686Z"
    }
   },
   "outputs": [
    {
     "name": "stdout",
     "output_type": "stream",
     "text": [
      "            feature   VIF\n",
      "0         NUM_BLDGS 65.34\n",
      "1           KITCHEN  6.83\n",
      "2              CITY  4.23\n",
      "3         BLDG_TYPE  7.49\n",
      "4          YR_BUILT 13.84\n",
      "5      EXT_FINISHED  7.17\n",
      "6          EXT_COND  2.14\n",
      "7      BTHRM_STYLE1  6.50\n",
      "8      KITCHEN_TYPE  6.30\n",
      "9         HEAT_TYPE  4.60\n",
      "10          AC_TYPE  5.33\n",
      "11  BLDG_VALUE_bins  8.97\n"
     ]
    }
   ],
   "source": [
    "from statsmodels.stats.outliers_influence import variance_inflation_factor\n",
    "\n",
    "\n",
    "## Performing VIF (variance inflation factor) again to track multicollinearity in remaining features.\n",
    "\n",
    "# the independent variables set\n",
    "X = EnBosProp.drop(['TOTAL_VALUE_bins'], axis=1)\n",
    "\n",
    "# VIF dataframe\n",
    "vif_data = pd.DataFrame()\n",
    "vif_data[\"feature\"] = X.columns\n",
    "\n",
    "# calculating VIF for each feature\n",
    "vif_data[\"VIF\"] = [variance_inflation_factor(X.values, i) for i in range(len(X.columns))]\n",
    "\n",
    "print(vif_data)"
   ]
  },
  {
   "cell_type": "code",
   "execution_count": 305,
   "id": "8200439a",
   "metadata": {
    "ExecuteTime": {
     "end_time": "2021-12-14T21:10:36.280682Z",
     "start_time": "2021-12-14T21:10:36.226684Z"
    },
    "id": "UVm-ZP771UGk",
    "scrolled": false
   },
   "outputs": [],
   "source": [
    "## Removing the NUM_BLDGS, YR_BUILT feature as it has high VIF values\n",
    "\n",
    "\n",
    "index_names = ['NUM_BLDGS','YR_BUILT'] \n",
    "EnBosProp = EnBosProp.drop(index_names, inplace = False, axis='columns')"
   ]
  },
  {
   "cell_type": "code",
   "execution_count": 306,
   "id": "a6205107",
   "metadata": {
    "ExecuteTime": {
     "end_time": "2021-12-14T21:10:40.783685Z",
     "start_time": "2021-12-14T21:10:36.304693Z"
    }
   },
   "outputs": [
    {
     "name": "stdout",
     "output_type": "stream",
     "text": [
      "           feature  VIF\n",
      "0          KITCHEN 6.52\n",
      "1             CITY 3.56\n",
      "2        BLDG_TYPE 6.93\n",
      "3     EXT_FINISHED 5.91\n",
      "4         EXT_COND 2.06\n",
      "5     BTHRM_STYLE1 5.63\n",
      "6     KITCHEN_TYPE 4.75\n",
      "7        HEAT_TYPE 4.41\n",
      "8          AC_TYPE 4.78\n",
      "9  BLDG_VALUE_bins 7.22\n"
     ]
    }
   ],
   "source": [
    "from statsmodels.stats.outliers_influence import variance_inflation_factor\n",
    "\n",
    "## Performing VIF (variance inflation factor) again to track multicollinearity in remaining features.\n",
    "\n",
    "\n",
    "# the independent variables set\n",
    "X = EnBosProp.drop(['TOTAL_VALUE_bins'], axis=1)\n",
    "\n",
    "# VIF dataframe\n",
    "vif_data = pd.DataFrame()\n",
    "vif_data[\"feature\"] = X.columns\n",
    "\n",
    "# calculating VIF for each feature\n",
    "vif_data[\"VIF\"] = [variance_inflation_factor(X.values, i) for i in range(len(X.columns))]\n",
    "\n",
    "print(vif_data)  ## We found all the vlaues are below the decided threshold 10."
   ]
  },
  {
   "cell_type": "code",
   "execution_count": 307,
   "id": "83qdLwhtuDV2",
   "metadata": {
    "ExecuteTime": {
     "end_time": "2021-12-14T21:10:40.863689Z",
     "start_time": "2021-12-14T21:10:40.790685Z"
    },
    "colab": {
     "base_uri": "https://localhost:8080/",
     "height": 424
    },
    "id": "83qdLwhtuDV2",
    "outputId": "7703f78a-2879-4350-f1f0-2584eabb7a1b",
    "scrolled": false
   },
   "outputs": [
    {
     "data": {
      "text/html": [
       "<div>\n",
       "<style scoped>\n",
       "    .dataframe tbody tr th:only-of-type {\n",
       "        vertical-align: middle;\n",
       "    }\n",
       "\n",
       "    .dataframe tbody tr th {\n",
       "        vertical-align: top;\n",
       "    }\n",
       "\n",
       "    .dataframe thead th {\n",
       "        text-align: right;\n",
       "    }\n",
       "</style>\n",
       "<table border=\"1\" class=\"dataframe\">\n",
       "  <thead>\n",
       "    <tr style=\"text-align: right;\">\n",
       "      <th></th>\n",
       "      <th>KITCHEN</th>\n",
       "      <th>CITY</th>\n",
       "      <th>BLDG_TYPE</th>\n",
       "      <th>EXT_FINISHED</th>\n",
       "      <th>EXT_COND</th>\n",
       "      <th>BTHRM_STYLE1</th>\n",
       "      <th>KITCHEN_TYPE</th>\n",
       "      <th>HEAT_TYPE</th>\n",
       "      <th>AC_TYPE</th>\n",
       "      <th>BLDG_VALUE_bins</th>\n",
       "      <th>TOTAL_VALUE_bins</th>\n",
       "    </tr>\n",
       "  </thead>\n",
       "  <tbody>\n",
       "    <tr>\n",
       "      <th>0</th>\n",
       "      <td>3.00</td>\n",
       "      <td>8</td>\n",
       "      <td>16</td>\n",
       "      <td>3</td>\n",
       "      <td>2</td>\n",
       "      <td>3</td>\n",
       "      <td>3</td>\n",
       "      <td>6</td>\n",
       "      <td>2</td>\n",
       "      <td>2</td>\n",
       "      <td>2</td>\n",
       "    </tr>\n",
       "    <tr>\n",
       "      <th>1</th>\n",
       "      <td>3.00</td>\n",
       "      <td>8</td>\n",
       "      <td>17</td>\n",
       "      <td>9</td>\n",
       "      <td>0</td>\n",
       "      <td>1</td>\n",
       "      <td>3</td>\n",
       "      <td>1</td>\n",
       "      <td>0</td>\n",
       "      <td>2</td>\n",
       "      <td>2</td>\n",
       "    </tr>\n",
       "    <tr>\n",
       "      <th>2</th>\n",
       "      <td>3.00</td>\n",
       "      <td>8</td>\n",
       "      <td>17</td>\n",
       "      <td>9</td>\n",
       "      <td>3</td>\n",
       "      <td>1</td>\n",
       "      <td>3</td>\n",
       "      <td>5</td>\n",
       "      <td>2</td>\n",
       "      <td>2</td>\n",
       "      <td>2</td>\n",
       "    </tr>\n",
       "    <tr>\n",
       "      <th>3</th>\n",
       "      <td>3.00</td>\n",
       "      <td>8</td>\n",
       "      <td>17</td>\n",
       "      <td>9</td>\n",
       "      <td>0</td>\n",
       "      <td>3</td>\n",
       "      <td>3</td>\n",
       "      <td>6</td>\n",
       "      <td>2</td>\n",
       "      <td>2</td>\n",
       "      <td>2</td>\n",
       "    </tr>\n",
       "    <tr>\n",
       "      <th>4</th>\n",
       "      <td>2.00</td>\n",
       "      <td>8</td>\n",
       "      <td>16</td>\n",
       "      <td>9</td>\n",
       "      <td>0</td>\n",
       "      <td>3</td>\n",
       "      <td>2</td>\n",
       "      <td>6</td>\n",
       "      <td>2</td>\n",
       "      <td>2</td>\n",
       "      <td>2</td>\n",
       "    </tr>\n",
       "    <tr>\n",
       "      <th>...</th>\n",
       "      <td>...</td>\n",
       "      <td>...</td>\n",
       "      <td>...</td>\n",
       "      <td>...</td>\n",
       "      <td>...</td>\n",
       "      <td>...</td>\n",
       "      <td>...</td>\n",
       "      <td>...</td>\n",
       "      <td>...</td>\n",
       "      <td>...</td>\n",
       "      <td>...</td>\n",
       "    </tr>\n",
       "    <tr>\n",
       "      <th>177080</th>\n",
       "      <td>1.00</td>\n",
       "      <td>2</td>\n",
       "      <td>20</td>\n",
       "      <td>12</td>\n",
       "      <td>0</td>\n",
       "      <td>3</td>\n",
       "      <td>1</td>\n",
       "      <td>6</td>\n",
       "      <td>2</td>\n",
       "      <td>2</td>\n",
       "      <td>2</td>\n",
       "    </tr>\n",
       "    <tr>\n",
       "      <th>177081</th>\n",
       "      <td>1.00</td>\n",
       "      <td>2</td>\n",
       "      <td>20</td>\n",
       "      <td>12</td>\n",
       "      <td>0</td>\n",
       "      <td>3</td>\n",
       "      <td>1</td>\n",
       "      <td>6</td>\n",
       "      <td>2</td>\n",
       "      <td>2</td>\n",
       "      <td>2</td>\n",
       "    </tr>\n",
       "    <tr>\n",
       "      <th>177082</th>\n",
       "      <td>2.00</td>\n",
       "      <td>2</td>\n",
       "      <td>8</td>\n",
       "      <td>9</td>\n",
       "      <td>0</td>\n",
       "      <td>1</td>\n",
       "      <td>2</td>\n",
       "      <td>1</td>\n",
       "      <td>2</td>\n",
       "      <td>2</td>\n",
       "      <td>3</td>\n",
       "    </tr>\n",
       "    <tr>\n",
       "      <th>177084</th>\n",
       "      <td>1.00</td>\n",
       "      <td>2</td>\n",
       "      <td>11</td>\n",
       "      <td>9</td>\n",
       "      <td>0</td>\n",
       "      <td>1</td>\n",
       "      <td>6</td>\n",
       "      <td>6</td>\n",
       "      <td>2</td>\n",
       "      <td>2</td>\n",
       "      <td>2</td>\n",
       "    </tr>\n",
       "    <tr>\n",
       "      <th>177085</th>\n",
       "      <td>1.00</td>\n",
       "      <td>2</td>\n",
       "      <td>11</td>\n",
       "      <td>9</td>\n",
       "      <td>0</td>\n",
       "      <td>3</td>\n",
       "      <td>6</td>\n",
       "      <td>6</td>\n",
       "      <td>2</td>\n",
       "      <td>2</td>\n",
       "      <td>2</td>\n",
       "    </tr>\n",
       "  </tbody>\n",
       "</table>\n",
       "<p>119608 rows × 11 columns</p>\n",
       "</div>"
      ],
      "text/plain": [
       "        KITCHEN  CITY  BLDG_TYPE  EXT_FINISHED  EXT_COND  BTHRM_STYLE1  \\\n",
       "0          3.00     8         16             3         2             3   \n",
       "1          3.00     8         17             9         0             1   \n",
       "2          3.00     8         17             9         3             1   \n",
       "3          3.00     8         17             9         0             3   \n",
       "4          2.00     8         16             9         0             3   \n",
       "...         ...   ...        ...           ...       ...           ...   \n",
       "177080     1.00     2         20            12         0             3   \n",
       "177081     1.00     2         20            12         0             3   \n",
       "177082     2.00     2          8             9         0             1   \n",
       "177084     1.00     2         11             9         0             1   \n",
       "177085     1.00     2         11             9         0             3   \n",
       "\n",
       "        KITCHEN_TYPE  HEAT_TYPE  AC_TYPE  BLDG_VALUE_bins  TOTAL_VALUE_bins  \n",
       "0                  3          6        2                2                 2  \n",
       "1                  3          1        0                2                 2  \n",
       "2                  3          5        2                2                 2  \n",
       "3                  3          6        2                2                 2  \n",
       "4                  2          6        2                2                 2  \n",
       "...              ...        ...      ...              ...               ...  \n",
       "177080             1          6        2                2                 2  \n",
       "177081             1          6        2                2                 2  \n",
       "177082             2          1        2                2                 3  \n",
       "177084             6          6        2                2                 2  \n",
       "177085             6          6        2                2                 2  \n",
       "\n",
       "[119608 rows x 11 columns]"
      ]
     },
     "execution_count": 307,
     "metadata": {},
     "output_type": "execute_result"
    }
   ],
   "source": [
    "EnBosProp"
   ]
  },
  {
   "cell_type": "code",
   "execution_count": 308,
   "id": "783a03bd",
   "metadata": {
    "ExecuteTime": {
     "end_time": "2021-12-14T21:10:40.928684Z",
     "start_time": "2021-12-14T21:10:40.871686Z"
    },
    "scrolled": true
   },
   "outputs": [
    {
     "name": "stdout",
     "output_type": "stream",
     "text": [
      "<class 'pandas.core.frame.DataFrame'>\n",
      "Int64Index: 119608 entries, 0 to 177085\n",
      "Data columns (total 11 columns):\n",
      " #   Column            Non-Null Count   Dtype  \n",
      "---  ------            --------------   -----  \n",
      " 0   KITCHEN           119608 non-null  float64\n",
      " 1   CITY              119608 non-null  int32  \n",
      " 2   BLDG_TYPE         119608 non-null  int32  \n",
      " 3   EXT_FINISHED      119608 non-null  int32  \n",
      " 4   EXT_COND          119608 non-null  int32  \n",
      " 5   BTHRM_STYLE1      119608 non-null  int32  \n",
      " 6   KITCHEN_TYPE      119608 non-null  int32  \n",
      " 7   HEAT_TYPE         119608 non-null  int32  \n",
      " 8   AC_TYPE           119608 non-null  int32  \n",
      " 9   BLDG_VALUE_bins   119608 non-null  int64  \n",
      " 10  TOTAL_VALUE_bins  119608 non-null  int64  \n",
      "dtypes: float64(1), int32(8), int64(2)\n",
      "memory usage: 11.3 MB\n"
     ]
    }
   ],
   "source": [
    "## Checking if we have all the data in required format, not-null count, total records and features\n",
    "\n",
    "\n",
    "EnBosProp.info() "
   ]
  },
  {
   "cell_type": "markdown",
   "id": "5b0df820",
   "metadata": {},
   "source": [
    "## Predictive Data Modeling"
   ]
  },
  {
   "cell_type": "code",
   "execution_count": 309,
   "id": "0ACEV-zpEvC6",
   "metadata": {
    "ExecuteTime": {
     "end_time": "2021-12-14T21:10:41.007690Z",
     "start_time": "2021-12-14T21:10:40.951685Z"
    },
    "id": "0ACEV-zpEvC6",
    "scrolled": false
   },
   "outputs": [],
   "source": [
    "## Creating the independent features.\n",
    "\n",
    "X= EnBosProp.drop(['TOTAL_VALUE_bins'], axis=1)"
   ]
  },
  {
   "cell_type": "code",
   "execution_count": 310,
   "id": "mO60e4cFFiQ-",
   "metadata": {
    "ExecuteTime": {
     "end_time": "2021-12-14T21:10:41.053683Z",
     "start_time": "2021-12-14T21:10:41.025688Z"
    },
    "id": "mO60e4cFFiQ-",
    "scrolled": false
   },
   "outputs": [],
   "source": [
    "## Creating the dependent features.\n",
    "\n",
    "y=EnBosProp['TOTAL_VALUE_bins']"
   ]
  },
  {
   "cell_type": "code",
   "execution_count": 311,
   "id": "k00bDgtLFm4J",
   "metadata": {
    "ExecuteTime": {
     "end_time": "2021-12-14T21:10:41.206683Z",
     "start_time": "2021-12-14T21:10:41.059688Z"
    },
    "id": "k00bDgtLFm4J",
    "scrolled": false
   },
   "outputs": [],
   "source": [
    "## Spliting the data into test and train, with 70:30 ratio\n",
    "\n",
    "X_train, X_test, y_train, y_test = train_test_split(X, y, test_size=0.3, random_state=6040)"
   ]
  },
  {
   "cell_type": "code",
   "execution_count": 312,
   "id": "4b5656d9",
   "metadata": {
    "ExecuteTime": {
     "end_time": "2021-12-14T21:10:41.370684Z",
     "start_time": "2021-12-14T21:10:41.334684Z"
    }
   },
   "outputs": [
    {
     "name": "stdout",
     "output_type": "stream",
     "text": [
      "X_train:  (83725, 10)\n",
      "X_test:  (35883, 10)\n",
      "y_train:  (83725,)\n",
      "y_test:  (35883,)\n"
     ]
    }
   ],
   "source": [
    "print('X_train: ',X_train.shape)\n",
    "print('X_test: ',X_test.shape)\n",
    "print('y_train: ',y_train.shape)\n",
    "print('y_test: ',y_test.shape)"
   ]
  },
  {
   "cell_type": "code",
   "execution_count": 313,
   "id": "04fd0bc5",
   "metadata": {
    "ExecuteTime": {
     "end_time": "2021-12-14T21:10:41.434686Z",
     "start_time": "2021-12-14T21:10:41.419686Z"
    }
   },
   "outputs": [],
   "source": [
    "# Creating a dataframe to store model accuracy.\n",
    "\n",
    "Models = []"
   ]
  },
  {
   "cell_type": "markdown",
   "id": "6ef4fe4a",
   "metadata": {
    "ExecuteTime": {
     "end_time": "2021-12-11T12:04:39.934933Z",
     "start_time": "2021-12-11T12:04:39.911941Z"
    },
    "id": "lNKaWtOvFx1-",
    "scrolled": false
   },
   "source": [
    "#### Linear regression. "
   ]
  },
  {
   "cell_type": "code",
   "execution_count": 314,
   "id": "o-B7mjGRHS6d",
   "metadata": {
    "ExecuteTime": {
     "end_time": "2021-12-14T21:10:41.737685Z",
     "start_time": "2021-12-14T21:10:41.443690Z"
    },
    "colab": {
     "base_uri": "https://localhost:8080/"
    },
    "id": "o-B7mjGRHS6d",
    "outputId": "08678e3c-8009-4d8d-9970-8f2fc40509de",
    "scrolled": false
   },
   "outputs": [
    {
     "name": "stdout",
     "output_type": "stream",
     "text": [
      "---Time taken to fit Model:  0.14699506759643555 seconds ---\n",
      "coefficient of determination: 0.7872659010192193\n"
     ]
    }
   ],
   "source": [
    "model = LinearRegression()\n",
    "#model.fit(X_train, y_train)\n",
    "\n",
    "start_time = time.time()\n",
    "\n",
    "\n",
    "model = LinearRegression().fit(X_train, y_train)\n",
    "print(\"---Time taken to fit Model:  %s seconds ---\" % (time.time() - start_time))\n",
    "r_sq = model.score(X_test, y_test)\n",
    "\n",
    "\n",
    "print('coefficient of determination:', r_sq)\n"
   ]
  },
  {
   "cell_type": "code",
   "execution_count": 315,
   "id": "0DFUe8HdWeNw",
   "metadata": {
    "ExecuteTime": {
     "end_time": "2021-12-14T21:10:42.735682Z",
     "start_time": "2021-12-14T21:10:41.754688Z"
    },
    "colab": {
     "base_uri": "https://localhost:8080/"
    },
    "id": "0DFUe8HdWeNw",
    "outputId": "4202421b-8109-44a6-d50d-140c47212702",
    "scrolled": false
   },
   "outputs": [
    {
     "name": "stdout",
     "output_type": "stream",
     "text": [
      "                                 OLS Regression Results                                \n",
      "=======================================================================================\n",
      "Dep. Variable:       TOTAL_VALUE_bins   R-squared (uncentered):                   0.967\n",
      "Model:                            OLS   Adj. R-squared (uncentered):              0.967\n",
      "Method:                 Least Squares   F-statistic:                          2.431e+05\n",
      "Date:                Tue, 14 Dec 2021   Prob (F-statistic):                        0.00\n",
      "Time:                        16:10:42   Log-Likelihood:                         -45031.\n",
      "No. Observations:               83725   AIC:                                  9.008e+04\n",
      "Df Residuals:                   83715   BIC:                                  9.017e+04\n",
      "Df Model:                          10                                                  \n",
      "Covariance Type:            nonrobust                                                  \n",
      "===================================================================================\n",
      "                      coef    std err          t      P>|t|      [0.025      0.975]\n",
      "-----------------------------------------------------------------------------------\n",
      "KITCHEN             0.1507      0.002     62.841      0.000       0.146       0.155\n",
      "CITY                0.0048      0.000     16.078      0.000       0.004       0.005\n",
      "BLDG_TYPE           0.0047      0.000     16.474      0.000       0.004       0.005\n",
      "EXT_FINISHED        0.0129      0.000     30.891      0.000       0.012       0.014\n",
      "EXT_COND            0.0157      0.001     13.754      0.000       0.013       0.018\n",
      "BTHRM_STYLE1        0.0369      0.002     24.458      0.000       0.034       0.040\n",
      "KITCHEN_TYPE       -0.0619      0.001   -107.628      0.000      -0.063      -0.061\n",
      "HEAT_TYPE           0.0138      0.001     21.293      0.000       0.013       0.015\n",
      "AC_TYPE            -0.0091      0.002     -4.683      0.000      -0.013      -0.005\n",
      "BLDG_VALUE_bins     0.9818      0.002    520.425      0.000       0.978       0.986\n",
      "==============================================================================\n",
      "Omnibus:                      770.144   Durbin-Watson:                   1.997\n",
      "Prob(Omnibus):                  0.000   Jarque-Bera (JB):              792.186\n",
      "Skew:                          -0.234   Prob(JB):                    9.53e-173\n",
      "Kurtosis:                       3.088   Cond. No.                         34.3\n",
      "==============================================================================\n",
      "\n",
      "Notes:\n",
      "[1] R² is computed without centering (uncentered) since the model does not contain a constant.\n",
      "[2] Standard Errors assume that the covariance matrix of the errors is correctly specified.\n"
     ]
    }
   ],
   "source": [
    "mod = sm.OLS(y_train, X_train)\n",
    "\n",
    "res = mod.fit()\n",
    "\n",
    "print(res.summary())"
   ]
  },
  {
   "cell_type": "code",
   "execution_count": 316,
   "id": "VETh4H-6Webz",
   "metadata": {
    "ExecuteTime": {
     "end_time": "2021-12-14T21:10:42.846682Z",
     "start_time": "2021-12-14T21:10:42.753685Z"
    },
    "colab": {
     "base_uri": "https://localhost:8080/",
     "height": 49
    },
    "id": "VETh4H-6Webz",
    "outputId": "936eb415-beb8-4f41-fe62-1265127578d6",
    "scrolled": false
   },
   "outputs": [
    {
     "data": {
      "text/html": [
       "<div>\n",
       "<style scoped>\n",
       "    .dataframe tbody tr th:only-of-type {\n",
       "        vertical-align: middle;\n",
       "    }\n",
       "\n",
       "    .dataframe tbody tr th {\n",
       "        vertical-align: top;\n",
       "    }\n",
       "\n",
       "    .dataframe thead th {\n",
       "        text-align: right;\n",
       "    }\n",
       "</style>\n",
       "<table border=\"1\" class=\"dataframe\">\n",
       "  <thead>\n",
       "    <tr style=\"text-align: right;\">\n",
       "      <th></th>\n",
       "      <th>pval</th>\n",
       "      <th>coef</th>\n",
       "    </tr>\n",
       "  </thead>\n",
       "  <tbody>\n",
       "    <tr>\n",
       "      <th>KITCHEN</th>\n",
       "      <td>0.00</td>\n",
       "      <td>0.15</td>\n",
       "    </tr>\n",
       "    <tr>\n",
       "      <th>CITY</th>\n",
       "      <td>0.00</td>\n",
       "      <td>0.00</td>\n",
       "    </tr>\n",
       "    <tr>\n",
       "      <th>BLDG_TYPE</th>\n",
       "      <td>0.00</td>\n",
       "      <td>0.00</td>\n",
       "    </tr>\n",
       "    <tr>\n",
       "      <th>EXT_FINISHED</th>\n",
       "      <td>0.00</td>\n",
       "      <td>0.01</td>\n",
       "    </tr>\n",
       "    <tr>\n",
       "      <th>EXT_COND</th>\n",
       "      <td>0.00</td>\n",
       "      <td>0.02</td>\n",
       "    </tr>\n",
       "    <tr>\n",
       "      <th>BTHRM_STYLE1</th>\n",
       "      <td>0.00</td>\n",
       "      <td>0.04</td>\n",
       "    </tr>\n",
       "    <tr>\n",
       "      <th>KITCHEN_TYPE</th>\n",
       "      <td>0.00</td>\n",
       "      <td>-0.06</td>\n",
       "    </tr>\n",
       "    <tr>\n",
       "      <th>HEAT_TYPE</th>\n",
       "      <td>0.00</td>\n",
       "      <td>0.01</td>\n",
       "    </tr>\n",
       "    <tr>\n",
       "      <th>AC_TYPE</th>\n",
       "      <td>0.00</td>\n",
       "      <td>-0.01</td>\n",
       "    </tr>\n",
       "    <tr>\n",
       "      <th>BLDG_VALUE_bins</th>\n",
       "      <td>0.00</td>\n",
       "      <td>0.98</td>\n",
       "    </tr>\n",
       "  </tbody>\n",
       "</table>\n",
       "</div>"
      ],
      "text/plain": [
       "                 pval  coef\n",
       "KITCHEN          0.00  0.15\n",
       "CITY             0.00  0.00\n",
       "BLDG_TYPE        0.00  0.00\n",
       "EXT_FINISHED     0.00  0.01\n",
       "EXT_COND         0.00  0.02\n",
       "BTHRM_STYLE1     0.00  0.04\n",
       "KITCHEN_TYPE     0.00 -0.06\n",
       "HEAT_TYPE        0.00  0.01\n",
       "AC_TYPE          0.00 -0.01\n",
       "BLDG_VALUE_bins  0.00  0.98"
      ]
     },
     "execution_count": 316,
     "metadata": {},
     "output_type": "execute_result"
    }
   ],
   "source": [
    "pval = pd.DataFrame(res.pvalues, columns=['pval'])\n",
    "coef = pd.DataFrame(res.params, columns= ['coef'])\n",
    "combine = pd.concat([pval, coef], axis = 1)\n",
    "combine\n",
    "combine[(combine['pval'] < 0.05)==True]\n"
   ]
  },
  {
   "cell_type": "code",
   "execution_count": 317,
   "id": "e31fcdc6",
   "metadata": {
    "ExecuteTime": {
     "end_time": "2021-12-14T21:10:43.348684Z",
     "start_time": "2021-12-14T21:10:42.854686Z"
    }
   },
   "outputs": [],
   "source": [
    "# performing predictions on the test datdaset\n",
    "pred = model.predict(X_test)\n",
    "prediction = list(map(round, pred))\n"
   ]
  },
  {
   "cell_type": "code",
   "execution_count": 318,
   "id": "0a9a21e4",
   "metadata": {
    "ExecuteTime": {
     "end_time": "2021-12-14T21:10:44.301684Z",
     "start_time": "2021-12-14T21:10:43.386683Z"
    }
   },
   "outputs": [
    {
     "name": "stdout",
     "output_type": "stream",
     "text": [
      "== Linear Regression ==\n",
      "Confusion Matrix : \n",
      " [[ 5192  2950    12     0     0]\n",
      " [  428 16448  2416     0     0]\n",
      " [    0  1298  4498   126     0]\n",
      " [    0    28   647  1055    14]\n",
      " [    0     1    51   214   505]]\n",
      "Test accuracy =  0.7718975559457124\n",
      "Mean Squared Error =  0.23593345038040298\n"
     ]
    }
   ],
   "source": [
    "# confusion matrix\n",
    "cm = confusion_matrix(y_test, prediction)\n",
    "print(\"== Linear Regression ==\")\n",
    "print (\"Confusion Matrix : \\n\", cm)\n",
    "accuracy = accuracy_score(y_test, prediction)\n",
    "\n",
    "Models.append(['Linear Regression', accuracy])\n",
    "\n",
    "# accuracy score of the model\n",
    "print('Test accuracy = ', accuracy)\n",
    "print('Mean Squared Error = ', mean_squared_error(y_test, prediction))"
   ]
  },
  {
   "cell_type": "code",
   "execution_count": 319,
   "id": "7e59576d",
   "metadata": {
    "ExecuteTime": {
     "end_time": "2021-12-14T21:10:46.368228Z",
     "start_time": "2021-12-14T21:10:44.309689Z"
    }
   },
   "outputs": [
    {
     "name": "stdout",
     "output_type": "stream",
     "text": [
      "Linear Regression Confusion Matrix with labels\n",
      "\n",
      "\n"
     ]
    },
    {
     "data": {
      "image/png": "[encoded data removed]",
      "text/plain": [
       "<Figure size 432x288 with 2 Axes>"
      ]
     },
     "metadata": {
      "needs_background": "light"
     },
     "output_type": "display_data"
    }
   ],
   "source": [
    "print('Linear Regression Confusion Matrix with labels\\n\\n');\n",
    "\n",
    "dictsplay_labels=y.unique()\n",
    "\n",
    "disp = ConfusionMatrixDisplay(confusion_matrix=cm, display_labels=dictsplay_labels)\n",
    "\n",
    "disp = disp.plot()\n",
    "\n",
    "plt.show()\n"
   ]
  },
  {
   "cell_type": "code",
   "execution_count": null,
   "id": "fcf1e550",
   "metadata": {},
   "outputs": [],
   "source": []
  },
  {
   "cell_type": "markdown",
   "id": "d499e53b",
   "metadata": {
    "ExecuteTime": {
     "end_time": "2021-12-11T12:06:12.982192Z",
     "start_time": "2021-12-11T12:06:12.963198Z"
    },
    "id": "kwvUWD7FWeno",
    "scrolled": false
   },
   "source": [
    "### Random Forest"
   ]
  },
  {
   "cell_type": "code",
   "execution_count": 320,
   "id": "6ce753b9",
   "metadata": {
    "ExecuteTime": {
     "end_time": "2021-12-14T21:10:46.400229Z",
     "start_time": "2021-12-14T21:10:46.381227Z"
    }
   },
   "outputs": [],
   "source": [
    "regr = RandomForestRegressor(max_depth=2, random_state=0)\n"
   ]
  },
  {
   "cell_type": "code",
   "execution_count": 321,
   "id": "m70fPHVeI4YA",
   "metadata": {
    "ExecuteTime": {
     "end_time": "2021-12-14T21:11:00.912170Z",
     "start_time": "2021-12-14T21:10:46.412225Z"
    },
    "colab": {
     "base_uri": "https://localhost:8080/"
    },
    "id": "m70fPHVeI4YA",
    "outputId": "f206d1a3-8b25-457b-b0fe-c945874f3c03",
    "scrolled": false
   },
   "outputs": [
    {
     "name": "stdout",
     "output_type": "stream",
     "text": [
      "---Time taken to fit Model:  14.462944746017456 seconds ---\n"
     ]
    }
   ],
   "source": [
    "\n",
    "start_time = time.time()\n",
    "regr.fit(X_train, y_train)\n",
    "print(\"---Time taken to fit Model:  %s seconds ---\" % (time.time() - start_time))\n"
   ]
  },
  {
   "cell_type": "code",
   "execution_count": 322,
   "id": "VZAidFj_Q_QW",
   "metadata": {
    "ExecuteTime": {
     "end_time": "2021-12-14T21:11:01.319169Z",
     "start_time": "2021-12-14T21:11:00.934168Z"
    },
    "id": "VZAidFj_Q_QW",
    "scrolled": false
   },
   "outputs": [],
   "source": [
    "y_pred=regr.predict(X_test)"
   ]
  },
  {
   "cell_type": "code",
   "execution_count": 323,
   "id": "BgSasn7LRAl9",
   "metadata": {
    "ExecuteTime": {
     "end_time": "2021-12-14T21:11:01.984210Z",
     "start_time": "2021-12-14T21:11:01.328168Z"
    },
    "colab": {
     "base_uri": "https://localhost:8080/"
    },
    "id": "BgSasn7LRAl9",
    "outputId": "931e19e6-d742-401c-df3b-2b55696042f8",
    "scrolled": false
   },
   "outputs": [
    {
     "data": {
      "text/plain": [
       "0.6923263992260844"
      ]
     },
     "execution_count": 323,
     "metadata": {},
     "output_type": "execute_result"
    }
   ],
   "source": [
    "regr.score(X_test, y_test)\n",
    "\n",
    "accuracy = regr.score(X_test, y_test)\n",
    "Models.append(['Random Forest',accuracy])\n",
    "accuracy"
   ]
  },
  {
   "cell_type": "code",
   "execution_count": 324,
   "id": "4604bdd4",
   "metadata": {
    "ExecuteTime": {
     "end_time": "2021-12-14T21:11:02.903175Z",
     "start_time": "2021-12-14T21:11:02.003167Z"
    }
   },
   "outputs": [
    {
     "data": {
      "text/plain": [
       "array([[ 7242,   912,     0,     0,     0],\n",
       "       [ 5227, 13855,   210,     0,     0],\n",
       "       [    5,  3021,  2855,    41,     0],\n",
       "       [    0,    47,   752,   945,     0],\n",
       "       [    0,     1,    67,   703,     0]], dtype=int64)"
      ]
     },
     "execution_count": 324,
     "metadata": {},
     "output_type": "execute_result"
    }
   ],
   "source": [
    "# performing predictions on the test datdaset\n",
    "pred = regr.predict(X_test)\n",
    "prediction = list(map(round, pred))\n",
    "cm_regr=confusion_matrix(y_test, prediction)\n",
    "cm_regr"
   ]
  },
  {
   "cell_type": "code",
   "execution_count": 325,
   "id": "cef8c1e7",
   "metadata": {
    "ExecuteTime": {
     "end_time": "2021-12-14T21:11:04.061166Z",
     "start_time": "2021-12-14T21:11:02.912174Z"
    }
   },
   "outputs": [
    {
     "name": "stdout",
     "output_type": "stream",
     "text": [
      "Random Forest Confusion Matrix with labels\n",
      "\n",
      "\n"
     ]
    },
    {
     "data": {
      "image/png": "[encoded data removed]",
      "text/plain": [
       "<Figure size 432x288 with 2 Axes>"
      ]
     },
     "metadata": {
      "needs_background": "light"
     },
     "output_type": "display_data"
    }
   ],
   "source": [
    "print('Random Forest Confusion Matrix with labels\\n\\n');\n",
    "\n",
    "dictsplay_labels=y.unique()\n",
    "\n",
    "disp = ConfusionMatrixDisplay(confusion_matrix=cm_regr, display_labels=dictsplay_labels)\n",
    "\n",
    "disp = disp.plot()\n",
    "\n",
    "plt.show()\n"
   ]
  },
  {
   "cell_type": "code",
   "execution_count": 326,
   "id": "b5fQQC8hepgZ",
   "metadata": {
    "ExecuteTime": {
     "end_time": "2021-12-14T21:11:04.149172Z",
     "start_time": "2021-12-14T21:11:04.072168Z"
    },
    "colab": {
     "base_uri": "https://localhost:8080/"
    },
    "id": "b5fQQC8hepgZ",
    "outputId": "e7fa48ef-61a6-4b72-a2b9-8f97a377f99e",
    "scrolled": false
   },
   "outputs": [
    {
     "name": "stdout",
     "output_type": "stream",
     "text": [
      "Variable: BLDG_VALUE_bins      Importance: 1.0\n",
      "Variable: KITCHEN              Importance: 0.0\n",
      "Variable: CITY                 Importance: 0.0\n",
      "Variable: BLDG_TYPE            Importance: 0.0\n",
      "Variable: EXT_FINISHED         Importance: 0.0\n",
      "Variable: EXT_COND             Importance: 0.0\n",
      "Variable: BTHRM_STYLE1         Importance: 0.0\n",
      "Variable: KITCHEN_TYPE         Importance: 0.0\n",
      "Variable: HEAT_TYPE            Importance: 0.0\n",
      "Variable: AC_TYPE              Importance: 0.0\n"
     ]
    }
   ],
   "source": [
    "importances = list(regr.feature_importances_)\n",
    "feature_importances = [(feature, round(importance, 2)) for feature, importance in zip(X_train.columns, importances)]\n",
    "feature_importances = sorted(feature_importances, key = lambda X_train: X_train[1], reverse = True) \n",
    "[print('Variable: {:20} Importance: {}'.format(*pair)) for pair in feature_importances];"
   ]
  },
  {
   "cell_type": "code",
   "execution_count": 327,
   "id": "038f313a",
   "metadata": {
    "ExecuteTime": {
     "end_time": "2021-12-14T21:16:32.963477Z",
     "start_time": "2021-12-14T21:11:04.156166Z"
    }
   },
   "outputs": [
    {
     "data": {
      "text/plain": [
       "array(['KITCHEN', 'CITY', 'BLDG_VALUE_bins'], dtype=object)"
      ]
     },
     "execution_count": 327,
     "metadata": {},
     "output_type": "execute_result"
    }
   ],
   "source": [
    "## Extracting the best features from the modle using Stepwise Selection\n",
    "\n",
    "sfs = SequentialFeatureSelector(regr, n_features_to_select=3)\n",
    "sfs.fit(X_train, y_train)\n",
    "sfs.get_feature_names_out()"
   ]
  },
  {
   "cell_type": "markdown",
   "id": "46b53e59",
   "metadata": {
    "ExecuteTime": {
     "end_time": "2021-12-11T12:06:22.139758Z",
     "start_time": "2021-12-11T12:06:18.503Z"
    },
    "id": "uP9vGLwnhI8Y",
    "scrolled": false
   },
   "source": [
    "#### LightGBM Regression\n"
   ]
  },
  {
   "cell_type": "code",
   "execution_count": null,
   "id": "CdFw2upGibtb",
   "metadata": {
    "id": "CdFw2upGibtb",
    "scrolled": false
   },
   "outputs": [],
   "source": []
  },
  {
   "cell_type": "code",
   "execution_count": 328,
   "id": "JF8g2cJQibzl",
   "metadata": {
    "ExecuteTime": {
     "end_time": "2021-12-14T21:16:35.147480Z",
     "start_time": "2021-12-14T21:16:32.987481Z"
    },
    "id": "JF8g2cJQibzl",
    "scrolled": false
   },
   "outputs": [
    {
     "name": "stdout",
     "output_type": "stream",
     "text": [
      "---Time taken to fit Model:  2.1139883995056152 seconds ---\n"
     ]
    }
   ],
   "source": [
    "start_time = time.time()\n",
    "lgb_model = LGBMRegressor(subsample=0.9).fit(X_train, y_train)\n",
    "print(\"---Time taken to fit Model:  %s seconds ---\" % (time.time() - start_time))\n",
    "\n",
    "#best_params = lgb_random.best_params_\n",
    "#print(best_params)"
   ]
  },
  {
   "cell_type": "code",
   "execution_count": 329,
   "id": "IpeqM2dKib7E",
   "metadata": {
    "ExecuteTime": {
     "end_time": "2021-12-14T21:16:35.981483Z",
     "start_time": "2021-12-14T21:16:35.157482Z"
    },
    "colab": {
     "base_uri": "https://localhost:8080/"
    },
    "id": "IpeqM2dKib7E",
    "outputId": "86897a59-538d-40cb-a915-c3f60b9d301c",
    "scrolled": false
   },
   "outputs": [
    {
     "data": {
      "text/plain": [
       "0.8649300695456648"
      ]
     },
     "execution_count": 329,
     "metadata": {},
     "output_type": "execute_result"
    }
   ],
   "source": [
    "\n",
    "accuracy = lgb_model.score(X_train, y_train)\n",
    "Models.append(['LightGBM',accuracy]) # LightGBM Regression accuracy\n",
    "accuracy"
   ]
  },
  {
   "cell_type": "code",
   "execution_count": null,
   "id": "b2c280b5",
   "metadata": {},
   "outputs": [],
   "source": []
  },
  {
   "cell_type": "code",
   "execution_count": 330,
   "id": "e7c1ad33",
   "metadata": {
    "ExecuteTime": {
     "end_time": "2021-12-14T21:16:36.497485Z",
     "start_time": "2021-12-14T21:16:35.989482Z"
    }
   },
   "outputs": [],
   "source": [
    "# performing predictions on the test datdaset\n",
    "pred = lgb_model.predict(X_test)\n",
    "prediction = list(map(round, pred))\n"
   ]
  },
  {
   "cell_type": "code",
   "execution_count": 331,
   "id": "bcb9a024",
   "metadata": {
    "ExecuteTime": {
     "end_time": "2021-12-14T21:16:36.726482Z",
     "start_time": "2021-12-14T21:16:36.507483Z"
    }
   },
   "outputs": [
    {
     "name": "stdout",
     "output_type": "stream",
     "text": [
      "== LightGBM Regression ==\n",
      "Confusion Matrix : \n",
      " [[ 6179  1971     4     0     0]\n",
      " [  463 18056   773     0     0]\n",
      " [    0  1377  4213   332     0]\n",
      " [    0     4   188  1498    54]\n",
      " [    0     0     2    69   700]]\n",
      "Mean Squared Error =  0.14678259900231308\n"
     ]
    }
   ],
   "source": [
    "# confusion matrix\n",
    "cm = confusion_matrix(y_test, prediction)\n",
    "print(\"== LightGBM Regression ==\")\n",
    "print (\"Confusion Matrix : \\n\", cm)\n",
    "\n",
    "# accuracy score of the model\n",
    "print('Mean Squared Error = ', mean_squared_error(y_test, prediction))"
   ]
  },
  {
   "cell_type": "code",
   "execution_count": 332,
   "id": "4eeac6ae",
   "metadata": {
    "ExecuteTime": {
     "end_time": "2021-12-14T21:16:37.393479Z",
     "start_time": "2021-12-14T21:16:36.734484Z"
    }
   },
   "outputs": [
    {
     "name": "stdout",
     "output_type": "stream",
     "text": [
      "LightGBM Regression Confusion Matrix with labels\n",
      "\n",
      "\n"
     ]
    },
    {
     "data": {
      "image/png": "[encoded data removed]",
      "text/plain": [
       "<Figure size 432x288 with 2 Axes>"
      ]
     },
     "metadata": {
      "needs_background": "light"
     },
     "output_type": "display_data"
    }
   ],
   "source": [
    "print('LightGBM Regression Confusion Matrix with labels\\n\\n');\n",
    "\n",
    "dictsplay_labels=y.unique()\n",
    "\n",
    "disp = ConfusionMatrixDisplay(confusion_matrix=cm, display_labels=dictsplay_labels)\n",
    "\n",
    "disp = disp.plot()\n",
    "\n",
    "plt.show()\n"
   ]
  },
  {
   "cell_type": "code",
   "execution_count": 333,
   "id": "w_03Hk0e4jDQ",
   "metadata": {
    "ExecuteTime": {
     "end_time": "2021-12-14T21:16:37.439482Z",
     "start_time": "2021-12-14T21:16:37.404486Z"
    },
    "colab": {
     "base_uri": "https://localhost:8080/"
    },
    "id": "w_03Hk0e4jDQ",
    "outputId": "a01c0139-fa9f-4512-d099-3a2afa330449",
    "scrolled": false
   },
   "outputs": [
    {
     "name": "stdout",
     "output_type": "stream",
     "text": [
      "Variable: CITY                 Importance: 864\n",
      "Variable: BLDG_TYPE            Importance: 495\n",
      "Variable: BLDG_VALUE_bins      Importance: 348\n",
      "Variable: KITCHEN_TYPE         Importance: 341\n",
      "Variable: EXT_FINISHED         Importance: 261\n",
      "Variable: BTHRM_STYLE1         Importance: 185\n",
      "Variable: KITCHEN              Importance: 176\n",
      "Variable: EXT_COND             Importance: 162\n",
      "Variable: HEAT_TYPE            Importance: 87\n",
      "Variable: AC_TYPE              Importance: 81\n"
     ]
    }
   ],
   "source": [
    "lgb_model.feature_importances_\n",
    "\n",
    "importances = list(lgb_model.feature_importances_)\n",
    "feature_importances = [(feature, round(importance, 2)) for feature, importance in zip(X_train.columns, importances)]\n",
    "feature_importances = sorted(feature_importances, key = lambda X_train: X_train[1], reverse = True) \n",
    "[print('Variable: {:20} Importance: {}'.format(*pair)) for pair in feature_importances];"
   ]
  },
  {
   "cell_type": "code",
   "execution_count": 334,
   "id": "1e0ca797",
   "metadata": {
    "ExecuteTime": {
     "end_time": "2021-12-14T21:19:30.948803Z",
     "start_time": "2021-12-14T21:16:37.447481Z"
    }
   },
   "outputs": [
    {
     "data": {
      "text/plain": [
       "array(['CITY', 'KITCHEN_TYPE', 'BLDG_VALUE_bins'], dtype=object)"
      ]
     },
     "execution_count": 334,
     "metadata": {},
     "output_type": "execute_result"
    }
   ],
   "source": [
    "## Extracting the best features from the modle using Stepwise Selection\n",
    "\n",
    "sfs = SequentialFeatureSelector(lgb_model, n_features_to_select=3)\n",
    "sfs.fit(X_train, y_train)\n",
    "sfs.get_feature_names_out()"
   ]
  },
  {
   "cell_type": "markdown",
   "id": "7e99c025",
   "metadata": {
    "id": "CNErPJhI4jNw",
    "scrolled": false
   },
   "source": [
    "### Model Regularization for Stable Sample Rollouts"
   ]
  },
  {
   "cell_type": "markdown",
   "id": "f4cb4c50",
   "metadata": {
    "ExecuteTime": {
     "end_time": "2021-12-11T12:06:31.552309Z",
     "start_time": "2021-12-11T12:06:31.541311Z"
    },
    "id": "ksa8X1W8icBv",
    "scrolled": false
   },
   "source": [
    "#### Ridge regression\n"
   ]
  },
  {
   "cell_type": "code",
   "execution_count": 335,
   "id": "t_V8WuotmzmA",
   "metadata": {
    "ExecuteTime": {
     "end_time": "2021-12-14T21:19:31.100801Z",
     "start_time": "2021-12-14T21:19:30.977805Z"
    },
    "id": "t_V8WuotmzmA",
    "scrolled": false
   },
   "outputs": [
    {
     "name": "stdout",
     "output_type": "stream",
     "text": [
      "---Time taken to fit Model:  0.10599923133850098 seconds ---\n"
     ]
    }
   ],
   "source": [
    "start_time = time.time()\n",
    "ridge = Ridge(alpha=1.0).fit(X_train, y_train)\n",
    "print(\"---Time taken to fit Model:  %s seconds ---\" % (time.time() - start_time))"
   ]
  },
  {
   "cell_type": "code",
   "execution_count": 336,
   "id": "aTZSbMlUmzr2",
   "metadata": {
    "ExecuteTime": {
     "end_time": "2021-12-14T21:19:31.180802Z",
     "start_time": "2021-12-14T21:19:31.111804Z"
    },
    "id": "aTZSbMlUmzr2",
    "scrolled": false
   },
   "outputs": [
    {
     "data": {
      "text/plain": [
       "0.7867036335532573"
      ]
     },
     "execution_count": 336,
     "metadata": {},
     "output_type": "execute_result"
    }
   ],
   "source": [
    "\n",
    "\n",
    "accuracy = ridge.score(X_train, y_train)\n",
    "Models.append(['Ridge Regression',accuracy])# Ridge Regression accuracy\n",
    "accuracy\n"
   ]
  },
  {
   "cell_type": "code",
   "execution_count": 337,
   "id": "A11_HQdGofEg",
   "metadata": {
    "ExecuteTime": {
     "end_time": "2021-12-14T21:19:34.391347Z",
     "start_time": "2021-12-14T21:19:31.192804Z"
    },
    "colab": {
     "base_uri": "https://localhost:8080/"
    },
    "id": "A11_HQdGofEg",
    "outputId": "5c28101e-613b-40d3-b1f1-c38d8af59ef9",
    "scrolled": false
   },
   "outputs": [
    {
     "data": {
      "text/plain": [
       "array(['KITCHEN_TYPE', 'BLDG_VALUE_bins'], dtype=object)"
      ]
     },
     "execution_count": 337,
     "metadata": {},
     "output_type": "execute_result"
    }
   ],
   "source": [
    "## Extracting the best features from the modle using Stepwise Selection\n",
    "sfs = SequentialFeatureSelector(ridge, n_features_to_select=2)\n",
    "sfs.fit(X_train, y_train)\n",
    "sfs.get_feature_names_out()"
   ]
  },
  {
   "cell_type": "markdown",
   "id": "15cdc760",
   "metadata": {
    "colab": {
     "base_uri": "https://localhost:8080/"
    },
    "id": "ky4SleV54_O8",
    "outputId": "303c7753-53ef-4627-d52f-47f29bfbfefc",
    "scrolled": false
   },
   "source": [
    "#### Lasso regression\n"
   ]
  },
  {
   "cell_type": "code",
   "execution_count": 338,
   "id": "79c07ea7",
   "metadata": {
    "ExecuteTime": {
     "end_time": "2021-12-14T21:19:34.612339Z",
     "start_time": "2021-12-14T21:19:34.414346Z"
    },
    "colab": {
     "base_uri": "https://localhost:8080/"
    },
    "id": "1ewtxCgPofMo",
    "outputId": "d5fb7b0b-78c4-461d-8e05-43f6fe89aab6"
   },
   "outputs": [
    {
     "name": "stdout",
     "output_type": "stream",
     "text": [
      "---Time taken to fit Model:  0.14200115203857422 seconds ---\n"
     ]
    }
   ],
   "source": [
    "start_time = time.time()\n",
    "lasso = Lasso(alpha=0.01).fit(X_train, y_train) \n",
    "print(\"---Time taken to fit Model:  %s seconds ---\" % (time.time() - start_time))\n",
    "pred_train_lasso = lasso.predict(X_train)"
   ]
  },
  {
   "cell_type": "code",
   "execution_count": 339,
   "id": "1ewtxCgPofMo",
   "metadata": {
    "ExecuteTime": {
     "end_time": "2021-12-14T21:19:34.731339Z",
     "start_time": "2021-12-14T21:19:34.624344Z"
    },
    "colab": {
     "base_uri": "https://localhost:8080/"
    },
    "id": "1ewtxCgPofMo",
    "outputId": "d5fb7b0b-78c4-461d-8e05-43f6fe89aab6",
    "scrolled": false
   },
   "outputs": [
    {
     "data": {
      "text/plain": [
       "0.7859086926156238"
      ]
     },
     "execution_count": 339,
     "metadata": {},
     "output_type": "execute_result"
    }
   ],
   "source": [
    "\n",
    "accuracy = lasso.score(X_train, y_train)\n",
    "Models.append(['Lasso Regression',accuracy]) # Lasso Regression\n",
    "accuracy\n"
   ]
  },
  {
   "cell_type": "code",
   "execution_count": 340,
   "id": "85caf985",
   "metadata": {
    "ExecuteTime": {
     "end_time": "2021-12-14T21:19:38.238347Z",
     "start_time": "2021-12-14T21:19:34.750341Z"
    }
   },
   "outputs": [
    {
     "data": {
      "text/plain": [
       "array(['KITCHEN_TYPE', 'BLDG_VALUE_bins'], dtype=object)"
      ]
     },
     "execution_count": 340,
     "metadata": {},
     "output_type": "execute_result"
    }
   ],
   "source": [
    "## Extracting the best features from the modle using Stepwise Selection\n",
    "\n",
    "sfs = SequentialFeatureSelector(lasso, n_features_to_select=2)\n",
    "sfs.fit(X_train, y_train)\n",
    "sfs.get_feature_names_out()"
   ]
  },
  {
   "cell_type": "markdown",
   "id": "49a6d878",
   "metadata": {},
   "source": [
    "### Model Comparison"
   ]
  },
  {
   "cell_type": "code",
   "execution_count": 341,
   "id": "lf5-TERL7KpB",
   "metadata": {
    "ExecuteTime": {
     "end_time": "2021-12-14T21:19:38.369344Z",
     "start_time": "2021-12-14T21:19:38.257345Z"
    },
    "colab": {
     "base_uri": "https://localhost:8080/"
    },
    "id": "lf5-TERL7KpB",
    "outputId": "4f0fef22-62de-47e5-b400-a6cfe3a21487",
    "scrolled": false
   },
   "outputs": [
    {
     "data": {
      "text/html": [
       "<div>\n",
       "<style scoped>\n",
       "    .dataframe tbody tr th:only-of-type {\n",
       "        vertical-align: middle;\n",
       "    }\n",
       "\n",
       "    .dataframe tbody tr th {\n",
       "        vertical-align: top;\n",
       "    }\n",
       "\n",
       "    .dataframe thead th {\n",
       "        text-align: right;\n",
       "    }\n",
       "</style>\n",
       "<table border=\"1\" class=\"dataframe\">\n",
       "  <thead>\n",
       "    <tr style=\"text-align: right;\">\n",
       "      <th></th>\n",
       "      <th>Model</th>\n",
       "      <th>Accuracy</th>\n",
       "    </tr>\n",
       "  </thead>\n",
       "  <tbody>\n",
       "    <tr>\n",
       "      <th>2</th>\n",
       "      <td>LightGBM</td>\n",
       "      <td>0.86</td>\n",
       "    </tr>\n",
       "    <tr>\n",
       "      <th>3</th>\n",
       "      <td>Ridge Regression</td>\n",
       "      <td>0.79</td>\n",
       "    </tr>\n",
       "    <tr>\n",
       "      <th>4</th>\n",
       "      <td>Lasso Regression</td>\n",
       "      <td>0.79</td>\n",
       "    </tr>\n",
       "    <tr>\n",
       "      <th>0</th>\n",
       "      <td>Linear Regression</td>\n",
       "      <td>0.77</td>\n",
       "    </tr>\n",
       "    <tr>\n",
       "      <th>1</th>\n",
       "      <td>Random Forest</td>\n",
       "      <td>0.69</td>\n",
       "    </tr>\n",
       "  </tbody>\n",
       "</table>\n",
       "</div>"
      ],
      "text/plain": [
       "               Model  Accuracy\n",
       "2           LightGBM      0.86\n",
       "3   Ridge Regression      0.79\n",
       "4   Lasso Regression      0.79\n",
       "0  Linear Regression      0.77\n",
       "1      Random Forest      0.69"
      ]
     },
     "execution_count": 341,
     "metadata": {},
     "output_type": "execute_result"
    }
   ],
   "source": [
    "## A Table to see, AllModels Accuracy \n",
    "\n",
    "\n",
    "AllModels = pd.DataFrame(Models,columns=['Model','Accuracy'])\n",
    "\n",
    "AllModels.sort_values(by=['Accuracy'],inplace=True,ascending=False)\n",
    "AllModels"
   ]
  },
  {
   "cell_type": "code",
   "execution_count": 342,
   "id": "eZ3E_oX57tXh",
   "metadata": {
    "ExecuteTime": {
     "end_time": "2021-12-14T21:19:39.546345Z",
     "start_time": "2021-12-14T21:19:38.376344Z"
    },
    "colab": {
     "base_uri": "https://localhost:8080/"
    },
    "id": "eZ3E_oX57tXh",
    "outputId": "356f165b-5fd6-4f8a-9c84-e5285f83f3ad",
    "scrolled": false
   },
   "outputs": [
    {
     "data": {
      "text/plain": [
       "<AxesSubplot:xlabel='Accuracy', ylabel='Model'>"
      ]
     },
     "execution_count": 342,
     "metadata": {},
     "output_type": "execute_result"
    },
    {
     "data": {
      "image/png": "[encoded data removed]",
      "text/plain": [
       "<Figure size 432x288 with 1 Axes>"
      ]
     },
     "metadata": {
      "needs_background": "light"
     },
     "output_type": "display_data"
    }
   ],
   "source": [
    "## A Bar plot to see, AllModels Accuracy \n",
    "\n",
    "sns.barplot(data=AllModels, x='Accuracy', y='Model')"
   ]
  },
  {
   "cell_type": "code",
   "execution_count": null,
   "id": "1e00c618",
   "metadata": {
    "ExecuteTime": {
     "end_time": "2021-12-14T18:54:54.659330Z",
     "start_time": "2021-12-14T18:54:54.628351Z"
    }
   },
   "outputs": [],
   "source": []
  },
  {
   "cell_type": "code",
   "execution_count": null,
   "id": "cef47be4",
   "metadata": {},
   "outputs": [],
   "source": []
  },
  {
   "cell_type": "code",
   "execution_count": null,
   "id": "adf07eef",
   "metadata": {},
   "outputs": [],
   "source": []
  },
  {
   "cell_type": "code",
   "execution_count": null,
   "id": "efafe2b8",
   "metadata": {},
   "outputs": [],
   "source": []
  },
  {
   "cell_type": "code",
   "execution_count": null,
   "id": "3d55321e",
   "metadata": {},
   "outputs": [],
   "source": []
  },
  {
   "cell_type": "code",
   "execution_count": null,
   "id": "145bbd81",
   "metadata": {},
   "outputs": [],
   "source": []
  },
  {
   "cell_type": "code",
   "execution_count": null,
   "id": "e5b08e71",
   "metadata": {},
   "outputs": [],
   "source": []
  }
 ],
 "metadata": {
  "kernelspec": {
   "display_name": "Python 3",
   "language": "python",
   "name": "python3"
  },
  "language_info": {
   "codemirror_mode": {
    "name": "ipython",
    "version": 3
   },
   "file_extension": ".py",
   "mimetype": "text/x-python",
   "name": "python",
   "nbconvert_exporter": "python",
   "pygments_lexer": "ipython3",
   "version": "3.8.10"
  },
  "latex_envs": {
   "LaTeX_envs_menu_present": true,
   "autoclose": true,
   "autocomplete": true,
   "bibliofile": "biblio.bib",
   "cite_by": "apalike",
   "current_citInitial": 1,
   "eqLabelWithNumbers": true,
   "eqNumInitial": 1,
   "hotkeys": {
    "equation": "Ctrl-E",
    "itemize": "Ctrl-I"
   },
   "labels_anchors": false,
   "latex_user_defs": false,
   "report_style_numbering": false,
   "user_envs_cfg": false
  },
  "varInspector": {
   "cols": {
    "lenName": 16,
    "lenType": 16,
    "lenVar": 40
   },
   "kernels_config": {
    "python": {
     "delete_cmd_postfix": "",
     "delete_cmd_prefix": "del ",
     "library": "var_list.py",
     "varRefreshCmd": "print(var_dic_list())"
    },
    "r": {
     "delete_cmd_postfix": ") ",
     "delete_cmd_prefix": "rm(",
     "library": "var_list.r",
     "varRefreshCmd": "cat(var_dic_list()) "
    }
   },
   "types_to_exclude": [
    "module",
    "function",
    "builtin_function_or_method",
    "instance",
    "_Feature"
   ],
   "window_display": false
  }
 },
 "nbformat": 4,
 "nbformat_minor": 5
}
